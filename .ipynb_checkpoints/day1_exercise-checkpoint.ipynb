{
 "cells": [
  {
   "cell_type": "markdown",
   "metadata": {},
   "source": [
    "# Exercise 1.1: Command line exercises\n",
    "\n",
    "a) \n",
    "\n",
    "ls -F appends a character revealing the nature of a file, for example, * for an executable, or / for a directory. Regular files have no suffix.\n",
    "ls -G    # Might not be as cool with Git Bash on Windows\n",
    "ls -l   # lists all contents of a directory in long format\n",
    "ls -lh  文件详细列表中的文件大小以更友好的形式列出\n",
    "ls -lS  list with long format with file size\n",
    "ls -FGLh  ??\n",
    "\n",
    "ls -a  Normally, files that begin with a dot (.) are omitted when listing things. They are also generally omitted when you use your OS's GUI-based file handling system (like Finder on Macs). To see them, use ls -a. \n",
    "\n",
    "ls -t orders files and directories by the time they were last modified.\n",
    "ls -R\t递归显示文件夹中的内容\n",
    "ls -g\tDisplays the long format listing, but exclude the owner name.\n",
    "\n",
    "b) The nuclear option to delete everything in a directory is rm -rf. The r means to delete recursively, and the f means to \"force\" deletion. Don't try.\n",
    "\n",
    "c) \n",
    "ls /\n",
    "What is /? :系统硬盘 内有操作系统等\n",
    "\n",
    "# Exercise 1.2: Making your .bashrc file\n"
   ]
  },
  {
   "cell_type": "code",
   "execution_count": 18,
   "metadata": {},
   "outputs": [],
   "source": [
    "# 1.3 Using string methods\n",
    "# a)\n",
    "def rev_a(seq):\n",
    "    rev_seq=''\n",
    "    for i in range(1,len(seq)+1):\n",
    "        rev_seq+=seq[-i]\n",
    "    return rev_seq\n",
    "\n",
    "def complement_base(base, material='DNA'):   # means by default is \"DNA\"\n",
    "    \"\"\"Returns the W-Crick complement of a base\"\"\"\n",
    "    if base in 'Aa':\n",
    "        if material == 'DNA':\n",
    "            return 'T'\n",
    "        elif material == 'RNA':\n",
    "            return 'U'\n",
    "    elif base in 'UuTt':\n",
    "        return 'A'\n",
    "    elif base in 'Gg':\n",
    "        return 'C'      \n",
    "    else:\n",
    "        return 'G'\n",
    "    \n",
    "def reverse_complement(seq,material='DNA'):\n",
    "    \"\"\"computes reverse complement of a DNA sequence.\"\"\"\n",
    "    # Initialize rverse complement\n",
    "    rev_seq=''   \n",
    "    # Loop through and populate rev.compl\n",
    "    for base in rev_a (seq):\n",
    "        rev_seq+=complement_base(base,material = material)\n",
    "    return rev_seq"
   ]
  },
  {
   "cell_type": "code",
   "execution_count": 19,
   "metadata": {},
   "outputs": [
    {
     "name": "stdout",
     "output_type": "stream",
     "text": [
      "AGGCTAGCCAAT\n"
     ]
    }
   ],
   "source": [
    "seq='ATTGGCTAGCCT'\n",
    "print(reverse_complement(seq))"
   ]
  },
  {
   "cell_type": "code",
   "execution_count": 16,
   "metadata": {},
   "outputs": [],
   "source": [
    "#b)\n",
    "def rev_b(seq):\n",
    "    rev_seq=seq[::-1]\n",
    "    return rev_seq\n",
    "\n",
    "def reverse_complement(seq, material='DNA'):   # means by default is \"DNA\"\n",
    "    \"\"\"computes reverse complement of a DNA sequence.\"\"\"\n",
    "    seq=rev_b(seq)\n",
    "    seq.upper()\n",
    "    seq.replace('A','X') \n",
    "    if material == 'DNA':\n",
    "        seq.replace('T','A') \n",
    "        seq.replace('X','T') \n",
    "    elif material == 'RNA':\n",
    "        seq.replace('U','A') \n",
    "        seq.replace('X','U')\n",
    "    \n",
    "    seq.replace('C','X')\n",
    "    seq.replace('G','C')\n",
    "    seq.replace('X','G')\n",
    " \n",
    "    return seq"
   ]
  },
  {
   "cell_type": "code",
   "execution_count": 21,
   "metadata": {},
   "outputs": [
    {
     "name": "stdout",
     "output_type": "stream",
     "text": [
      "AGGCTAGCCAAT\n"
     ]
    }
   ],
   "source": [
    "print(reverse_complement(seq))"
   ]
  },
  {
   "cell_type": "code",
   "execution_count": 13,
   "metadata": {},
   "outputs": [
    {
     "ename": "SyntaxError",
     "evalue": "unexpected EOF while parsing (<ipython-input-13-895b24e9bdb1>, line 27)",
     "output_type": "error",
     "traceback": [
      "\u001b[0;36m  File \u001b[0;32m\"<ipython-input-13-895b24e9bdb1>\"\u001b[0;36m, line \u001b[0;32m27\u001b[0m\n\u001b[0;31m    \u001b[0m\n\u001b[0m    ^\u001b[0m\n\u001b[0;31mSyntaxError\u001b[0m\u001b[0;31m:\u001b[0m unexpected EOF while parsing\n"
     ]
    }
   ],
   "source": [
    "# 1.4:  Longest common substring\n",
    "# bad idea\n",
    "def compare(seq1,seq2):\n",
    "    \"\"\"shorter:0, longer:1\"\"\"\n",
    "    if len(seq1)<=len(seq2):\n",
    "        return seq1,seq2\n",
    "    else:\n",
    "        return seq2,seq1\n",
    "    \n",
    "def traverse(start,shorter_seq,longer_seq):\n",
    "    \"\"\"start,shorter_seq,longer_seq\"\"\"\n",
    "    common=0\n",
    "    for i in range(len(longer_seq)): \n",
    "        if shorter_seq[start]==longer_seq[i]:\n",
    "            common+=1\n",
    "            for j in range(len(shorter_seq)-start): \n",
    "                if shorter_seq[start+j]==longer_seq[i+j]:\n",
    "                    common+=1\n",
    "                else:\n",
    "                    break\n",
    "    return common\n",
    "            \n",
    "def common(seq1,seq2):\n",
    "    shorter_seq=compare(seq1,seq2)[0]\n",
    "    longer_seq=compare(seq1,seq2)[1]\n",
    "    for n in range ():\n",
    "            "
   ]
  },
  {
   "cell_type": "code",
   "execution_count": 14,
   "metadata": {},
   "outputs": [],
   "source": [
    "def compare_len(seq1,seq2):\n",
    "    \"\"\"shorter:0, longer:1\"\"\"\n",
    "    if len(seq1)<=len(seq2):\n",
    "        return seq1,seq2\n",
    "    else:\n",
    "        return seq2,seq1\n",
    "    \n",
    "def downsize(shorter_seq,longer_seq):\n",
    "    l=len(shorter_seq)\n",
    "    for i in reversed(range(1,l+1)):\n",
    "        for j in range(l-i):\n",
    "            baseline=shorter_seq[j:j+i+1]\n",
    "            if (baseline in longer_seq):\n",
    "                print('common part is '+str(shorter_seq[j:j+i+1]))           \n",
    "                return i\n",
    "                break\n",
    "\n",
    "def common(seq1,seq2):\n",
    "    shorter_seq=compare_len(seq1,seq2)[0]\n",
    "    longer_seq=compare_len(seq1,seq2)[1]\n",
    "    return downsize(shorter_seq,longer_seq)"
   ]
  },
  {
   "cell_type": "code",
   "execution_count": 15,
   "metadata": {},
   "outputs": [
    {
     "name": "stdout",
     "output_type": "stream",
     "text": [
      "common part is 234\n"
     ]
    },
    {
     "data": {
      "text/plain": [
       "2"
      ]
     },
     "execution_count": 15,
     "metadata": {},
     "output_type": "execute_result"
    }
   ],
   "source": [
    "seq2='1234567'\n",
    "seq1='6234'\n",
    "\n",
    "common(seq1,seq2)"
   ]
  },
  {
   "cell_type": "code",
   "execution_count": 8,
   "metadata": {},
   "outputs": [],
   "source": [
    "# 1.5 RNA secondary structure validator\n",
    "# a)\n",
    "def paren_check(paren):\n",
    "    n_open=paren.count('(')\n",
    "    n_close=paren.count(')')\n",
    "    return n_open==n_close"
   ]
  },
  {
   "cell_type": "code",
   "execution_count": 9,
   "metadata": {},
   "outputs": [
    {
     "data": {
      "text/plain": [
       "False"
      ]
     },
     "execution_count": 9,
     "metadata": {},
     "output_type": "execute_result"
    }
   ],
   "source": [
    "paren='(((..)..)))'\n",
    "paren_check(paren)"
   ]
  },
  {
   "cell_type": "code",
   "execution_count": 23,
   "metadata": {},
   "outputs": [],
   "source": [
    "# b)\n",
    "\n",
    "# a.pop() removes and returns the last item in the list\n",
    "if not parens_count(struc):\n",
    "        print('Error in input structure.')\n",
    "        return False\n",
    "    \n",
    "    # Initialize list of open parens and list of base pairs\n",
    "    open_parens = []\n",
    "    bps = []\n",
    "    \n",
    "    # Scan through string\n",
    "    for i, x in enumerate(struc):\n",
    "        if x == '(':\n",
    "            open_parens.append(i)\n",
    "        elif x == ')':\n",
    "            if len(open_parens) > 0:\n",
    "                bps.append((open_parens.pop(), i))\n",
    "            else:\n",
    "                print('Error in input structure.')\n",
    "                return False\n",
    "\n",
    "    # Return the result as a tuple\n",
    "    return tuple(sorted(bps))\n",
    "        "
   ]
  },
  {
   "cell_type": "code",
   "execution_count": 16,
   "metadata": {},
   "outputs": [],
   "source": [
    "# c)\n",
    "\n",
    "def hairpin_check(bps):\n",
    "    \"\"\"Check to make sure no hairpins are too short.\"\"\"\n",
    "    for bp in bps:\n",
    "        if bp[1] - bp[0] < 4:\n",
    "            print('A hairpin is too short.')\n",
    "            return False\n",
    "        \n",
    "    # Everything checks out\n",
    "    return True"
   ]
  },
  {
   "cell_type": "code",
   "execution_count": null,
   "metadata": {},
   "outputs": [],
   "source": [
    "# d)\n",
    "\n",
    "def rna_ss_validator(seq, sec_struc, wobble=True):\n",
    "    \"\"\"Validate and RNA structure\"\"\"\n",
    "\n",
    "    # Convert structure to base pairs\n",
    "    bps = dot_parens_to_bp(sec_struc)\n",
    "    \n",
    "    # If this failed, the structure was invalid\n",
    "    if not bps:\n",
    "        return False\n",
    "    \n",
    "    # Do the hairpin check\n",
    "    if not hairpin_check(bps):\n",
    "        return False\n",
    "    \n",
    "    # Possible base pairs\n",
    "    if wobble:\n",
    "        ok_bps = ('gc', 'cg', 'au', 'ua', 'gu', 'ug')\n",
    "    else:\n",
    "        ok_bps = ('gc', 'cg', 'au', 'ua')\n",
    "\n",
    "    # Check complementarity\n",
    "    for bp in bps:\n",
    "        bp_str = (seq[bp[0]] + seq[bp[1]]).lower()\n",
    "        if bp_str not in ok_bps:\n",
    "            print('Invalid base pair.')\n",
    "            return False\n",
    "        \n",
    "    # Everything passed\n",
    "    return True"
   ]
  }
 ],
 "metadata": {
  "kernelspec": {
   "display_name": "Python 3",
   "language": "python",
   "name": "python3"
  },
  "language_info": {
   "codemirror_mode": {
    "name": "ipython",
    "version": 3
   },
   "file_extension": ".py",
   "mimetype": "text/x-python",
   "name": "python",
   "nbconvert_exporter": "python",
   "pygments_lexer": "ipython3",
   "version": "3.6.5"
  }
 },
 "nbformat": 4,
 "nbformat_minor": 2
}
