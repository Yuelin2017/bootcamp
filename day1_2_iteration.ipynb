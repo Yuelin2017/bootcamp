{
 "cells": [
  {
   "cell_type": "code",
   "execution_count": 9,
   "metadata": {},
   "outputs": [],
   "source": [
    "# iterable"
   ]
  },
  {
   "cell_type": "code",
   "execution_count": 9,
   "metadata": {},
   "outputs": [
    {
     "name": "stdout",
     "output_type": "stream",
     "text": [
      "nops\n",
      "---\n",
      "now we have 1 bases\n",
      "---\n",
      "now we have 2 bases\n",
      "---\n",
      "nops\n",
      "---\n",
      "nops\n",
      "---\n",
      "nops\n",
      "---\n",
      "nops\n",
      "---\n",
      "nops\n",
      "---\n",
      "now we have 3 bases\n",
      "---\n",
      "now we have 4 bases\n",
      "---\n",
      "nops\n",
      "---\n",
      "nops\n",
      "---\n",
      "nops\n",
      "---\n"
     ]
    },
    {
     "data": {
      "text/plain": [
       "0.3076923076923077"
      ]
     },
     "execution_count": 9,
     "metadata": {},
     "output_type": "execute_result"
    }
   ],
   "source": [
    "seq='ACGTTTTTGCAAA'  # you can somehow treat string like a list： iterable\n",
    "n_gc=0\n",
    "len_seq=0\n",
    "\n",
    "for base in seq:\n",
    "    len_seq+=1\n",
    "    if base in 'GgCc':\n",
    "        n_gc+=1\n",
    "        print('now we have '+str(n_gc)+' bases')\n",
    "    else:\n",
    "        print('nops')\n",
    "    print(\"---\")\n",
    "        \n",
    "n_gc/len_seq"
   ]
  },
  {
   "cell_type": "code",
   "execution_count": 10,
   "metadata": {},
   "outputs": [],
   "source": [
    "my_list=[1,2,3,4,5]"
   ]
  },
  {
   "cell_type": "code",
   "execution_count": 11,
   "metadata": {},
   "outputs": [],
   "source": [
    "my_list[0]*=2"
   ]
  },
  {
   "cell_type": "code",
   "execution_count": 12,
   "metadata": {},
   "outputs": [
    {
     "data": {
      "text/plain": [
       "[2, 2, 3, 4, 5]"
      ]
     },
     "execution_count": 12,
     "metadata": {},
     "output_type": "execute_result"
    }
   ],
   "source": [
    "my_list"
   ]
  },
  {
   "cell_type": "code",
   "execution_count": 13,
   "metadata": {},
   "outputs": [
    {
     "data": {
      "text/plain": [
       "[2, 2, 3, 4, 5]"
      ]
     },
     "execution_count": 13,
     "metadata": {},
     "output_type": "execute_result"
    }
   ],
   "source": [
    "for n in my_list:\n",
    "    n*=2    # list 没影响\n",
    "my_list"
   ]
  },
  {
   "cell_type": "code",
   "execution_count": 14,
   "metadata": {},
   "outputs": [
    {
     "data": {
      "text/plain": [
       "[0, 1, 2, 3, 4, 5, 6, 7, 8, 9]"
      ]
     },
     "execution_count": 14,
     "metadata": {},
     "output_type": "execute_result"
    }
   ],
   "source": [
    "# range() is a iterator, cheaper in memory\n",
    "list(range(10))"
   ]
  },
  {
   "cell_type": "code",
   "execution_count": 16,
   "metadata": {},
   "outputs": [
    {
     "data": {
      "text/plain": [
       "(5, 13)"
      ]
     },
     "execution_count": 16,
     "metadata": {},
     "output_type": "execute_result"
    }
   ],
   "source": [
    "len(my_list),len(seq)"
   ]
  },
  {
   "cell_type": "code",
   "execution_count": 17,
   "metadata": {},
   "outputs": [
    {
     "data": {
      "text/plain": [
       "[4, 4, 6, 8, 10]"
      ]
     },
     "execution_count": 17,
     "metadata": {},
     "output_type": "execute_result"
    }
   ],
   "source": [
    "for i in range(len(my_list)):\n",
    "    my_list[i]*=2\n",
    "my_list"
   ]
  },
  {
   "cell_type": "code",
   "execution_count": 20,
   "metadata": {},
   "outputs": [
    {
     "name": "stdout",
     "output_type": "stream",
     "text": [
      "2 3 4 5 6 7 8 9 "
     ]
    }
   ],
   "source": [
    "for i in range (2,10):\n",
    "    print(i,end=' ')"
   ]
  },
  {
   "cell_type": "code",
   "execution_count": 21,
   "metadata": {},
   "outputs": [
    {
     "name": "stdout",
     "output_type": "stream",
     "text": [
      "2\n",
      "3\n",
      "4\n",
      "5\n",
      "6\n",
      "7\n",
      "8\n",
      "9\n"
     ]
    }
   ],
   "source": [
    "for i in range (2,10):\n",
    "    print(i)"
   ]
  },
  {
   "cell_type": "code",
   "execution_count": 22,
   "metadata": {},
   "outputs": [
    {
     "name": "stdout",
     "output_type": "stream",
     "text": [
      "2 4 6 8 "
     ]
    }
   ],
   "source": [
    "for i in range (2,10,2):\n",
    "    print(i,end=' ')"
   ]
  },
  {
   "cell_type": "code",
   "execution_count": 25,
   "metadata": {},
   "outputs": [
    {
     "name": "stdout",
     "output_type": "stream",
     "text": [
      "0 A A\n",
      "1 C C\n",
      "2 G G\n",
      "3 T T\n",
      "4 T T\n",
      "5 T T\n",
      "6 T T\n",
      "7 T T\n",
      "8 G G\n",
      "9 C C\n",
      "10 A A\n",
      "11 A A\n",
      "12 A A\n"
     ]
    }
   ],
   "source": [
    "seq='ACGTTTTTGCAAA'  \n",
    "for i,base in enumerate(seq):\n",
    "    print(i,base,seq[i])"
   ]
  },
  {
   "cell_type": "code",
   "execution_count": 24,
   "metadata": {},
   "outputs": [
    {
     "data": {
      "text/plain": [
       "(<enumerate at 0x10c995ca8>,\n",
       " [(0, 'A'),\n",
       "  (1, 'C'),\n",
       "  (2, 'G'),\n",
       "  (3, 'T'),\n",
       "  (4, 'T'),\n",
       "  (5, 'T'),\n",
       "  (6, 'T'),\n",
       "  (7, 'T'),\n",
       "  (8, 'G'),\n",
       "  (9, 'C'),\n",
       "  (10, 'A'),\n",
       "  (11, 'A'),\n",
       "  (12, 'A')])"
      ]
     },
     "execution_count": 24,
     "metadata": {},
     "output_type": "execute_result"
    }
   ],
   "source": [
    "enumerate(seq)   # iterator:tuple\n",
    "list(enumerate(seq))"
   ]
  },
  {
   "cell_type": "code",
   "execution_count": 26,
   "metadata": {},
   "outputs": [
    {
     "data": {
      "text/plain": [
       "[4, 4, 6, 8, 10]"
      ]
     },
     "execution_count": 26,
     "metadata": {},
     "output_type": "execute_result"
    }
   ],
   "source": [
    "my_list"
   ]
  },
  {
   "cell_type": "code",
   "execution_count": 27,
   "metadata": {},
   "outputs": [
    {
     "data": {
      "text/plain": [
       "[8, 8, 12, 16, 20]"
      ]
     },
     "execution_count": 27,
     "metadata": {},
     "output_type": "execute_result"
    }
   ],
   "source": [
    "for i,element in enumerate(my_list):\n",
    "    my_list[i]*=2\n",
    "my_list"
   ]
  },
  {
   "cell_type": "code",
   "execution_count": null,
   "metadata": {},
   "outputs": [],
   "source": [
    "# strings are iterable, but not immutable"
   ]
  },
  {
   "cell_type": "code",
   "execution_count": 28,
   "metadata": {},
   "outputs": [
    {
     "name": "stdout",
     "output_type": "stream",
     "text": [
      "apple mf 10\n",
      "banana mf 12\n",
      "orange f 17\n"
     ]
    }
   ],
   "source": [
    "names=('apple','banana','orange')\n",
    "positions=('mf','mf','f')\n",
    "numbers=(10,12,17)\n",
    "\n",
    "for num,pos,name in zip(names,positions,numbers):\n",
    "    print(num,pos,name)"
   ]
  },
  {
   "cell_type": "code",
   "execution_count": 2,
   "metadata": {},
   "outputs": [
    {
     "name": "stdout",
     "output_type": "stream",
     "text": [
      "c\n",
      "b\n",
      "a\n"
     ]
    }
   ],
   "source": [
    "# reversed or list.reverse() will return a list reversed, but is also a iterator\n",
    "bet=('a','b','c')\n",
    "for letter in reversed(bet):\n",
    "    print(letter)"
   ]
  },
  {
   "cell_type": "code",
   "execution_count": 37,
   "metadata": {},
   "outputs": [],
   "source": [
    "start='AUG'\n",
    "i=0\n",
    "while seq[i:i+3]!= start and i < len(seq):\n",
    "    i+=1"
   ]
  },
  {
   "cell_type": "code",
   "execution_count": null,
   "metadata": {},
   "outputs": [],
   "source": []
  }
 ],
 "metadata": {
  "kernelspec": {
   "display_name": "Python 3",
   "language": "python",
   "name": "python3"
  },
  "language_info": {
   "codemirror_mode": {
    "name": "ipython",
    "version": 3
   },
   "file_extension": ".py",
   "mimetype": "text/x-python",
   "name": "python",
   "nbconvert_exporter": "python",
   "pygments_lexer": "ipython3",
   "version": "3.6.5"
  }
 },
 "nbformat": 4,
 "nbformat_minor": 2
}
