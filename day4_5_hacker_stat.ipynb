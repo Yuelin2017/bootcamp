{
 "cells": [
  {
   "cell_type": "code",
   "execution_count": 1,
   "metadata": {},
   "outputs": [],
   "source": [
    "import numpy as np\n",
    "import pandas as pd\n",
    "import scipy.stats\n",
    "\n",
    "import bootcamp_utils\n",
    "import altair as alt"
   ]
  },
  {
   "cell_type": "code",
   "execution_count": 2,
   "metadata": {},
   "outputs": [
    {
     "data": {
      "text/html": [
       "<div>\n",
       "<style scoped>\n",
       "    .dataframe tbody tr th:only-of-type {\n",
       "        vertical-align: middle;\n",
       "    }\n",
       "\n",
       "    .dataframe tbody tr th {\n",
       "        vertical-align: top;\n",
       "    }\n",
       "\n",
       "    .dataframe thead th {\n",
       "        text-align: right;\n",
       "    }\n",
       "</style>\n",
       "<table border=\"1\" class=\"dataframe\">\n",
       "  <thead>\n",
       "    <tr style=\"text-align: right;\">\n",
       "      <th></th>\n",
       "      <th>band</th>\n",
       "      <th>beak depth (mm)</th>\n",
       "      <th>beak length (mm)</th>\n",
       "      <th>species</th>\n",
       "      <th>year</th>\n",
       "    </tr>\n",
       "  </thead>\n",
       "  <tbody>\n",
       "    <tr>\n",
       "      <th>0</th>\n",
       "      <td>20123</td>\n",
       "      <td>8.05</td>\n",
       "      <td>9.25</td>\n",
       "      <td>fortis</td>\n",
       "      <td>1973</td>\n",
       "    </tr>\n",
       "    <tr>\n",
       "      <th>1</th>\n",
       "      <td>20126</td>\n",
       "      <td>10.45</td>\n",
       "      <td>11.35</td>\n",
       "      <td>fortis</td>\n",
       "      <td>1973</td>\n",
       "    </tr>\n",
       "    <tr>\n",
       "      <th>2</th>\n",
       "      <td>20128</td>\n",
       "      <td>9.55</td>\n",
       "      <td>10.15</td>\n",
       "      <td>fortis</td>\n",
       "      <td>1973</td>\n",
       "    </tr>\n",
       "    <tr>\n",
       "      <th>3</th>\n",
       "      <td>20129</td>\n",
       "      <td>8.75</td>\n",
       "      <td>9.95</td>\n",
       "      <td>fortis</td>\n",
       "      <td>1973</td>\n",
       "    </tr>\n",
       "    <tr>\n",
       "      <th>4</th>\n",
       "      <td>20133</td>\n",
       "      <td>10.15</td>\n",
       "      <td>11.55</td>\n",
       "      <td>fortis</td>\n",
       "      <td>1973</td>\n",
       "    </tr>\n",
       "  </tbody>\n",
       "</table>\n",
       "</div>"
      ],
      "text/plain": [
       "    band  beak depth (mm)  beak length (mm) species  year\n",
       "0  20123             8.05              9.25  fortis  1973\n",
       "1  20126            10.45             11.35  fortis  1973\n",
       "2  20128             9.55             10.15  fortis  1973\n",
       "3  20129             8.75              9.95  fortis  1973\n",
       "4  20133            10.15             11.55  fortis  1973"
      ]
     },
     "execution_count": 2,
     "metadata": {},
     "output_type": "execute_result"
    }
   ],
   "source": [
    "df=pd.read_csv('data/grant_complete.csv',comment='#')\n",
    "df.head()"
   ]
  },
  {
   "cell_type": "code",
   "execution_count": 3,
   "metadata": {},
   "outputs": [],
   "source": [
    "df = df.loc[(df['year'].isin([1975,2012])) & (df['species'] == 'scandens'),\n",
    "           ['year','beak depth (mm)']]"
   ]
  },
  {
   "cell_type": "code",
   "execution_count": 4,
   "metadata": {},
   "outputs": [],
   "source": [
    "df['ecdf']=df.groupby('year').transform(bootcamp_utils.ecdf_y)"
   ]
  },
  {
   "cell_type": "code",
   "execution_count": 5,
   "metadata": {},
   "outputs": [
    {
     "data": {
      "text/html": [
       "<div>\n",
       "<style scoped>\n",
       "    .dataframe tbody tr th:only-of-type {\n",
       "        vertical-align: middle;\n",
       "    }\n",
       "\n",
       "    .dataframe tbody tr th {\n",
       "        vertical-align: top;\n",
       "    }\n",
       "\n",
       "    .dataframe thead th {\n",
       "        text-align: right;\n",
       "    }\n",
       "</style>\n",
       "<table border=\"1\" class=\"dataframe\">\n",
       "  <thead>\n",
       "    <tr style=\"text-align: right;\">\n",
       "      <th></th>\n",
       "      <th>year</th>\n",
       "      <th>beak depth (mm)</th>\n",
       "      <th>ecdf</th>\n",
       "    </tr>\n",
       "  </thead>\n",
       "  <tbody>\n",
       "    <tr>\n",
       "      <th>401</th>\n",
       "      <td>1975</td>\n",
       "      <td>8.4</td>\n",
       "      <td>0.160920</td>\n",
       "    </tr>\n",
       "    <tr>\n",
       "      <th>402</th>\n",
       "      <td>1975</td>\n",
       "      <td>8.8</td>\n",
       "      <td>0.390805</td>\n",
       "    </tr>\n",
       "    <tr>\n",
       "      <th>403</th>\n",
       "      <td>1975</td>\n",
       "      <td>8.4</td>\n",
       "      <td>0.172414</td>\n",
       "    </tr>\n",
       "    <tr>\n",
       "      <th>404</th>\n",
       "      <td>1975</td>\n",
       "      <td>8.0</td>\n",
       "      <td>0.022989</td>\n",
       "    </tr>\n",
       "    <tr>\n",
       "      <th>405</th>\n",
       "      <td>1975</td>\n",
       "      <td>7.9</td>\n",
       "      <td>0.011494</td>\n",
       "    </tr>\n",
       "  </tbody>\n",
       "</table>\n",
       "</div>"
      ],
      "text/plain": [
       "     year  beak depth (mm)      ecdf\n",
       "401  1975              8.4  0.160920\n",
       "402  1975              8.8  0.390805\n",
       "403  1975              8.4  0.172414\n",
       "404  1975              8.0  0.022989\n",
       "405  1975              7.9  0.011494"
      ]
     },
     "execution_count": 5,
     "metadata": {},
     "output_type": "execute_result"
    }
   ],
   "source": [
    "df.head()"
   ]
  },
  {
   "cell_type": "code",
   "execution_count": 7,
   "metadata": {},
   "outputs": [
    {
     "data": {
      "application/vnd.vegalite.v2+json": {
       "$schema": "https://vega.github.io/schema/vega-lite/v2.4.3.json",
       "config": {
        "view": {
         "height": 300,
         "width": 400
        }
       },
       "data": {
        "values": [
         {
          "beak depth (mm)": 8.4,
          "ecdf": 0.16091954022988506,
          "year": 1975
         },
         {
          "beak depth (mm)": 8.8,
          "ecdf": 0.39080459770114945,
          "year": 1975
         },
         {
          "beak depth (mm)": 8.4,
          "ecdf": 0.1724137931034483,
          "year": 1975
         },
         {
          "beak depth (mm)": 8,
          "ecdf": 0.022988505747126436,
          "year": 1975
         },
         {
          "beak depth (mm)": 7.9,
          "ecdf": 0.011494252873563218,
          "year": 1975
         },
         {
          "beak depth (mm)": 8.9,
          "ecdf": 0.4482758620689655,
          "year": 1975
         },
         {
          "beak depth (mm)": 8.6,
          "ecdf": 0.26436781609195403,
          "year": 1975
         },
         {
          "beak depth (mm)": 8.5,
          "ecdf": 0.20689655172413793,
          "year": 1975
         },
         {
          "beak depth (mm)": 8.9,
          "ecdf": 0.45977011494252873,
          "year": 1975
         },
         {
          "beak depth (mm)": 9.1,
          "ecdf": 0.6091954022988506,
          "year": 1975
         },
         {
          "beak depth (mm)": 8.6,
          "ecdf": 0.27586206896551724,
          "year": 1975
         },
         {
          "beak depth (mm)": 9.8,
          "ecdf": 0.9195402298850575,
          "year": 1975
         },
         {
          "beak depth (mm)": 8.2,
          "ecdf": 0.06896551724137931,
          "year": 1975
         },
         {
          "beak depth (mm)": 9,
          "ecdf": 0.5057471264367817,
          "year": 1975
         },
         {
          "beak depth (mm)": 9.7,
          "ecdf": 0.8850574712643678,
          "year": 1975
         },
         {
          "beak depth (mm)": 8.6,
          "ecdf": 0.28735632183908044,
          "year": 1975
         },
         {
          "beak depth (mm)": 8.2,
          "ecdf": 0.08045977011494253,
          "year": 1975
         },
         {
          "beak depth (mm)": 9,
          "ecdf": 0.5172413793103449,
          "year": 1975
         },
         {
          "beak depth (mm)": 8.4,
          "ecdf": 0.1839080459770115,
          "year": 1975
         },
         {
          "beak depth (mm)": 8.6,
          "ecdf": 0.2988505747126437,
          "year": 1975
         },
         {
          "beak depth (mm)": 8.9,
          "ecdf": 0.47126436781609193,
          "year": 1975
         },
         {
          "beak depth (mm)": 9.1,
          "ecdf": 0.6206896551724138,
          "year": 1975
         },
         {
          "beak depth (mm)": 8.3,
          "ecdf": 0.10344827586206896,
          "year": 1975
         },
         {
          "beak depth (mm)": 8.7,
          "ecdf": 0.3448275862068966,
          "year": 1975
         },
         {
          "beak depth (mm)": 9.6,
          "ecdf": 0.8505747126436781,
          "year": 1975
         },
         {
          "beak depth (mm)": 8.5,
          "ecdf": 0.21839080459770116,
          "year": 1975
         },
         {
          "beak depth (mm)": 9.1,
          "ecdf": 0.632183908045977,
          "year": 1975
         },
         {
          "beak depth (mm)": 9,
          "ecdf": 0.5287356321839081,
          "year": 1975
         },
         {
          "beak depth (mm)": 9.2,
          "ecdf": 0.7126436781609196,
          "year": 1975
         },
         {
          "beak depth (mm)": 9.9,
          "ecdf": 0.9425287356321839,
          "year": 1975
         },
         {
          "beak depth (mm)": 8.6,
          "ecdf": 0.3103448275862069,
          "year": 1975
         },
         {
          "beak depth (mm)": 9.2,
          "ecdf": 0.7241379310344828,
          "year": 1975
         },
         {
          "beak depth (mm)": 8.4,
          "ecdf": 0.19540229885057472,
          "year": 1975
         },
         {
          "beak depth (mm)": 8.9,
          "ecdf": 0.4827586206896552,
          "year": 1975
         },
         {
          "beak depth (mm)": 8.5,
          "ecdf": 0.22988505747126436,
          "year": 1975
         },
         {
          "beak depth (mm)": 10.4,
          "ecdf": 0.9885057471264368,
          "year": 1975
         },
         {
          "beak depth (mm)": 9.6,
          "ecdf": 0.8620689655172413,
          "year": 1975
         },
         {
          "beak depth (mm)": 9.1,
          "ecdf": 0.6436781609195402,
          "year": 1975
         },
         {
          "beak depth (mm)": 9.3,
          "ecdf": 0.7586206896551724,
          "year": 1975
         },
         {
          "beak depth (mm)": 9.3,
          "ecdf": 0.7701149425287356,
          "year": 1975
         },
         {
          "beak depth (mm)": 8.8,
          "ecdf": 0.40229885057471265,
          "year": 1975
         },
         {
          "beak depth (mm)": 8.3,
          "ecdf": 0.11494252873563218,
          "year": 1975
         },
         {
          "beak depth (mm)": 8.8,
          "ecdf": 0.41379310344827586,
          "year": 1975
         },
         {
          "beak depth (mm)": 9.1,
          "ecdf": 0.6551724137931034,
          "year": 1975
         },
         {
          "beak depth (mm)": 10.1,
          "ecdf": 0.9540229885057471,
          "year": 1975
         },
         {
          "beak depth (mm)": 8.9,
          "ecdf": 0.4942528735632184,
          "year": 1975
         },
         {
          "beak depth (mm)": 9.2,
          "ecdf": 0.735632183908046,
          "year": 1975
         },
         {
          "beak depth (mm)": 8.5,
          "ecdf": 0.2413793103448276,
          "year": 1975
         },
         {
          "beak depth (mm)": 10.2,
          "ecdf": 0.9770114942528736,
          "year": 1975
         },
         {
          "beak depth (mm)": 10.1,
          "ecdf": 0.9655172413793104,
          "year": 1975
         },
         {
          "beak depth (mm)": 9.2,
          "ecdf": 0.7471264367816092,
          "year": 1975
         },
         {
          "beak depth (mm)": 9.7,
          "ecdf": 0.896551724137931,
          "year": 1975
         },
         {
          "beak depth (mm)": 9.1,
          "ecdf": 0.6666666666666666,
          "year": 1975
         },
         {
          "beak depth (mm)": 8.5,
          "ecdf": 0.25287356321839083,
          "year": 1975
         },
         {
          "beak depth (mm)": 8.2,
          "ecdf": 0.09195402298850575,
          "year": 1975
         },
         {
          "beak depth (mm)": 9,
          "ecdf": 0.5402298850574713,
          "year": 1975
         },
         {
          "beak depth (mm)": 9.3,
          "ecdf": 0.7816091954022989,
          "year": 1975
         },
         {
          "beak depth (mm)": 8,
          "ecdf": 0.034482758620689655,
          "year": 1975
         },
         {
          "beak depth (mm)": 9.1,
          "ecdf": 0.6781609195402298,
          "year": 1975
         },
         {
          "beak depth (mm)": 8.1,
          "ecdf": 0.05747126436781609,
          "year": 1975
         },
         {
          "beak depth (mm)": 8.3,
          "ecdf": 0.12643678160919541,
          "year": 1975
         },
         {
          "beak depth (mm)": 8.7,
          "ecdf": 0.3563218390804598,
          "year": 1975
         },
         {
          "beak depth (mm)": 8.8,
          "ecdf": 0.42528735632183906,
          "year": 1975
         },
         {
          "beak depth (mm)": 8.6,
          "ecdf": 0.3218390804597701,
          "year": 1975
         },
         {
          "beak depth (mm)": 8.7,
          "ecdf": 0.367816091954023,
          "year": 1975
         },
         {
          "beak depth (mm)": 8,
          "ecdf": 0.04597701149425287,
          "year": 1975
         },
         {
          "beak depth (mm)": 8.8,
          "ecdf": 0.4367816091954023,
          "year": 1975
         },
         {
          "beak depth (mm)": 9,
          "ecdf": 0.5517241379310345,
          "year": 1975
         },
         {
          "beak depth (mm)": 9.1,
          "ecdf": 0.6896551724137931,
          "year": 1975
         },
         {
          "beak depth (mm)": 9.74,
          "ecdf": 0.9080459770114943,
          "year": 1975
         },
         {
          "beak depth (mm)": 9.1,
          "ecdf": 0.7011494252873564,
          "year": 1975
         },
         {
          "beak depth (mm)": 9.8,
          "ecdf": 0.9310344827586207,
          "year": 1975
         },
         {
          "beak depth (mm)": 10.4,
          "ecdf": 1,
          "year": 1975
         },
         {
          "beak depth (mm)": 8.3,
          "ecdf": 0.13793103448275862,
          "year": 1975
         },
         {
          "beak depth (mm)": 9.44,
          "ecdf": 0.7931034482758621,
          "year": 1975
         },
         {
          "beak depth (mm)": 9.04,
          "ecdf": 0.5747126436781609,
          "year": 1975
         },
         {
          "beak depth (mm)": 9,
          "ecdf": 0.5632183908045977,
          "year": 1975
         },
         {
          "beak depth (mm)": 9.05,
          "ecdf": 0.5862068965517241,
          "year": 1975
         },
         {
          "beak depth (mm)": 9.65,
          "ecdf": 0.8735632183908046,
          "year": 1975
         },
         {
          "beak depth (mm)": 9.45,
          "ecdf": 0.8045977011494253,
          "year": 1975
         },
         {
          "beak depth (mm)": 8.65,
          "ecdf": 0.3333333333333333,
          "year": 1975
         },
         {
          "beak depth (mm)": 9.45,
          "ecdf": 0.8160919540229885,
          "year": 1975
         },
         {
          "beak depth (mm)": 9.45,
          "ecdf": 0.8275862068965517,
          "year": 1975
         },
         {
          "beak depth (mm)": 9.05,
          "ecdf": 0.5977011494252874,
          "year": 1975
         },
         {
          "beak depth (mm)": 8.75,
          "ecdf": 0.3793103448275862,
          "year": 1975
         },
         {
          "beak depth (mm)": 9.45,
          "ecdf": 0.8390804597701149,
          "year": 1975
         },
         {
          "beak depth (mm)": 8.35,
          "ecdf": 0.14942528735632185,
          "year": 1975
         },
         {
          "beak depth (mm)": 9.4,
          "ecdf": 0.5952380952380952,
          "year": 2012
         },
         {
          "beak depth (mm)": 9.5,
          "ecdf": 0.6587301587301587,
          "year": 2012
         },
         {
          "beak depth (mm)": 11,
          "ecdf": 1,
          "year": 2012
         },
         {
          "beak depth (mm)": 8.7,
          "ecdf": 0.20634920634920634,
          "year": 2012
         },
         {
          "beak depth (mm)": 8.4,
          "ecdf": 0.1111111111111111,
          "year": 2012
         },
         {
          "beak depth (mm)": 9.1,
          "ecdf": 0.4365079365079365,
          "year": 2012
         },
         {
          "beak depth (mm)": 8.7,
          "ecdf": 0.21428571428571427,
          "year": 2012
         },
         {
          "beak depth (mm)": 10.2,
          "ecdf": 0.9206349206349206,
          "year": 2012
         },
         {
          "beak depth (mm)": 9.6,
          "ecdf": 0.746031746031746,
          "year": 2012
         },
         {
          "beak depth (mm)": 8.85,
          "ecdf": 0.2857142857142857,
          "year": 2012
         },
         {
          "beak depth (mm)": 8.8,
          "ecdf": 0.24603174603174602,
          "year": 2012
         },
         {
          "beak depth (mm)": 9.5,
          "ecdf": 0.6666666666666666,
          "year": 2012
         },
         {
          "beak depth (mm)": 9.2,
          "ecdf": 0.49206349206349204,
          "year": 2012
         },
         {
          "beak depth (mm)": 9,
          "ecdf": 0.38095238095238093,
          "year": 2012
         },
         {
          "beak depth (mm)": 9.8,
          "ecdf": 0.8015873015873016,
          "year": 2012
         },
         {
          "beak depth (mm)": 9.3,
          "ecdf": 0.5238095238095238,
          "year": 2012
         },
         {
          "beak depth (mm)": 9,
          "ecdf": 0.3888888888888889,
          "year": 2012
         },
         {
          "beak depth (mm)": 10.2,
          "ecdf": 0.9285714285714286,
          "year": 2012
         },
         {
          "beak depth (mm)": 7.7,
          "ecdf": 0.007936507936507936,
          "year": 2012
         },
         {
          "beak depth (mm)": 9,
          "ecdf": 0.3968253968253968,
          "year": 2012
         },
         {
          "beak depth (mm)": 9.5,
          "ecdf": 0.6746031746031746,
          "year": 2012
         },
         {
          "beak depth (mm)": 9.4,
          "ecdf": 0.6031746031746031,
          "year": 2012
         },
         {
          "beak depth (mm)": 8,
          "ecdf": 0.03968253968253968,
          "year": 2012
         },
         {
          "beak depth (mm)": 8.9,
          "ecdf": 0.29365079365079366,
          "year": 2012
         },
         {
          "beak depth (mm)": 9.4,
          "ecdf": 0.6111111111111112,
          "year": 2012
         },
         {
          "beak depth (mm)": 9.5,
          "ecdf": 0.6825396825396826,
          "year": 2012
         },
         {
          "beak depth (mm)": 8,
          "ecdf": 0.047619047619047616,
          "year": 2012
         },
         {
          "beak depth (mm)": 10,
          "ecdf": 0.8809523809523809,
          "year": 2012
         },
         {
          "beak depth (mm)": 8.95,
          "ecdf": 0.373015873015873,
          "year": 2012
         },
         {
          "beak depth (mm)": 8.2,
          "ecdf": 0.07936507936507936,
          "year": 2012
         },
         {
          "beak depth (mm)": 8.8,
          "ecdf": 0.25396825396825395,
          "year": 2012
         },
         {
          "beak depth (mm)": 9.2,
          "ecdf": 0.5,
          "year": 2012
         },
         {
          "beak depth (mm)": 9.4,
          "ecdf": 0.6190476190476191,
          "year": 2012
         },
         {
          "beak depth (mm)": 9.5,
          "ecdf": 0.6904761904761905,
          "year": 2012
         },
         {
          "beak depth (mm)": 8.1,
          "ecdf": 0.06349206349206349,
          "year": 2012
         },
         {
          "beak depth (mm)": 9.5,
          "ecdf": 0.6984126984126984,
          "year": 2012
         },
         {
          "beak depth (mm)": 8.4,
          "ecdf": 0.11904761904761904,
          "year": 2012
         },
         {
          "beak depth (mm)": 9.3,
          "ecdf": 0.5317460317460317,
          "year": 2012
         },
         {
          "beak depth (mm)": 9.3,
          "ecdf": 0.5396825396825397,
          "year": 2012
         },
         {
          "beak depth (mm)": 9.6,
          "ecdf": 0.753968253968254,
          "year": 2012
         },
         {
          "beak depth (mm)": 9.2,
          "ecdf": 0.5079365079365079,
          "year": 2012
         },
         {
          "beak depth (mm)": 10,
          "ecdf": 0.8888888888888888,
          "year": 2012
         },
         {
          "beak depth (mm)": 8.9,
          "ecdf": 0.30158730158730157,
          "year": 2012
         },
         {
          "beak depth (mm)": 10.5,
          "ecdf": 0.9603174603174603,
          "year": 2012
         },
         {
          "beak depth (mm)": 8.9,
          "ecdf": 0.30952380952380953,
          "year": 2012
         },
         {
          "beak depth (mm)": 8.6,
          "ecdf": 0.19047619047619047,
          "year": 2012
         },
         {
          "beak depth (mm)": 8.8,
          "ecdf": 0.2619047619047619,
          "year": 2012
         },
         {
          "beak depth (mm)": 9.15,
          "ecdf": 0.48412698412698413,
          "year": 2012
         },
         {
          "beak depth (mm)": 9.5,
          "ecdf": 0.7063492063492064,
          "year": 2012
         },
         {
          "beak depth (mm)": 9.1,
          "ecdf": 0.4444444444444444,
          "year": 2012
         },
         {
          "beak depth (mm)": 10.2,
          "ecdf": 0.9365079365079365,
          "year": 2012
         },
         {
          "beak depth (mm)": 8.4,
          "ecdf": 0.12698412698412698,
          "year": 2012
         },
         {
          "beak depth (mm)": 10,
          "ecdf": 0.8968253968253969,
          "year": 2012
         },
         {
          "beak depth (mm)": 10.2,
          "ecdf": 0.9444444444444444,
          "year": 2012
         },
         {
          "beak depth (mm)": 9.3,
          "ecdf": 0.5476190476190477,
          "year": 2012
         },
         {
          "beak depth (mm)": 10.8,
          "ecdf": 0.9920634920634921,
          "year": 2012
         },
         {
          "beak depth (mm)": 8.3,
          "ecdf": 0.09523809523809523,
          "year": 2012
         },
         {
          "beak depth (mm)": 7.8,
          "ecdf": 0.023809523809523808,
          "year": 2012
         },
         {
          "beak depth (mm)": 9.8,
          "ecdf": 0.8095238095238095,
          "year": 2012
         },
         {
          "beak depth (mm)": 7.9,
          "ecdf": 0.031746031746031744,
          "year": 2012
         },
         {
          "beak depth (mm)": 8.9,
          "ecdf": 0.31746031746031744,
          "year": 2012
         },
         {
          "beak depth (mm)": 7.7,
          "ecdf": 0.015873015873015872,
          "year": 2012
         },
         {
          "beak depth (mm)": 8.9,
          "ecdf": 0.3253968253968254,
          "year": 2012
         },
         {
          "beak depth (mm)": 9.4,
          "ecdf": 0.626984126984127,
          "year": 2012
         },
         {
          "beak depth (mm)": 9.4,
          "ecdf": 0.6349206349206349,
          "year": 2012
         },
         {
          "beak depth (mm)": 8.5,
          "ecdf": 0.15873015873015872,
          "year": 2012
         },
         {
          "beak depth (mm)": 8.5,
          "ecdf": 0.16666666666666666,
          "year": 2012
         },
         {
          "beak depth (mm)": 9.6,
          "ecdf": 0.7619047619047619,
          "year": 2012
         },
         {
          "beak depth (mm)": 10.2,
          "ecdf": 0.9523809523809523,
          "year": 2012
         },
         {
          "beak depth (mm)": 8.8,
          "ecdf": 0.2698412698412698,
          "year": 2012
         },
         {
          "beak depth (mm)": 9.5,
          "ecdf": 0.7142857142857143,
          "year": 2012
         },
         {
          "beak depth (mm)": 9.3,
          "ecdf": 0.5555555555555556,
          "year": 2012
         },
         {
          "beak depth (mm)": 9,
          "ecdf": 0.40476190476190477,
          "year": 2012
         },
         {
          "beak depth (mm)": 9.2,
          "ecdf": 0.5158730158730159,
          "year": 2012
         },
         {
          "beak depth (mm)": 8.7,
          "ecdf": 0.2222222222222222,
          "year": 2012
         },
         {
          "beak depth (mm)": 9,
          "ecdf": 0.4126984126984127,
          "year": 2012
         },
         {
          "beak depth (mm)": 9.1,
          "ecdf": 0.4523809523809524,
          "year": 2012
         },
         {
          "beak depth (mm)": 8.7,
          "ecdf": 0.23015873015873015,
          "year": 2012
         },
         {
          "beak depth (mm)": 9.4,
          "ecdf": 0.6428571428571429,
          "year": 2012
         },
         {
          "beak depth (mm)": 9.8,
          "ecdf": 0.8174603174603174,
          "year": 2012
         },
         {
          "beak depth (mm)": 8.6,
          "ecdf": 0.1984126984126984,
          "year": 2012
         },
         {
          "beak depth (mm)": 10.6,
          "ecdf": 0.9761904761904762,
          "year": 2012
         },
         {
          "beak depth (mm)": 9,
          "ecdf": 0.42063492063492064,
          "year": 2012
         },
         {
          "beak depth (mm)": 9.5,
          "ecdf": 0.7222222222222222,
          "year": 2012
         },
         {
          "beak depth (mm)": 8.1,
          "ecdf": 0.07142857142857142,
          "year": 2012
         },
         {
          "beak depth (mm)": 9.3,
          "ecdf": 0.5634920634920635,
          "year": 2012
         },
         {
          "beak depth (mm)": 9.6,
          "ecdf": 0.7698412698412699,
          "year": 2012
         },
         {
          "beak depth (mm)": 8.5,
          "ecdf": 0.1746031746031746,
          "year": 2012
         },
         {
          "beak depth (mm)": 8.2,
          "ecdf": 0.0873015873015873,
          "year": 2012
         },
         {
          "beak depth (mm)": 8,
          "ecdf": 0.05555555555555555,
          "year": 2012
         },
         {
          "beak depth (mm)": 9.5,
          "ecdf": 0.7301587301587301,
          "year": 2012
         },
         {
          "beak depth (mm)": 9.7,
          "ecdf": 0.7857142857142857,
          "year": 2012
         },
         {
          "beak depth (mm)": 9.9,
          "ecdf": 0.8650793650793651,
          "year": 2012
         },
         {
          "beak depth (mm)": 9.1,
          "ecdf": 0.4603174603174603,
          "year": 2012
         },
         {
          "beak depth (mm)": 9.5,
          "ecdf": 0.7380952380952381,
          "year": 2012
         },
         {
          "beak depth (mm)": 9.8,
          "ecdf": 0.8253968253968254,
          "year": 2012
         },
         {
          "beak depth (mm)": 8.4,
          "ecdf": 0.1349206349206349,
          "year": 2012
         },
         {
          "beak depth (mm)": 8.3,
          "ecdf": 0.10317460317460317,
          "year": 2012
         },
         {
          "beak depth (mm)": 9.6,
          "ecdf": 0.7777777777777778,
          "year": 2012
         },
         {
          "beak depth (mm)": 9.4,
          "ecdf": 0.6507936507936508,
          "year": 2012
         },
         {
          "beak depth (mm)": 10,
          "ecdf": 0.9047619047619048,
          "year": 2012
         },
         {
          "beak depth (mm)": 8.9,
          "ecdf": 0.3333333333333333,
          "year": 2012
         },
         {
          "beak depth (mm)": 9.1,
          "ecdf": 0.46825396825396826,
          "year": 2012
         },
         {
          "beak depth (mm)": 9.8,
          "ecdf": 0.8333333333333334,
          "year": 2012
         },
         {
          "beak depth (mm)": 9.3,
          "ecdf": 0.5714285714285714,
          "year": 2012
         },
         {
          "beak depth (mm)": 9.9,
          "ecdf": 0.873015873015873,
          "year": 2012
         },
         {
          "beak depth (mm)": 8.9,
          "ecdf": 0.3412698412698413,
          "year": 2012
         },
         {
          "beak depth (mm)": 8.5,
          "ecdf": 0.18253968253968253,
          "year": 2012
         },
         {
          "beak depth (mm)": 10.6,
          "ecdf": 0.9841269841269841,
          "year": 2012
         },
         {
          "beak depth (mm)": 9.3,
          "ecdf": 0.5793650793650794,
          "year": 2012
         },
         {
          "beak depth (mm)": 8.9,
          "ecdf": 0.3492063492063492,
          "year": 2012
         },
         {
          "beak depth (mm)": 8.9,
          "ecdf": 0.35714285714285715,
          "year": 2012
         },
         {
          "beak depth (mm)": 9.7,
          "ecdf": 0.7936507936507936,
          "year": 2012
         },
         {
          "beak depth (mm)": 9.8,
          "ecdf": 0.8412698412698413,
          "year": 2012
         },
         {
          "beak depth (mm)": 10.5,
          "ecdf": 0.9682539682539683,
          "year": 2012
         },
         {
          "beak depth (mm)": 8.4,
          "ecdf": 0.14285714285714285,
          "year": 2012
         },
         {
          "beak depth (mm)": 10,
          "ecdf": 0.9126984126984127,
          "year": 2012
         },
         {
          "beak depth (mm)": 9,
          "ecdf": 0.42857142857142855,
          "year": 2012
         },
         {
          "beak depth (mm)": 8.7,
          "ecdf": 0.23809523809523808,
          "year": 2012
         },
         {
          "beak depth (mm)": 8.8,
          "ecdf": 0.2777777777777778,
          "year": 2012
         },
         {
          "beak depth (mm)": 8.4,
          "ecdf": 0.15079365079365079,
          "year": 2012
         },
         {
          "beak depth (mm)": 9.3,
          "ecdf": 0.5873015873015873,
          "year": 2012
         },
         {
          "beak depth (mm)": 9.8,
          "ecdf": 0.8492063492063492,
          "year": 2012
         },
         {
          "beak depth (mm)": 8.9,
          "ecdf": 0.36507936507936506,
          "year": 2012
         },
         {
          "beak depth (mm)": 9.8,
          "ecdf": 0.8571428571428571,
          "year": 2012
         },
         {
          "beak depth (mm)": 9.1,
          "ecdf": 0.47619047619047616,
          "year": 2012
         }
        ]
       },
       "encoding": {
        "color": {
         "field": "year",
         "type": "nominal"
        },
        "x": {
         "field": "beak depth (mm)",
         "scale": {
          "zero": false
         },
         "type": "quantitative"
        },
        "y": {
         "field": "ecdf",
         "type": "quantitative"
        }
       },
       "mark": "point"
      },
      "image/png": "[encoded data removed]",
      "text/plain": [
       "<VegaLite 2 object>\n",
       "\n",
       "If you see this message, it means the renderer has not been properly enabled\n",
       "for the frontend that you are using. For more information, see\n",
       "https://altair-viz.github.io/user_guide/troubleshooting.html\n"
      ]
     },
     "execution_count": 7,
     "metadata": {},
     "output_type": "execute_result"
    }
   ],
   "source": [
    "alt.Chart(df\n",
    "    ).mark_point(\n",
    "    ).encode(\n",
    "        x=alt.X('beak depth (mm):Q', \n",
    "                scale=alt.Scale(zero=False)),\n",
    "        y='ecdf:Q',\n",
    "        color='year:N')"
   ]
  },
  {
   "cell_type": "code",
   "execution_count": 8,
   "metadata": {},
   "outputs": [],
   "source": [
    "bd_1975 = df.loc[df['year']==1975, 'beak depth (mm)'].values\n",
    "bd_2012 = df.loc[df['year']==2012, 'beak depth (mm)'].values"
   ]
  },
  {
   "cell_type": "code",
   "execution_count": 9,
   "metadata": {},
   "outputs": [
    {
     "data": {
      "text/plain": [
       "(8.959999999999999, 9.188492063492063)"
      ]
     },
     "execution_count": 9,
     "metadata": {},
     "output_type": "execute_result"
    }
   ],
   "source": [
    "np.mean(bd_1975),np.mean(bd_2012)"
   ]
  },
  {
   "cell_type": "code",
   "execution_count": 10,
   "metadata": {},
   "outputs": [
    {
     "data": {
      "text/plain": [
       "array([ 9.7 ,  9.7 ,  9.8 ,  8.3 ,  8.9 ,  9.45,  8.35,  9.44,  9.44,\n",
       "        8.7 ,  8.4 ,  9.1 ,  9.1 ,  8.8 ,  9.9 ,  9.1 ,  8.8 ,  8.6 ,\n",
       "        8.1 ,  8.9 ,  8.4 ,  9.04,  8.  ,  9.1 , 10.2 ,  9.1 ,  8.3 ,\n",
       "        8.1 ,  9.45,  9.7 ,  8.7 ,  8.7 ,  9.2 ,  8.7 ,  9.2 ,  8.2 ,\n",
       "        8.6 ,  8.4 ,  9.2 ,  8.6 ,  8.9 , 10.4 ,  9.3 ,  9.  ,  8.  ,\n",
       "        8.1 ,  9.  ,  8.9 ,  9.1 ,  8.8 ,  9.05,  8.1 ,  9.1 ,  9.1 ,\n",
       "        8.5 ,  9.2 ,  8.5 ,  9.05,  8.65, 10.4 , 10.1 ,  8.  ,  8.8 ,\n",
       "        8.9 ,  8.5 ,  8.  ,  8.5 ,  8.8 ,  9.  ,  9.1 ,  8.9 ,  8.3 ,\n",
       "        8.7 ,  9.  ,  8.5 ,  9.7 ,  9.8 ,  9.05,  8.35,  8.7 ,  9.3 ,\n",
       "        8.75,  9.45,  9.45,  9.1 ,  8.7 ,  8.5 ])"
      ]
     },
     "execution_count": 10,
     "metadata": {},
     "output_type": "execute_result"
    }
   ],
   "source": [
    "np.random.seed(42)\n",
    "bs_sample = np.random.choice(bd_1975, replace=True,size=len(bd_1975))\n",
    "bs_sample"
   ]
  },
  {
   "cell_type": "code",
   "execution_count": 11,
   "metadata": {},
   "outputs": [
    {
     "data": {
      "text/plain": [
       "(87, 87)"
      ]
     },
     "execution_count": 11,
     "metadata": {},
     "output_type": "execute_result"
    }
   ],
   "source": [
    "bs_sample.size,bd_1975.size"
   ]
  },
  {
   "cell_type": "code",
   "execution_count": 24,
   "metadata": {},
   "outputs": [],
   "source": [
    "x_bs,y_bs=bootcamp_utils.ecdf_vals(bs_sample)\n",
    "\n",
    "df_bs = pd.DataFrame(data={'beak depth (mm)':x_bs,\n",
    "                          'ecdf':y_bs,\n",
    "                          'set':'bootstrap',\n",
    "                          'year':1975})\n",
    "\n",
    "df_orig = df.copy().loc[df['year']==1975,:]\n",
    "df_orig['set']=1975\n",
    "\n",
    "df_plot = pd.concat([df_bs,df_orig],ignore_index=True, sort=True)"
   ]
  },
  {
   "cell_type": "code",
   "execution_count": null,
   "metadata": {},
   "outputs": [],
   "source": [
    "df.concat?"
   ]
  },
  {
   "cell_type": "code",
   "execution_count": 39,
   "metadata": {},
   "outputs": [
    {
     "data": {
      "text/html": [
       "<div>\n",
       "<style scoped>\n",
       "    .dataframe tbody tr th:only-of-type {\n",
       "        vertical-align: middle;\n",
       "    }\n",
       "\n",
       "    .dataframe tbody tr th {\n",
       "        vertical-align: top;\n",
       "    }\n",
       "\n",
       "    .dataframe thead th {\n",
       "        text-align: right;\n",
       "    }\n",
       "</style>\n",
       "<table border=\"1\" class=\"dataframe\">\n",
       "  <thead>\n",
       "    <tr style=\"text-align: right;\">\n",
       "      <th></th>\n",
       "      <th>beak depth (mm)</th>\n",
       "      <th>ecdf</th>\n",
       "      <th>set</th>\n",
       "      <th>year</th>\n",
       "    </tr>\n",
       "  </thead>\n",
       "  <tbody>\n",
       "    <tr>\n",
       "      <th>0</th>\n",
       "      <td>8.0</td>\n",
       "      <td>0.011494</td>\n",
       "      <td>bootstrap</td>\n",
       "      <td>1975</td>\n",
       "    </tr>\n",
       "    <tr>\n",
       "      <th>1</th>\n",
       "      <td>8.0</td>\n",
       "      <td>0.022989</td>\n",
       "      <td>bootstrap</td>\n",
       "      <td>1975</td>\n",
       "    </tr>\n",
       "    <tr>\n",
       "      <th>2</th>\n",
       "      <td>8.0</td>\n",
       "      <td>0.034483</td>\n",
       "      <td>bootstrap</td>\n",
       "      <td>1975</td>\n",
       "    </tr>\n",
       "    <tr>\n",
       "      <th>3</th>\n",
       "      <td>8.0</td>\n",
       "      <td>0.045977</td>\n",
       "      <td>bootstrap</td>\n",
       "      <td>1975</td>\n",
       "    </tr>\n",
       "    <tr>\n",
       "      <th>4</th>\n",
       "      <td>8.1</td>\n",
       "      <td>0.057471</td>\n",
       "      <td>bootstrap</td>\n",
       "      <td>1975</td>\n",
       "    </tr>\n",
       "  </tbody>\n",
       "</table>\n",
       "</div>"
      ],
      "text/plain": [
       "   beak depth (mm)      ecdf        set  year\n",
       "0              8.0  0.011494  bootstrap  1975\n",
       "1              8.0  0.022989  bootstrap  1975\n",
       "2              8.0  0.034483  bootstrap  1975\n",
       "3              8.0  0.045977  bootstrap  1975\n",
       "4              8.1  0.057471  bootstrap  1975"
      ]
     },
     "execution_count": 39,
     "metadata": {},
     "output_type": "execute_result"
    }
   ],
   "source": [
    "df_bs.head()"
   ]
  },
  {
   "cell_type": "code",
   "execution_count": 40,
   "metadata": {},
   "outputs": [
    {
     "data": {
      "text/html": [
       "<div>\n",
       "<style scoped>\n",
       "    .dataframe tbody tr th:only-of-type {\n",
       "        vertical-align: middle;\n",
       "    }\n",
       "\n",
       "    .dataframe tbody tr th {\n",
       "        vertical-align: top;\n",
       "    }\n",
       "\n",
       "    .dataframe thead th {\n",
       "        text-align: right;\n",
       "    }\n",
       "</style>\n",
       "<table border=\"1\" class=\"dataframe\">\n",
       "  <thead>\n",
       "    <tr style=\"text-align: right;\">\n",
       "      <th></th>\n",
       "      <th>year</th>\n",
       "      <th>beak depth (mm)</th>\n",
       "      <th>ecdf</th>\n",
       "      <th>set</th>\n",
       "    </tr>\n",
       "  </thead>\n",
       "  <tbody>\n",
       "    <tr>\n",
       "      <th>401</th>\n",
       "      <td>1975</td>\n",
       "      <td>8.4</td>\n",
       "      <td>0.160920</td>\n",
       "      <td>1975</td>\n",
       "    </tr>\n",
       "    <tr>\n",
       "      <th>402</th>\n",
       "      <td>1975</td>\n",
       "      <td>8.8</td>\n",
       "      <td>0.390805</td>\n",
       "      <td>1975</td>\n",
       "    </tr>\n",
       "    <tr>\n",
       "      <th>403</th>\n",
       "      <td>1975</td>\n",
       "      <td>8.4</td>\n",
       "      <td>0.172414</td>\n",
       "      <td>1975</td>\n",
       "    </tr>\n",
       "    <tr>\n",
       "      <th>404</th>\n",
       "      <td>1975</td>\n",
       "      <td>8.0</td>\n",
       "      <td>0.022989</td>\n",
       "      <td>1975</td>\n",
       "    </tr>\n",
       "    <tr>\n",
       "      <th>405</th>\n",
       "      <td>1975</td>\n",
       "      <td>7.9</td>\n",
       "      <td>0.011494</td>\n",
       "      <td>1975</td>\n",
       "    </tr>\n",
       "  </tbody>\n",
       "</table>\n",
       "</div>"
      ],
      "text/plain": [
       "     year  beak depth (mm)      ecdf   set\n",
       "401  1975              8.4  0.160920  1975\n",
       "402  1975              8.8  0.390805  1975\n",
       "403  1975              8.4  0.172414  1975\n",
       "404  1975              8.0  0.022989  1975\n",
       "405  1975              7.9  0.011494  1975"
      ]
     },
     "execution_count": 40,
     "metadata": {},
     "output_type": "execute_result"
    }
   ],
   "source": [
    "df_orig.head()"
   ]
  },
  {
   "cell_type": "code",
   "execution_count": 41,
   "metadata": {},
   "outputs": [
    {
     "data": {
      "text/html": [
       "<div>\n",
       "<style scoped>\n",
       "    .dataframe tbody tr th:only-of-type {\n",
       "        vertical-align: middle;\n",
       "    }\n",
       "\n",
       "    .dataframe tbody tr th {\n",
       "        vertical-align: top;\n",
       "    }\n",
       "\n",
       "    .dataframe thead th {\n",
       "        text-align: right;\n",
       "    }\n",
       "</style>\n",
       "<table border=\"1\" class=\"dataframe\">\n",
       "  <thead>\n",
       "    <tr style=\"text-align: right;\">\n",
       "      <th></th>\n",
       "      <th>beak depth (mm)</th>\n",
       "      <th>ecdf</th>\n",
       "      <th>set</th>\n",
       "      <th>year</th>\n",
       "    </tr>\n",
       "  </thead>\n",
       "  <tbody>\n",
       "    <tr>\n",
       "      <th>0</th>\n",
       "      <td>8.0</td>\n",
       "      <td>0.011494</td>\n",
       "      <td>bootstrap</td>\n",
       "      <td>1975</td>\n",
       "    </tr>\n",
       "    <tr>\n",
       "      <th>1</th>\n",
       "      <td>8.0</td>\n",
       "      <td>0.022989</td>\n",
       "      <td>bootstrap</td>\n",
       "      <td>1975</td>\n",
       "    </tr>\n",
       "    <tr>\n",
       "      <th>2</th>\n",
       "      <td>8.0</td>\n",
       "      <td>0.034483</td>\n",
       "      <td>bootstrap</td>\n",
       "      <td>1975</td>\n",
       "    </tr>\n",
       "    <tr>\n",
       "      <th>3</th>\n",
       "      <td>8.0</td>\n",
       "      <td>0.045977</td>\n",
       "      <td>bootstrap</td>\n",
       "      <td>1975</td>\n",
       "    </tr>\n",
       "    <tr>\n",
       "      <th>4</th>\n",
       "      <td>8.1</td>\n",
       "      <td>0.057471</td>\n",
       "      <td>bootstrap</td>\n",
       "      <td>1975</td>\n",
       "    </tr>\n",
       "  </tbody>\n",
       "</table>\n",
       "</div>"
      ],
      "text/plain": [
       "   beak depth (mm)      ecdf        set  year\n",
       "0              8.0  0.011494  bootstrap  1975\n",
       "1              8.0  0.022989  bootstrap  1975\n",
       "2              8.0  0.034483  bootstrap  1975\n",
       "3              8.0  0.045977  bootstrap  1975\n",
       "4              8.1  0.057471  bootstrap  1975"
      ]
     },
     "execution_count": 41,
     "metadata": {},
     "output_type": "execute_result"
    }
   ],
   "source": [
    "df_plot.head()"
   ]
  },
  {
   "cell_type": "code",
   "execution_count": 25,
   "metadata": {},
   "outputs": [
    {
     "data": {
      "application/vnd.vegalite.v2+json": {
       "$schema": "https://vega.github.io/schema/vega-lite/v2.4.3.json",
       "config": {
        "view": {
         "height": 300,
         "width": 400
        }
       },
       "data": {
        "values": [
         {
          "beak depth (mm)": 8,
          "ecdf": 0.011494252873563218,
          "set": "bootstrap",
          "year": 1975
         },
         {
          "beak depth (mm)": 8,
          "ecdf": 0.022988505747126436,
          "set": "bootstrap",
          "year": 1975
         },
         {
          "beak depth (mm)": 8,
          "ecdf": 0.034482758620689655,
          "set": "bootstrap",
          "year": 1975
         },
         {
          "beak depth (mm)": 8,
          "ecdf": 0.04597701149425287,
          "set": "bootstrap",
          "year": 1975
         },
         {
          "beak depth (mm)": 8.1,
          "ecdf": 0.05747126436781609,
          "set": "bootstrap",
          "year": 1975
         },
         {
          "beak depth (mm)": 8.1,
          "ecdf": 0.06896551724137931,
          "set": "bootstrap",
          "year": 1975
         },
         {
          "beak depth (mm)": 8.1,
          "ecdf": 0.08045977011494253,
          "set": "bootstrap",
          "year": 1975
         },
         {
          "beak depth (mm)": 8.1,
          "ecdf": 0.09195402298850575,
          "set": "bootstrap",
          "year": 1975
         },
         {
          "beak depth (mm)": 8.2,
          "ecdf": 0.10344827586206896,
          "set": "bootstrap",
          "year": 1975
         },
         {
          "beak depth (mm)": 8.3,
          "ecdf": 0.11494252873563218,
          "set": "bootstrap",
          "year": 1975
         },
         {
          "beak depth (mm)": 8.3,
          "ecdf": 0.12643678160919541,
          "set": "bootstrap",
          "year": 1975
         },
         {
          "beak depth (mm)": 8.3,
          "ecdf": 0.13793103448275862,
          "set": "bootstrap",
          "year": 1975
         },
         {
          "beak depth (mm)": 8.35,
          "ecdf": 0.14942528735632185,
          "set": "bootstrap",
          "year": 1975
         },
         {
          "beak depth (mm)": 8.35,
          "ecdf": 0.16091954022988506,
          "set": "bootstrap",
          "year": 1975
         },
         {
          "beak depth (mm)": 8.4,
          "ecdf": 0.1724137931034483,
          "set": "bootstrap",
          "year": 1975
         },
         {
          "beak depth (mm)": 8.4,
          "ecdf": 0.1839080459770115,
          "set": "bootstrap",
          "year": 1975
         },
         {
          "beak depth (mm)": 8.4,
          "ecdf": 0.19540229885057472,
          "set": "bootstrap",
          "year": 1975
         },
         {
          "beak depth (mm)": 8.5,
          "ecdf": 0.20689655172413793,
          "set": "bootstrap",
          "year": 1975
         },
         {
          "beak depth (mm)": 8.5,
          "ecdf": 0.21839080459770116,
          "set": "bootstrap",
          "year": 1975
         },
         {
          "beak depth (mm)": 8.5,
          "ecdf": 0.22988505747126436,
          "set": "bootstrap",
          "year": 1975
         },
         {
          "beak depth (mm)": 8.5,
          "ecdf": 0.2413793103448276,
          "set": "bootstrap",
          "year": 1975
         },
         {
          "beak depth (mm)": 8.5,
          "ecdf": 0.25287356321839083,
          "set": "bootstrap",
          "year": 1975
         },
         {
          "beak depth (mm)": 8.5,
          "ecdf": 0.26436781609195403,
          "set": "bootstrap",
          "year": 1975
         },
         {
          "beak depth (mm)": 8.6,
          "ecdf": 0.27586206896551724,
          "set": "bootstrap",
          "year": 1975
         },
         {
          "beak depth (mm)": 8.6,
          "ecdf": 0.28735632183908044,
          "set": "bootstrap",
          "year": 1975
         },
         {
          "beak depth (mm)": 8.6,
          "ecdf": 0.2988505747126437,
          "set": "bootstrap",
          "year": 1975
         },
         {
          "beak depth (mm)": 8.65,
          "ecdf": 0.3103448275862069,
          "set": "bootstrap",
          "year": 1975
         },
         {
          "beak depth (mm)": 8.7,
          "ecdf": 0.3218390804597701,
          "set": "bootstrap",
          "year": 1975
         },
         {
          "beak depth (mm)": 8.7,
          "ecdf": 0.3333333333333333,
          "set": "bootstrap",
          "year": 1975
         },
         {
          "beak depth (mm)": 8.7,
          "ecdf": 0.3448275862068966,
          "set": "bootstrap",
          "year": 1975
         },
         {
          "beak depth (mm)": 8.7,
          "ecdf": 0.3563218390804598,
          "set": "bootstrap",
          "year": 1975
         },
         {
          "beak depth (mm)": 8.7,
          "ecdf": 0.367816091954023,
          "set": "bootstrap",
          "year": 1975
         },
         {
          "beak depth (mm)": 8.7,
          "ecdf": 0.3793103448275862,
          "set": "bootstrap",
          "year": 1975
         },
         {
          "beak depth (mm)": 8.7,
          "ecdf": 0.39080459770114945,
          "set": "bootstrap",
          "year": 1975
         },
         {
          "beak depth (mm)": 8.75,
          "ecdf": 0.40229885057471265,
          "set": "bootstrap",
          "year": 1975
         },
         {
          "beak depth (mm)": 8.8,
          "ecdf": 0.41379310344827586,
          "set": "bootstrap",
          "year": 1975
         },
         {
          "beak depth (mm)": 8.8,
          "ecdf": 0.42528735632183906,
          "set": "bootstrap",
          "year": 1975
         },
         {
          "beak depth (mm)": 8.8,
          "ecdf": 0.4367816091954023,
          "set": "bootstrap",
          "year": 1975
         },
         {
          "beak depth (mm)": 8.8,
          "ecdf": 0.4482758620689655,
          "set": "bootstrap",
          "year": 1975
         },
         {
          "beak depth (mm)": 8.8,
          "ecdf": 0.45977011494252873,
          "set": "bootstrap",
          "year": 1975
         },
         {
          "beak depth (mm)": 8.9,
          "ecdf": 0.47126436781609193,
          "set": "bootstrap",
          "year": 1975
         },
         {
          "beak depth (mm)": 8.9,
          "ecdf": 0.4827586206896552,
          "set": "bootstrap",
          "year": 1975
         },
         {
          "beak depth (mm)": 8.9,
          "ecdf": 0.4942528735632184,
          "set": "bootstrap",
          "year": 1975
         },
         {
          "beak depth (mm)": 8.9,
          "ecdf": 0.5057471264367817,
          "set": "bootstrap",
          "year": 1975
         },
         {
          "beak depth (mm)": 8.9,
          "ecdf": 0.5172413793103449,
          "set": "bootstrap",
          "year": 1975
         },
         {
          "beak depth (mm)": 8.9,
          "ecdf": 0.5287356321839081,
          "set": "bootstrap",
          "year": 1975
         },
         {
          "beak depth (mm)": 9,
          "ecdf": 0.5402298850574713,
          "set": "bootstrap",
          "year": 1975
         },
         {
          "beak depth (mm)": 9,
          "ecdf": 0.5517241379310345,
          "set": "bootstrap",
          "year": 1975
         },
         {
          "beak depth (mm)": 9,
          "ecdf": 0.5632183908045977,
          "set": "bootstrap",
          "year": 1975
         },
         {
          "beak depth (mm)": 9,
          "ecdf": 0.5747126436781609,
          "set": "bootstrap",
          "year": 1975
         },
         {
          "beak depth (mm)": 9.04,
          "ecdf": 0.5862068965517241,
          "set": "bootstrap",
          "year": 1975
         },
         {
          "beak depth (mm)": 9.05,
          "ecdf": 0.5977011494252874,
          "set": "bootstrap",
          "year": 1975
         },
         {
          "beak depth (mm)": 9.05,
          "ecdf": 0.6091954022988506,
          "set": "bootstrap",
          "year": 1975
         },
         {
          "beak depth (mm)": 9.05,
          "ecdf": 0.6206896551724138,
          "set": "bootstrap",
          "year": 1975
         },
         {
          "beak depth (mm)": 9.1,
          "ecdf": 0.632183908045977,
          "set": "bootstrap",
          "year": 1975
         },
         {
          "beak depth (mm)": 9.1,
          "ecdf": 0.6436781609195402,
          "set": "bootstrap",
          "year": 1975
         },
         {
          "beak depth (mm)": 9.1,
          "ecdf": 0.6551724137931034,
          "set": "bootstrap",
          "year": 1975
         },
         {
          "beak depth (mm)": 9.1,
          "ecdf": 0.6666666666666666,
          "set": "bootstrap",
          "year": 1975
         },
         {
          "beak depth (mm)": 9.1,
          "ecdf": 0.6781609195402298,
          "set": "bootstrap",
          "year": 1975
         },
         {
          "beak depth (mm)": 9.1,
          "ecdf": 0.6896551724137931,
          "set": "bootstrap",
          "year": 1975
         },
         {
          "beak depth (mm)": 9.1,
          "ecdf": 0.7011494252873564,
          "set": "bootstrap",
          "year": 1975
         },
         {
          "beak depth (mm)": 9.1,
          "ecdf": 0.7126436781609196,
          "set": "bootstrap",
          "year": 1975
         },
         {
          "beak depth (mm)": 9.1,
          "ecdf": 0.7241379310344828,
          "set": "bootstrap",
          "year": 1975
         },
         {
          "beak depth (mm)": 9.1,
          "ecdf": 0.735632183908046,
          "set": "bootstrap",
          "year": 1975
         },
         {
          "beak depth (mm)": 9.2,
          "ecdf": 0.7471264367816092,
          "set": "bootstrap",
          "year": 1975
         },
         {
          "beak depth (mm)": 9.2,
          "ecdf": 0.7586206896551724,
          "set": "bootstrap",
          "year": 1975
         },
         {
          "beak depth (mm)": 9.2,
          "ecdf": 0.7701149425287356,
          "set": "bootstrap",
          "year": 1975
         },
         {
          "beak depth (mm)": 9.2,
          "ecdf": 0.7816091954022989,
          "set": "bootstrap",
          "year": 1975
         },
         {
          "beak depth (mm)": 9.3,
          "ecdf": 0.7931034482758621,
          "set": "bootstrap",
          "year": 1975
         },
         {
          "beak depth (mm)": 9.3,
          "ecdf": 0.8045977011494253,
          "set": "bootstrap",
          "year": 1975
         },
         {
          "beak depth (mm)": 9.44,
          "ecdf": 0.8160919540229885,
          "set": "bootstrap",
          "year": 1975
         },
         {
          "beak depth (mm)": 9.44,
          "ecdf": 0.8275862068965517,
          "set": "bootstrap",
          "year": 1975
         },
         {
          "beak depth (mm)": 9.45,
          "ecdf": 0.8390804597701149,
          "set": "bootstrap",
          "year": 1975
         },
         {
          "beak depth (mm)": 9.45,
          "ecdf": 0.8505747126436781,
          "set": "bootstrap",
          "year": 1975
         },
         {
          "beak depth (mm)": 9.45,
          "ecdf": 0.8620689655172413,
          "set": "bootstrap",
          "year": 1975
         },
         {
          "beak depth (mm)": 9.45,
          "ecdf": 0.8735632183908046,
          "set": "bootstrap",
          "year": 1975
         },
         {
          "beak depth (mm)": 9.7,
          "ecdf": 0.8850574712643678,
          "set": "bootstrap",
          "year": 1975
         },
         {
          "beak depth (mm)": 9.7,
          "ecdf": 0.896551724137931,
          "set": "bootstrap",
          "year": 1975
         },
         {
          "beak depth (mm)": 9.7,
          "ecdf": 0.9080459770114943,
          "set": "bootstrap",
          "year": 1975
         },
         {
          "beak depth (mm)": 9.7,
          "ecdf": 0.9195402298850575,
          "set": "bootstrap",
          "year": 1975
         },
         {
          "beak depth (mm)": 9.8,
          "ecdf": 0.9310344827586207,
          "set": "bootstrap",
          "year": 1975
         },
         {
          "beak depth (mm)": 9.8,
          "ecdf": 0.9425287356321839,
          "set": "bootstrap",
          "year": 1975
         },
         {
          "beak depth (mm)": 9.9,
          "ecdf": 0.9540229885057471,
          "set": "bootstrap",
          "year": 1975
         },
         {
          "beak depth (mm)": 10.1,
          "ecdf": 0.9655172413793104,
          "set": "bootstrap",
          "year": 1975
         },
         {
          "beak depth (mm)": 10.2,
          "ecdf": 0.9770114942528736,
          "set": "bootstrap",
          "year": 1975
         },
         {
          "beak depth (mm)": 10.4,
          "ecdf": 0.9885057471264368,
          "set": "bootstrap",
          "year": 1975
         },
         {
          "beak depth (mm)": 10.4,
          "ecdf": 1,
          "set": "bootstrap",
          "year": 1975
         },
         {
          "beak depth (mm)": 8.4,
          "ecdf": 0.16091954022988506,
          "set": 1975,
          "year": 1975
         },
         {
          "beak depth (mm)": 8.8,
          "ecdf": 0.39080459770114945,
          "set": 1975,
          "year": 1975
         },
         {
          "beak depth (mm)": 8.4,
          "ecdf": 0.1724137931034483,
          "set": 1975,
          "year": 1975
         },
         {
          "beak depth (mm)": 8,
          "ecdf": 0.022988505747126436,
          "set": 1975,
          "year": 1975
         },
         {
          "beak depth (mm)": 7.9,
          "ecdf": 0.011494252873563218,
          "set": 1975,
          "year": 1975
         },
         {
          "beak depth (mm)": 8.9,
          "ecdf": 0.4482758620689655,
          "set": 1975,
          "year": 1975
         },
         {
          "beak depth (mm)": 8.6,
          "ecdf": 0.26436781609195403,
          "set": 1975,
          "year": 1975
         },
         {
          "beak depth (mm)": 8.5,
          "ecdf": 0.20689655172413793,
          "set": 1975,
          "year": 1975
         },
         {
          "beak depth (mm)": 8.9,
          "ecdf": 0.45977011494252873,
          "set": 1975,
          "year": 1975
         },
         {
          "beak depth (mm)": 9.1,
          "ecdf": 0.6091954022988506,
          "set": 1975,
          "year": 1975
         },
         {
          "beak depth (mm)": 8.6,
          "ecdf": 0.27586206896551724,
          "set": 1975,
          "year": 1975
         },
         {
          "beak depth (mm)": 9.8,
          "ecdf": 0.9195402298850575,
          "set": 1975,
          "year": 1975
         },
         {
          "beak depth (mm)": 8.2,
          "ecdf": 0.06896551724137931,
          "set": 1975,
          "year": 1975
         },
         {
          "beak depth (mm)": 9,
          "ecdf": 0.5057471264367817,
          "set": 1975,
          "year": 1975
         },
         {
          "beak depth (mm)": 9.7,
          "ecdf": 0.8850574712643678,
          "set": 1975,
          "year": 1975
         },
         {
          "beak depth (mm)": 8.6,
          "ecdf": 0.28735632183908044,
          "set": 1975,
          "year": 1975
         },
         {
          "beak depth (mm)": 8.2,
          "ecdf": 0.08045977011494253,
          "set": 1975,
          "year": 1975
         },
         {
          "beak depth (mm)": 9,
          "ecdf": 0.5172413793103449,
          "set": 1975,
          "year": 1975
         },
         {
          "beak depth (mm)": 8.4,
          "ecdf": 0.1839080459770115,
          "set": 1975,
          "year": 1975
         },
         {
          "beak depth (mm)": 8.6,
          "ecdf": 0.2988505747126437,
          "set": 1975,
          "year": 1975
         },
         {
          "beak depth (mm)": 8.9,
          "ecdf": 0.47126436781609193,
          "set": 1975,
          "year": 1975
         },
         {
          "beak depth (mm)": 9.1,
          "ecdf": 0.6206896551724138,
          "set": 1975,
          "year": 1975
         },
         {
          "beak depth (mm)": 8.3,
          "ecdf": 0.10344827586206896,
          "set": 1975,
          "year": 1975
         },
         {
          "beak depth (mm)": 8.7,
          "ecdf": 0.3448275862068966,
          "set": 1975,
          "year": 1975
         },
         {
          "beak depth (mm)": 9.6,
          "ecdf": 0.8505747126436781,
          "set": 1975,
          "year": 1975
         },
         {
          "beak depth (mm)": 8.5,
          "ecdf": 0.21839080459770116,
          "set": 1975,
          "year": 1975
         },
         {
          "beak depth (mm)": 9.1,
          "ecdf": 0.632183908045977,
          "set": 1975,
          "year": 1975
         },
         {
          "beak depth (mm)": 9,
          "ecdf": 0.5287356321839081,
          "set": 1975,
          "year": 1975
         },
         {
          "beak depth (mm)": 9.2,
          "ecdf": 0.7126436781609196,
          "set": 1975,
          "year": 1975
         },
         {
          "beak depth (mm)": 9.9,
          "ecdf": 0.9425287356321839,
          "set": 1975,
          "year": 1975
         },
         {
          "beak depth (mm)": 8.6,
          "ecdf": 0.3103448275862069,
          "set": 1975,
          "year": 1975
         },
         {
          "beak depth (mm)": 9.2,
          "ecdf": 0.7241379310344828,
          "set": 1975,
          "year": 1975
         },
         {
          "beak depth (mm)": 8.4,
          "ecdf": 0.19540229885057472,
          "set": 1975,
          "year": 1975
         },
         {
          "beak depth (mm)": 8.9,
          "ecdf": 0.4827586206896552,
          "set": 1975,
          "year": 1975
         },
         {
          "beak depth (mm)": 8.5,
          "ecdf": 0.22988505747126436,
          "set": 1975,
          "year": 1975
         },
         {
          "beak depth (mm)": 10.4,
          "ecdf": 0.9885057471264368,
          "set": 1975,
          "year": 1975
         },
         {
          "beak depth (mm)": 9.6,
          "ecdf": 0.8620689655172413,
          "set": 1975,
          "year": 1975
         },
         {
          "beak depth (mm)": 9.1,
          "ecdf": 0.6436781609195402,
          "set": 1975,
          "year": 1975
         },
         {
          "beak depth (mm)": 9.3,
          "ecdf": 0.7586206896551724,
          "set": 1975,
          "year": 1975
         },
         {
          "beak depth (mm)": 9.3,
          "ecdf": 0.7701149425287356,
          "set": 1975,
          "year": 1975
         },
         {
          "beak depth (mm)": 8.8,
          "ecdf": 0.40229885057471265,
          "set": 1975,
          "year": 1975
         },
         {
          "beak depth (mm)": 8.3,
          "ecdf": 0.11494252873563218,
          "set": 1975,
          "year": 1975
         },
         {
          "beak depth (mm)": 8.8,
          "ecdf": 0.41379310344827586,
          "set": 1975,
          "year": 1975
         },
         {
          "beak depth (mm)": 9.1,
          "ecdf": 0.6551724137931034,
          "set": 1975,
          "year": 1975
         },
         {
          "beak depth (mm)": 10.1,
          "ecdf": 0.9540229885057471,
          "set": 1975,
          "year": 1975
         },
         {
          "beak depth (mm)": 8.9,
          "ecdf": 0.4942528735632184,
          "set": 1975,
          "year": 1975
         },
         {
          "beak depth (mm)": 9.2,
          "ecdf": 0.735632183908046,
          "set": 1975,
          "year": 1975
         },
         {
          "beak depth (mm)": 8.5,
          "ecdf": 0.2413793103448276,
          "set": 1975,
          "year": 1975
         },
         {
          "beak depth (mm)": 10.2,
          "ecdf": 0.9770114942528736,
          "set": 1975,
          "year": 1975
         },
         {
          "beak depth (mm)": 10.1,
          "ecdf": 0.9655172413793104,
          "set": 1975,
          "year": 1975
         },
         {
          "beak depth (mm)": 9.2,
          "ecdf": 0.7471264367816092,
          "set": 1975,
          "year": 1975
         },
         {
          "beak depth (mm)": 9.7,
          "ecdf": 0.896551724137931,
          "set": 1975,
          "year": 1975
         },
         {
          "beak depth (mm)": 9.1,
          "ecdf": 0.6666666666666666,
          "set": 1975,
          "year": 1975
         },
         {
          "beak depth (mm)": 8.5,
          "ecdf": 0.25287356321839083,
          "set": 1975,
          "year": 1975
         },
         {
          "beak depth (mm)": 8.2,
          "ecdf": 0.09195402298850575,
          "set": 1975,
          "year": 1975
         },
         {
          "beak depth (mm)": 9,
          "ecdf": 0.5402298850574713,
          "set": 1975,
          "year": 1975
         },
         {
          "beak depth (mm)": 9.3,
          "ecdf": 0.7816091954022989,
          "set": 1975,
          "year": 1975
         },
         {
          "beak depth (mm)": 8,
          "ecdf": 0.034482758620689655,
          "set": 1975,
          "year": 1975
         },
         {
          "beak depth (mm)": 9.1,
          "ecdf": 0.6781609195402298,
          "set": 1975,
          "year": 1975
         },
         {
          "beak depth (mm)": 8.1,
          "ecdf": 0.05747126436781609,
          "set": 1975,
          "year": 1975
         },
         {
          "beak depth (mm)": 8.3,
          "ecdf": 0.12643678160919541,
          "set": 1975,
          "year": 1975
         },
         {
          "beak depth (mm)": 8.7,
          "ecdf": 0.3563218390804598,
          "set": 1975,
          "year": 1975
         },
         {
          "beak depth (mm)": 8.8,
          "ecdf": 0.42528735632183906,
          "set": 1975,
          "year": 1975
         },
         {
          "beak depth (mm)": 8.6,
          "ecdf": 0.3218390804597701,
          "set": 1975,
          "year": 1975
         },
         {
          "beak depth (mm)": 8.7,
          "ecdf": 0.367816091954023,
          "set": 1975,
          "year": 1975
         },
         {
          "beak depth (mm)": 8,
          "ecdf": 0.04597701149425287,
          "set": 1975,
          "year": 1975
         },
         {
          "beak depth (mm)": 8.8,
          "ecdf": 0.4367816091954023,
          "set": 1975,
          "year": 1975
         },
         {
          "beak depth (mm)": 9,
          "ecdf": 0.5517241379310345,
          "set": 1975,
          "year": 1975
         },
         {
          "beak depth (mm)": 9.1,
          "ecdf": 0.6896551724137931,
          "set": 1975,
          "year": 1975
         },
         {
          "beak depth (mm)": 9.74,
          "ecdf": 0.9080459770114943,
          "set": 1975,
          "year": 1975
         },
         {
          "beak depth (mm)": 9.1,
          "ecdf": 0.7011494252873564,
          "set": 1975,
          "year": 1975
         },
         {
          "beak depth (mm)": 9.8,
          "ecdf": 0.9310344827586207,
          "set": 1975,
          "year": 1975
         },
         {
          "beak depth (mm)": 10.4,
          "ecdf": 1,
          "set": 1975,
          "year": 1975
         },
         {
          "beak depth (mm)": 8.3,
          "ecdf": 0.13793103448275862,
          "set": 1975,
          "year": 1975
         },
         {
          "beak depth (mm)": 9.44,
          "ecdf": 0.7931034482758621,
          "set": 1975,
          "year": 1975
         },
         {
          "beak depth (mm)": 9.04,
          "ecdf": 0.5747126436781609,
          "set": 1975,
          "year": 1975
         },
         {
          "beak depth (mm)": 9,
          "ecdf": 0.5632183908045977,
          "set": 1975,
          "year": 1975
         },
         {
          "beak depth (mm)": 9.05,
          "ecdf": 0.5862068965517241,
          "set": 1975,
          "year": 1975
         },
         {
          "beak depth (mm)": 9.65,
          "ecdf": 0.8735632183908046,
          "set": 1975,
          "year": 1975
         },
         {
          "beak depth (mm)": 9.45,
          "ecdf": 0.8045977011494253,
          "set": 1975,
          "year": 1975
         },
         {
          "beak depth (mm)": 8.65,
          "ecdf": 0.3333333333333333,
          "set": 1975,
          "year": 1975
         },
         {
          "beak depth (mm)": 9.45,
          "ecdf": 0.8160919540229885,
          "set": 1975,
          "year": 1975
         },
         {
          "beak depth (mm)": 9.45,
          "ecdf": 0.8275862068965517,
          "set": 1975,
          "year": 1975
         },
         {
          "beak depth (mm)": 9.05,
          "ecdf": 0.5977011494252874,
          "set": 1975,
          "year": 1975
         },
         {
          "beak depth (mm)": 8.75,
          "ecdf": 0.3793103448275862,
          "set": 1975,
          "year": 1975
         },
         {
          "beak depth (mm)": 9.45,
          "ecdf": 0.8390804597701149,
          "set": 1975,
          "year": 1975
         },
         {
          "beak depth (mm)": 8.35,
          "ecdf": 0.14942528735632185,
          "set": 1975,
          "year": 1975
         }
        ]
       },
       "encoding": {
        "color": {
         "field": "set",
         "type": "nominal"
        },
        "x": {
         "field": "beak depth (mm)",
         "scale": {
          "zero": false
         },
         "type": "quantitative"
        },
        "y": {
         "field": "ecdf",
         "type": "quantitative"
        }
       },
       "mark": "point"
      },
      "image/png": "[encoded data removed]",
      "text/plain": [
       "<VegaLite 2 object>\n",
       "\n",
       "If you see this message, it means the renderer has not been properly enabled\n",
       "for the frontend that you are using. For more information, see\n",
       "https://altair-viz.github.io/user_guide/troubleshooting.html\n"
      ]
     },
     "execution_count": 25,
     "metadata": {},
     "output_type": "execute_result"
    }
   ],
   "source": [
    "alt.Chart(df_plot\n",
    "    ).mark_point(\n",
    "    ).encode(\n",
    "        x=alt.X('beak depth (mm):Q',scale=alt.Scale(zero=False)),\n",
    "        y='ecdf:Q',\n",
    "color=alt.Color('set:N'))"
   ]
  },
  {
   "cell_type": "code",
   "execution_count": 26,
   "metadata": {},
   "outputs": [
    {
     "data": {
      "text/plain": [
       "(8.92609195402299, 8.959999999999999)"
      ]
     },
     "execution_count": 26,
     "metadata": {},
     "output_type": "execute_result"
    }
   ],
   "source": [
    "np.mean(bs_sample),np.mean(bd_1975)"
   ]
  },
  {
   "cell_type": "code",
   "execution_count": 27,
   "metadata": {},
   "outputs": [],
   "source": [
    "n_reps = 100000\n",
    "\n",
    "bs_reps_1975 = np.empty(n_reps)\n",
    "\n",
    "for i in range(n_reps):\n",
    "    bs_sample = np.random.choice(bd_1975, size=len(bd_1975))\n",
    "    bs_reps_1975[i] = np.mean(bs_sample)   # mean/ std/... also works"
   ]
  },
  {
   "cell_type": "code",
   "execution_count": 28,
   "metadata": {},
   "outputs": [
    {
     "data": {
      "text/plain": [
       "array([8.95954023, 8.95574713, 8.85390805, ..., 9.04862069, 9.02229885,\n",
       "       9.00954023])"
      ]
     },
     "execution_count": 28,
     "metadata": {},
     "output_type": "execute_result"
    }
   ],
   "source": [
    "bs_reps_1975"
   ]
  },
  {
   "cell_type": "code",
   "execution_count": 35,
   "metadata": {},
   "outputs": [],
   "source": [
    "x,y = bootcamp_utils.ecdf_vals(bs_reps_1975)\n",
    "\n",
    "df_ecdf = pd.DataFrame(data={'mean beak depth (mm)':x[::1000],\n",
    "                            'ecdf':y[::1000]})\n",
    "\n",
    "# ecdf of the mean"
   ]
  },
  {
   "cell_type": "code",
   "execution_count": 31,
   "metadata": {},
   "outputs": [
    {
     "data": {
      "text/html": [
       "<div>\n",
       "<style scoped>\n",
       "    .dataframe tbody tr th:only-of-type {\n",
       "        vertical-align: middle;\n",
       "    }\n",
       "\n",
       "    .dataframe tbody tr th {\n",
       "        vertical-align: top;\n",
       "    }\n",
       "\n",
       "    .dataframe thead th {\n",
       "        text-align: right;\n",
       "    }\n",
       "</style>\n",
       "<table border=\"1\" class=\"dataframe\">\n",
       "  <thead>\n",
       "    <tr style=\"text-align: right;\">\n",
       "      <th></th>\n",
       "      <th>mean beak depth (mm)</th>\n",
       "      <th>edcf</th>\n",
       "    </tr>\n",
       "  </thead>\n",
       "  <tbody>\n",
       "    <tr>\n",
       "      <th>0</th>\n",
       "      <td>8.711149</td>\n",
       "      <td>0.00001</td>\n",
       "    </tr>\n",
       "    <tr>\n",
       "      <th>1</th>\n",
       "      <td>8.821839</td>\n",
       "      <td>0.01001</td>\n",
       "    </tr>\n",
       "    <tr>\n",
       "      <th>2</th>\n",
       "      <td>8.837356</td>\n",
       "      <td>0.02001</td>\n",
       "    </tr>\n",
       "    <tr>\n",
       "      <th>3</th>\n",
       "      <td>8.847586</td>\n",
       "      <td>0.03001</td>\n",
       "    </tr>\n",
       "    <tr>\n",
       "      <th>4</th>\n",
       "      <td>8.855057</td>\n",
       "      <td>0.04001</td>\n",
       "    </tr>\n",
       "    <tr>\n",
       "      <th>5</th>\n",
       "      <td>8.861379</td>\n",
       "      <td>0.05001</td>\n",
       "    </tr>\n",
       "    <tr>\n",
       "      <th>6</th>\n",
       "      <td>8.866667</td>\n",
       "      <td>0.06001</td>\n",
       "    </tr>\n",
       "    <tr>\n",
       "      <th>7</th>\n",
       "      <td>8.871149</td>\n",
       "      <td>0.07001</td>\n",
       "    </tr>\n",
       "    <tr>\n",
       "      <th>8</th>\n",
       "      <td>8.875402</td>\n",
       "      <td>0.08001</td>\n",
       "    </tr>\n",
       "    <tr>\n",
       "      <th>9</th>\n",
       "      <td>8.879195</td>\n",
       "      <td>0.09001</td>\n",
       "    </tr>\n",
       "    <tr>\n",
       "      <th>10</th>\n",
       "      <td>8.882759</td>\n",
       "      <td>0.10001</td>\n",
       "    </tr>\n",
       "    <tr>\n",
       "      <th>11</th>\n",
       "      <td>8.885977</td>\n",
       "      <td>0.11001</td>\n",
       "    </tr>\n",
       "    <tr>\n",
       "      <th>12</th>\n",
       "      <td>8.888966</td>\n",
       "      <td>0.12001</td>\n",
       "    </tr>\n",
       "    <tr>\n",
       "      <th>13</th>\n",
       "      <td>8.891724</td>\n",
       "      <td>0.13001</td>\n",
       "    </tr>\n",
       "    <tr>\n",
       "      <th>14</th>\n",
       "      <td>8.894598</td>\n",
       "      <td>0.14001</td>\n",
       "    </tr>\n",
       "    <tr>\n",
       "      <th>15</th>\n",
       "      <td>8.897126</td>\n",
       "      <td>0.15001</td>\n",
       "    </tr>\n",
       "    <tr>\n",
       "      <th>16</th>\n",
       "      <td>8.899655</td>\n",
       "      <td>0.16001</td>\n",
       "    </tr>\n",
       "    <tr>\n",
       "      <th>17</th>\n",
       "      <td>8.902069</td>\n",
       "      <td>0.17001</td>\n",
       "    </tr>\n",
       "    <tr>\n",
       "      <th>18</th>\n",
       "      <td>8.904368</td>\n",
       "      <td>0.18001</td>\n",
       "    </tr>\n",
       "    <tr>\n",
       "      <th>19</th>\n",
       "      <td>8.906552</td>\n",
       "      <td>0.19001</td>\n",
       "    </tr>\n",
       "    <tr>\n",
       "      <th>20</th>\n",
       "      <td>8.908851</td>\n",
       "      <td>0.20001</td>\n",
       "    </tr>\n",
       "    <tr>\n",
       "      <th>21</th>\n",
       "      <td>8.910920</td>\n",
       "      <td>0.21001</td>\n",
       "    </tr>\n",
       "    <tr>\n",
       "      <th>22</th>\n",
       "      <td>8.913103</td>\n",
       "      <td>0.22001</td>\n",
       "    </tr>\n",
       "    <tr>\n",
       "      <th>23</th>\n",
       "      <td>8.915057</td>\n",
       "      <td>0.23001</td>\n",
       "    </tr>\n",
       "    <tr>\n",
       "      <th>24</th>\n",
       "      <td>8.917011</td>\n",
       "      <td>0.24001</td>\n",
       "    </tr>\n",
       "    <tr>\n",
       "      <th>25</th>\n",
       "      <td>8.919080</td>\n",
       "      <td>0.25001</td>\n",
       "    </tr>\n",
       "    <tr>\n",
       "      <th>26</th>\n",
       "      <td>8.920920</td>\n",
       "      <td>0.26001</td>\n",
       "    </tr>\n",
       "    <tr>\n",
       "      <th>27</th>\n",
       "      <td>8.922759</td>\n",
       "      <td>0.27001</td>\n",
       "    </tr>\n",
       "    <tr>\n",
       "      <th>28</th>\n",
       "      <td>8.924483</td>\n",
       "      <td>0.28001</td>\n",
       "    </tr>\n",
       "    <tr>\n",
       "      <th>29</th>\n",
       "      <td>8.926207</td>\n",
       "      <td>0.29001</td>\n",
       "    </tr>\n",
       "    <tr>\n",
       "      <th>...</th>\n",
       "      <td>...</td>\n",
       "      <td>...</td>\n",
       "    </tr>\n",
       "    <tr>\n",
       "      <th>70</th>\n",
       "      <td>8.991264</td>\n",
       "      <td>0.70001</td>\n",
       "    </tr>\n",
       "    <tr>\n",
       "      <th>71</th>\n",
       "      <td>8.992989</td>\n",
       "      <td>0.71001</td>\n",
       "    </tr>\n",
       "    <tr>\n",
       "      <th>72</th>\n",
       "      <td>8.994828</td>\n",
       "      <td>0.72001</td>\n",
       "    </tr>\n",
       "    <tr>\n",
       "      <th>73</th>\n",
       "      <td>8.996667</td>\n",
       "      <td>0.73001</td>\n",
       "    </tr>\n",
       "    <tr>\n",
       "      <th>74</th>\n",
       "      <td>8.998506</td>\n",
       "      <td>0.74001</td>\n",
       "    </tr>\n",
       "    <tr>\n",
       "      <th>75</th>\n",
       "      <td>9.000345</td>\n",
       "      <td>0.75001</td>\n",
       "    </tr>\n",
       "    <tr>\n",
       "      <th>76</th>\n",
       "      <td>9.002414</td>\n",
       "      <td>0.76001</td>\n",
       "    </tr>\n",
       "    <tr>\n",
       "      <th>77</th>\n",
       "      <td>9.004368</td>\n",
       "      <td>0.77001</td>\n",
       "    </tr>\n",
       "    <tr>\n",
       "      <th>78</th>\n",
       "      <td>9.006322</td>\n",
       "      <td>0.78001</td>\n",
       "    </tr>\n",
       "    <tr>\n",
       "      <th>79</th>\n",
       "      <td>9.008391</td>\n",
       "      <td>0.79001</td>\n",
       "    </tr>\n",
       "    <tr>\n",
       "      <th>80</th>\n",
       "      <td>9.010575</td>\n",
       "      <td>0.80001</td>\n",
       "    </tr>\n",
       "    <tr>\n",
       "      <th>81</th>\n",
       "      <td>9.012874</td>\n",
       "      <td>0.81001</td>\n",
       "    </tr>\n",
       "    <tr>\n",
       "      <th>82</th>\n",
       "      <td>9.015287</td>\n",
       "      <td>0.82001</td>\n",
       "    </tr>\n",
       "    <tr>\n",
       "      <th>83</th>\n",
       "      <td>9.017701</td>\n",
       "      <td>0.83001</td>\n",
       "    </tr>\n",
       "    <tr>\n",
       "      <th>84</th>\n",
       "      <td>9.020345</td>\n",
       "      <td>0.84001</td>\n",
       "    </tr>\n",
       "    <tr>\n",
       "      <th>85</th>\n",
       "      <td>9.022989</td>\n",
       "      <td>0.85001</td>\n",
       "    </tr>\n",
       "    <tr>\n",
       "      <th>86</th>\n",
       "      <td>9.025632</td>\n",
       "      <td>0.86001</td>\n",
       "    </tr>\n",
       "    <tr>\n",
       "      <th>87</th>\n",
       "      <td>9.028621</td>\n",
       "      <td>0.87001</td>\n",
       "    </tr>\n",
       "    <tr>\n",
       "      <th>88</th>\n",
       "      <td>9.031494</td>\n",
       "      <td>0.88001</td>\n",
       "    </tr>\n",
       "    <tr>\n",
       "      <th>89</th>\n",
       "      <td>9.034828</td>\n",
       "      <td>0.89001</td>\n",
       "    </tr>\n",
       "    <tr>\n",
       "      <th>90</th>\n",
       "      <td>9.038276</td>\n",
       "      <td>0.90001</td>\n",
       "    </tr>\n",
       "    <tr>\n",
       "      <th>91</th>\n",
       "      <td>9.042069</td>\n",
       "      <td>0.91001</td>\n",
       "    </tr>\n",
       "    <tr>\n",
       "      <th>92</th>\n",
       "      <td>9.045977</td>\n",
       "      <td>0.92001</td>\n",
       "    </tr>\n",
       "    <tr>\n",
       "      <th>93</th>\n",
       "      <td>9.050460</td>\n",
       "      <td>0.93001</td>\n",
       "    </tr>\n",
       "    <tr>\n",
       "      <th>94</th>\n",
       "      <td>9.055287</td>\n",
       "      <td>0.94001</td>\n",
       "    </tr>\n",
       "    <tr>\n",
       "      <th>95</th>\n",
       "      <td>9.061149</td>\n",
       "      <td>0.95001</td>\n",
       "    </tr>\n",
       "    <tr>\n",
       "      <th>96</th>\n",
       "      <td>9.067931</td>\n",
       "      <td>0.96001</td>\n",
       "    </tr>\n",
       "    <tr>\n",
       "      <th>97</th>\n",
       "      <td>9.076092</td>\n",
       "      <td>0.97001</td>\n",
       "    </tr>\n",
       "    <tr>\n",
       "      <th>98</th>\n",
       "      <td>9.087011</td>\n",
       "      <td>0.98001</td>\n",
       "    </tr>\n",
       "    <tr>\n",
       "      <th>99</th>\n",
       "      <td>9.103908</td>\n",
       "      <td>0.99001</td>\n",
       "    </tr>\n",
       "  </tbody>\n",
       "</table>\n",
       "<p>100 rows × 2 columns</p>\n",
       "</div>"
      ],
      "text/plain": [
       "    mean beak depth (mm)     edcf\n",
       "0               8.711149  0.00001\n",
       "1               8.821839  0.01001\n",
       "2               8.837356  0.02001\n",
       "3               8.847586  0.03001\n",
       "4               8.855057  0.04001\n",
       "5               8.861379  0.05001\n",
       "6               8.866667  0.06001\n",
       "7               8.871149  0.07001\n",
       "8               8.875402  0.08001\n",
       "9               8.879195  0.09001\n",
       "10              8.882759  0.10001\n",
       "11              8.885977  0.11001\n",
       "12              8.888966  0.12001\n",
       "13              8.891724  0.13001\n",
       "14              8.894598  0.14001\n",
       "15              8.897126  0.15001\n",
       "16              8.899655  0.16001\n",
       "17              8.902069  0.17001\n",
       "18              8.904368  0.18001\n",
       "19              8.906552  0.19001\n",
       "20              8.908851  0.20001\n",
       "21              8.910920  0.21001\n",
       "22              8.913103  0.22001\n",
       "23              8.915057  0.23001\n",
       "24              8.917011  0.24001\n",
       "25              8.919080  0.25001\n",
       "26              8.920920  0.26001\n",
       "27              8.922759  0.27001\n",
       "28              8.924483  0.28001\n",
       "29              8.926207  0.29001\n",
       "..                   ...      ...\n",
       "70              8.991264  0.70001\n",
       "71              8.992989  0.71001\n",
       "72              8.994828  0.72001\n",
       "73              8.996667  0.73001\n",
       "74              8.998506  0.74001\n",
       "75              9.000345  0.75001\n",
       "76              9.002414  0.76001\n",
       "77              9.004368  0.77001\n",
       "78              9.006322  0.78001\n",
       "79              9.008391  0.79001\n",
       "80              9.010575  0.80001\n",
       "81              9.012874  0.81001\n",
       "82              9.015287  0.82001\n",
       "83              9.017701  0.83001\n",
       "84              9.020345  0.84001\n",
       "85              9.022989  0.85001\n",
       "86              9.025632  0.86001\n",
       "87              9.028621  0.87001\n",
       "88              9.031494  0.88001\n",
       "89              9.034828  0.89001\n",
       "90              9.038276  0.90001\n",
       "91              9.042069  0.91001\n",
       "92              9.045977  0.92001\n",
       "93              9.050460  0.93001\n",
       "94              9.055287  0.94001\n",
       "95              9.061149  0.95001\n",
       "96              9.067931  0.96001\n",
       "97              9.076092  0.97001\n",
       "98              9.087011  0.98001\n",
       "99              9.103908  0.99001\n",
       "\n",
       "[100 rows x 2 columns]"
      ]
     },
     "execution_count": 31,
     "metadata": {},
     "output_type": "execute_result"
    }
   ],
   "source": [
    "df_ecdf"
   ]
  },
  {
   "cell_type": "code",
   "execution_count": 36,
   "metadata": {},
   "outputs": [
    {
     "data": {
      "application/vnd.vegalite.v2+json": {
       "$schema": "https://vega.github.io/schema/vega-lite/v2.4.3.json",
       "config": {
        "view": {
         "height": 300,
         "width": 400
        }
       },
       "data": {
        "values": [
         {
          "ecdf": 1e-05,
          "mean beak depth (mm)": 8.711149425287356
         },
         {
          "ecdf": 0.01001,
          "mean beak depth (mm)": 8.82183908045977
         },
         {
          "ecdf": 0.02001,
          "mean beak depth (mm)": 8.837356321839081
         },
         {
          "ecdf": 0.03001,
          "mean beak depth (mm)": 8.847586206896551
         },
         {
          "ecdf": 0.04001,
          "mean beak depth (mm)": 8.855057471264368
         },
         {
          "ecdf": 0.05001,
          "mean beak depth (mm)": 8.861379310344828
         },
         {
          "ecdf": 0.06001,
          "mean beak depth (mm)": 8.866666666666667
         },
         {
          "ecdf": 0.07001,
          "mean beak depth (mm)": 8.871149425287356
         },
         {
          "ecdf": 0.08001,
          "mean beak depth (mm)": 8.875402298850576
         },
         {
          "ecdf": 0.09001,
          "mean beak depth (mm)": 8.879195402298851
         },
         {
          "ecdf": 0.10001,
          "mean beak depth (mm)": 8.882758620689655
         },
         {
          "ecdf": 0.11001,
          "mean beak depth (mm)": 8.885977011494251
         },
         {
          "ecdf": 0.12001,
          "mean beak depth (mm)": 8.888965517241378
         },
         {
          "ecdf": 0.13001,
          "mean beak depth (mm)": 8.891724137931035
         },
         {
          "ecdf": 0.14001,
          "mean beak depth (mm)": 8.894597701149424
         },
         {
          "ecdf": 0.15001,
          "mean beak depth (mm)": 8.89712643678161
         },
         {
          "ecdf": 0.16001,
          "mean beak depth (mm)": 8.899655172413794
         },
         {
          "ecdf": 0.17001,
          "mean beak depth (mm)": 8.902068965517241
         },
         {
          "ecdf": 0.18001,
          "mean beak depth (mm)": 8.904367816091955
         },
         {
          "ecdf": 0.19001,
          "mean beak depth (mm)": 8.906551724137932
         },
         {
          "ecdf": 0.20001,
          "mean beak depth (mm)": 8.908850574712643
         },
         {
          "ecdf": 0.21001,
          "mean beak depth (mm)": 8.910919540229886
         },
         {
          "ecdf": 0.22001,
          "mean beak depth (mm)": 8.913103448275862
         },
         {
          "ecdf": 0.23001,
          "mean beak depth (mm)": 8.915057471264367
         },
         {
          "ecdf": 0.24001,
          "mean beak depth (mm)": 8.917011494252874
         },
         {
          "ecdf": 0.25001,
          "mean beak depth (mm)": 8.919080459770115
         },
         {
          "ecdf": 0.26001,
          "mean beak depth (mm)": 8.920919540229885
         },
         {
          "ecdf": 0.27001,
          "mean beak depth (mm)": 8.922758620689654
         },
         {
          "ecdf": 0.28001,
          "mean beak depth (mm)": 8.924482758620691
         },
         {
          "ecdf": 0.29001,
          "mean beak depth (mm)": 8.926206896551724
         },
         {
          "ecdf": 0.30001,
          "mean beak depth (mm)": 8.927931034482757
         },
         {
          "ecdf": 0.31001,
          "mean beak depth (mm)": 8.929655172413794
         },
         {
          "ecdf": 0.32001,
          "mean beak depth (mm)": 8.931264367816091
         },
         {
          "ecdf": 0.33001,
          "mean beak depth (mm)": 8.932988505747124
         },
         {
          "ecdf": 0.34001,
          "mean beak depth (mm)": 8.93471264367816
         },
         {
          "ecdf": 0.35001,
          "mean beak depth (mm)": 8.93632183908046
         },
         {
          "ecdf": 0.36001,
          "mean beak depth (mm)": 8.937931034482759
         },
         {
          "ecdf": 0.37001,
          "mean beak depth (mm)": 8.939540229885056
         },
         {
          "ecdf": 0.38001,
          "mean beak depth (mm)": 8.94103448275862
         },
         {
          "ecdf": 0.39001,
          "mean beak depth (mm)": 8.942528735632182
         },
         {
          "ecdf": 0.40001,
          "mean beak depth (mm)": 8.944137931034483
         },
         {
          "ecdf": 0.41001,
          "mean beak depth (mm)": 8.945747126436782
         },
         {
          "ecdf": 0.42001,
          "mean beak depth (mm)": 8.947356321839079
         },
         {
          "ecdf": 0.43001,
          "mean beak depth (mm)": 8.94873563218391
         },
         {
          "ecdf": 0.44001,
          "mean beak depth (mm)": 8.950344827586207
         },
         {
          "ecdf": 0.45001,
          "mean beak depth (mm)": 8.951724137931036
         },
         {
          "ecdf": 0.46001,
          "mean beak depth (mm)": 8.953218390804599
         },
         {
          "ecdf": 0.47001,
          "mean beak depth (mm)": 8.954827586206898
         },
         {
          "ecdf": 0.48001,
          "mean beak depth (mm)": 8.956321839080461
         },
         {
          "ecdf": 0.49001,
          "mean beak depth (mm)": 8.957816091954024
         },
         {
          "ecdf": 0.50001,
          "mean beak depth (mm)": 8.959425287356321
         },
         {
          "ecdf": 0.51001,
          "mean beak depth (mm)": 8.960919540229884
         },
         {
          "ecdf": 0.52001,
          "mean beak depth (mm)": 8.962528735632183
         },
         {
          "ecdf": 0.53001,
          "mean beak depth (mm)": 8.964022988505747
         },
         {
          "ecdf": 0.54001,
          "mean beak depth (mm)": 8.965517241379311
         },
         {
          "ecdf": 0.55001,
          "mean beak depth (mm)": 8.967126436781609
         },
         {
          "ecdf": 0.56001,
          "mean beak depth (mm)": 8.968620689655175
         },
         {
          "ecdf": 0.57001,
          "mean beak depth (mm)": 8.970229885057472
         },
         {
          "ecdf": 0.58001,
          "mean beak depth (mm)": 8.97183908045977
         },
         {
          "ecdf": 0.59001,
          "mean beak depth (mm)": 8.973448275862069
         },
         {
          "ecdf": 0.60001,
          "mean beak depth (mm)": 8.974942528735633
         },
         {
          "ecdf": 0.61001,
          "mean beak depth (mm)": 8.97655172413793
         },
         {
          "ecdf": 0.62001,
          "mean beak depth (mm)": 8.97816091954023
         },
         {
          "ecdf": 0.63001,
          "mean beak depth (mm)": 8.979770114942527
         },
         {
          "ecdf": 0.64001,
          "mean beak depth (mm)": 8.981379310344826
         },
         {
          "ecdf": 0.65001,
          "mean beak depth (mm)": 8.982988505747127
         },
         {
          "ecdf": 0.66001,
          "mean beak depth (mm)": 8.98448275862069
         },
         {
          "ecdf": 0.67001,
          "mean beak depth (mm)": 8.986206896551723
         },
         {
          "ecdf": 0.68001,
          "mean beak depth (mm)": 8.987816091954025
         },
         {
          "ecdf": 0.69001,
          "mean beak depth (mm)": 8.989540229885058
         },
         {
          "ecdf": 0.70001,
          "mean beak depth (mm)": 8.991264367816092
         },
         {
          "ecdf": 0.71001,
          "mean beak depth (mm)": 8.992988505747126
         },
         {
          "ecdf": 0.72001,
          "mean beak depth (mm)": 8.994827586206895
         },
         {
          "ecdf": 0.73001,
          "mean beak depth (mm)": 8.996666666666666
         },
         {
          "ecdf": 0.74001,
          "mean beak depth (mm)": 8.998505747126437
         },
         {
          "ecdf": 0.75001,
          "mean beak depth (mm)": 9.000344827586206
         },
         {
          "ecdf": 0.76001,
          "mean beak depth (mm)": 9.002413793103447
         },
         {
          "ecdf": 0.77001,
          "mean beak depth (mm)": 9.004367816091953
         },
         {
          "ecdf": 0.78001,
          "mean beak depth (mm)": 9.00632183908046
         },
         {
          "ecdf": 0.79001,
          "mean beak depth (mm)": 9.008390804597703
         },
         {
          "ecdf": 0.80001,
          "mean beak depth (mm)": 9.010574712643681
         },
         {
          "ecdf": 0.81001,
          "mean beak depth (mm)": 9.012873563218392
         },
         {
          "ecdf": 0.82001,
          "mean beak depth (mm)": 9.01528735632184
         },
         {
          "ecdf": 0.83001,
          "mean beak depth (mm)": 9.017701149425289
         },
         {
          "ecdf": 0.84001,
          "mean beak depth (mm)": 9.020344827586207
         },
         {
          "ecdf": 0.85001,
          "mean beak depth (mm)": 9.022988505747126
         },
         {
          "ecdf": 0.86001,
          "mean beak depth (mm)": 9.025632183908048
         },
         {
          "ecdf": 0.87001,
          "mean beak depth (mm)": 9.02862068965517
         },
         {
          "ecdf": 0.88001,
          "mean beak depth (mm)": 9.031494252873564
         },
         {
          "ecdf": 0.89001,
          "mean beak depth (mm)": 9.034827586206895
         },
         {
          "ecdf": 0.90001,
          "mean beak depth (mm)": 9.038275862068968
         },
         {
          "ecdf": 0.91001,
          "mean beak depth (mm)": 9.042068965517242
         },
         {
          "ecdf": 0.92001,
          "mean beak depth (mm)": 9.045977011494255
         },
         {
          "ecdf": 0.93001,
          "mean beak depth (mm)": 9.050459770114943
         },
         {
          "ecdf": 0.94001,
          "mean beak depth (mm)": 9.05528735632184
         },
         {
          "ecdf": 0.95001,
          "mean beak depth (mm)": 9.061149425287358
         },
         {
          "ecdf": 0.96001,
          "mean beak depth (mm)": 9.06793103448276
         },
         {
          "ecdf": 0.97001,
          "mean beak depth (mm)": 9.076091954022989
         },
         {
          "ecdf": 0.98001,
          "mean beak depth (mm)": 9.087011494252874
         },
         {
          "ecdf": 0.99001,
          "mean beak depth (mm)": 9.103908045977013
         }
        ]
       },
       "encoding": {
        "x": {
         "field": "mean beak depth (mm)",
         "scale": {
          "zero": false
         },
         "type": "quantitative"
        },
        "y": {
         "field": "ecdf",
         "type": "quantitative"
        }
       },
       "mark": "point"
      },
      "image/png": "[encoded data removed]",
      "text/plain": [
       "<VegaLite 2 object>\n",
       "\n",
       "If you see this message, it means the renderer has not been properly enabled\n",
       "for the frontend that you are using. For more information, see\n",
       "https://altair-viz.github.io/user_guide/troubleshooting.html\n"
      ]
     },
     "execution_count": 36,
     "metadata": {},
     "output_type": "execute_result"
    }
   ],
   "source": [
    "alt.Chart(df_ecdf\n",
    "         ).mark_point(\n",
    "        ).encode(\n",
    "        x=alt.X('mean beak depth (mm):Q', scale = alt.Scale(zero=False)),\n",
    "y='ecdf:Q')"
   ]
  },
  {
   "cell_type": "code",
   "execution_count": 37,
   "metadata": {},
   "outputs": [
    {
     "data": {
      "text/plain": [
       "(8.96006713678161, array([8.84298851, 9.08103448]))"
      ]
     },
     "execution_count": 37,
     "metadata": {},
     "output_type": "execute_result"
    }
   ],
   "source": [
    "np.mean(bs_reps_1975), np.percentile(bs_reps_1975,[2.5,97.5])"
   ]
  },
  {
   "cell_type": "code",
   "execution_count": 38,
   "metadata": {},
   "outputs": [
    {
     "data": {
      "text/plain": [
       "9.07837473262184"
      ]
     },
     "execution_count": 38,
     "metadata": {},
     "output_type": "execute_result"
    }
   ],
   "source": [
    "np.mean(bd_1975)+1.96*np.std(bd_1975)/np.sqrt(len(bd_1975))"
   ]
  },
  {
   "cell_type": "code",
   "execution_count": null,
   "metadata": {},
   "outputs": [],
   "source": []
  }
 ],
 "metadata": {
  "kernelspec": {
   "display_name": "Python 3",
   "language": "python",
   "name": "python3"
  },
  "language_info": {
   "codemirror_mode": {
    "name": "ipython",
    "version": 3
   },
   "file_extension": ".py",
   "mimetype": "text/x-python",
   "name": "python",
   "nbconvert_exporter": "python",
   "pygments_lexer": "ipython3",
   "version": "3.6.5"
  }
 },
 "nbformat": 4,
 "nbformat_minor": 2
}
