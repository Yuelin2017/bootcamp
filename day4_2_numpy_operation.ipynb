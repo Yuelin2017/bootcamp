{
 "cells": [
  {
   "cell_type": "code",
   "execution_count": 1,
   "metadata": {},
   "outputs": [],
   "source": [
    "import numpy as np\n",
    "import pandas as pd\n",
    "\n",
    "import bootcamp_utils\n",
    "import altair as alt"
   ]
  },
  {
   "cell_type": "code",
   "execution_count": 2,
   "metadata": {},
   "outputs": [
    {
     "data": {
      "text/html": [
       "<div>\n",
       "<style scoped>\n",
       "    .dataframe tbody tr th:only-of-type {\n",
       "        vertical-align: middle;\n",
       "    }\n",
       "\n",
       "    .dataframe tbody tr th {\n",
       "        vertical-align: top;\n",
       "    }\n",
       "\n",
       "    .dataframe thead th {\n",
       "        text-align: right;\n",
       "    }\n",
       "</style>\n",
       "<table border=\"1\" class=\"dataframe\">\n",
       "  <thead>\n",
       "    <tr style=\"text-align: right;\">\n",
       "      <th></th>\n",
       "      <th>food</th>\n",
       "      <th>area (sq um)</th>\n",
       "    </tr>\n",
       "  </thead>\n",
       "  <tbody>\n",
       "    <tr>\n",
       "      <th>0</th>\n",
       "      <td>high</td>\n",
       "      <td>2061</td>\n",
       "    </tr>\n",
       "    <tr>\n",
       "      <th>1</th>\n",
       "      <td>high</td>\n",
       "      <td>1792</td>\n",
       "    </tr>\n",
       "    <tr>\n",
       "      <th>2</th>\n",
       "      <td>high</td>\n",
       "      <td>1852</td>\n",
       "    </tr>\n",
       "    <tr>\n",
       "      <th>3</th>\n",
       "      <td>high</td>\n",
       "      <td>2091</td>\n",
       "    </tr>\n",
       "    <tr>\n",
       "      <th>4</th>\n",
       "      <td>high</td>\n",
       "      <td>1781</td>\n",
       "    </tr>\n",
       "  </tbody>\n",
       "</table>\n",
       "</div>"
      ],
      "text/plain": [
       "   food  area (sq um)\n",
       "0  high          2061\n",
       "1  high          1792\n",
       "2  high          1852\n",
       "3  high          2091\n",
       "4  high          1781"
      ]
     },
     "execution_count": 2,
     "metadata": {},
     "output_type": "execute_result"
    }
   ],
   "source": [
    "df=pd.read_csv('data/c_elegans_egg_xa.csv',comment='#')\n",
    "df.head()"
   ]
  },
  {
   "cell_type": "code",
   "execution_count": 5,
   "metadata": {},
   "outputs": [
    {
     "data": {
      "application/vnd.vegalite.v2+json": {
       "$schema": "https://vega.github.io/schema/vega-lite/v2.4.3.json",
       "config": {
        "point": {
         "filled": true,
         "opacity": 0.3
        },
        "view": {
         "height": 300,
         "width": 400
        }
       },
       "data": {
        "values": [
         {
          "__jitter": -0.09550450178571745,
          "area (sq um)": 2061,
          "food": "high"
         },
         {
          "__jitter": 0.1933742734417217,
          "area (sq um)": 1792,
          "food": "high"
         },
         {
          "__jitter": 0.01609516396411864,
          "area (sq um)": 1852,
          "food": "high"
         },
         {
          "__jitter": -0.07031115140063568,
          "area (sq um)": 2091,
          "food": "high"
         },
         {
          "__jitter": -0.126773131158251,
          "area (sq um)": 1781,
          "food": "high"
         },
         {
          "__jitter": -0.0832499732659588,
          "area (sq um)": 1912,
          "food": "high"
         },
         {
          "__jitter": 0.0393213796145461,
          "area (sq um)": 1802,
          "food": "high"
         },
         {
          "__jitter": 0.09148969706735127,
          "area (sq um)": 1751,
          "food": "high"
         },
         {
          "__jitter": -0.018731485140959098,
          "area (sq um)": 1731,
          "food": "high"
         },
         {
          "__jitter": 0.18944620580334648,
          "area (sq um)": 1892,
          "food": "high"
         },
         {
          "__jitter": 0.028827620247693087,
          "area (sq um)": 1951,
          "food": "high"
         },
         {
          "__jitter": 0.12433696484873108,
          "area (sq um)": 1809,
          "food": "high"
         },
         {
          "__jitter": -0.12798386894906028,
          "area (sq um)": 1683,
          "food": "high"
         },
         {
          "__jitter": -0.05100252940809119,
          "area (sq um)": 1787,
          "food": "high"
         },
         {
          "__jitter": -0.14685771777835044,
          "area (sq um)": 1840,
          "food": "high"
         },
         {
          "__jitter": -0.1072108274932062,
          "area (sq um)": 1821,
          "food": "high"
         },
         {
          "__jitter": 0.14949832599777274,
          "area (sq um)": 1910,
          "food": "high"
         },
         {
          "__jitter": 0.07780213678704156,
          "area (sq um)": 1930,
          "food": "high"
         },
         {
          "__jitter": -0.06307563706247143,
          "area (sq um)": 1800,
          "food": "high"
         },
         {
          "__jitter": -0.026310287602273746,
          "area (sq um)": 1833,
          "food": "high"
         },
         {
          "__jitter": -0.18701314278421888,
          "area (sq um)": 1683,
          "food": "high"
         },
         {
          "__jitter": 0.14181751036387064,
          "area (sq um)": 1671,
          "food": "high"
         },
         {
          "__jitter": -0.15547137370876263,
          "area (sq um)": 1680,
          "food": "high"
         },
         {
          "__jitter": 0.15266896375410172,
          "area (sq um)": 1692,
          "food": "high"
         },
         {
          "__jitter": -0.15281345898659882,
          "area (sq um)": 1800,
          "food": "high"
         },
         {
          "__jitter": -0.046380677427265427,
          "area (sq um)": 1821,
          "food": "high"
         },
         {
          "__jitter": -0.1747313131713217,
          "area (sq um)": 1882,
          "food": "high"
         },
         {
          "__jitter": -0.0051987227116468415,
          "area (sq um)": 1642,
          "food": "high"
         },
         {
          "__jitter": -0.022815777714425778,
          "area (sq um)": 1749,
          "food": "high"
         },
         {
          "__jitter": -0.02213087471880848,
          "area (sq um)": 1712,
          "food": "high"
         },
         {
          "__jitter": 0.1519346985459214,
          "area (sq um)": 1661,
          "food": "high"
         },
         {
          "__jitter": 0.1943716739729197,
          "area (sq um)": 1701,
          "food": "high"
         },
         {
          "__jitter": -0.003534966092273384,
          "area (sq um)": 2141,
          "food": "high"
         },
         {
          "__jitter": 0.060182728072343594,
          "area (sq um)": 1863,
          "food": "high"
         },
         {
          "__jitter": 0.1545437044346077,
          "area (sq um)": 1752,
          "food": "high"
         },
         {
          "__jitter": 0.04523477705168544,
          "area (sq um)": 1740,
          "food": "high"
         },
         {
          "__jitter": -0.09171974563297397,
          "area (sq um)": 1721,
          "food": "high"
         },
         {
          "__jitter": 0.14458859513931266,
          "area (sq um)": 1660,
          "food": "high"
         },
         {
          "__jitter": -0.1905169094308603,
          "area (sq um)": 1930,
          "food": "high"
         },
         {
          "__jitter": -0.14184342223841,
          "area (sq um)": 2030,
          "food": "high"
         },
         {
          "__jitter": 0.00233260618234693,
          "area (sq um)": 1851,
          "food": "high"
         },
         {
          "__jitter": -0.15538103814571552,
          "area (sq um)": 2131,
          "food": "high"
         },
         {
          "__jitter": 0.10164094712952892,
          "area (sq um)": 1828,
          "food": "high"
         },
         {
          "__jitter": 1.0882975666631285,
          "area (sq um)": 2090,
          "food": "low"
         },
         {
          "__jitter": 0.8397475258300366,
          "area (sq um)": 2169,
          "food": "low"
         },
         {
          "__jitter": 1.0725363928333604,
          "area (sq um)": 1988,
          "food": "low"
         },
         {
          "__jitter": 0.8845817154177016,
          "area (sq um)": 2212,
          "food": "low"
         },
         {
          "__jitter": 1.0263659332320572,
          "area (sq um)": 2339,
          "food": "low"
         },
         {
          "__jitter": 0.9574793825414545,
          "area (sq um)": 1989,
          "food": "low"
         },
         {
          "__jitter": 1.1481816447925441,
          "area (sq um)": 2144,
          "food": "low"
         },
         {
          "__jitter": 1.1052709670569218,
          "area (sq um)": 2290,
          "food": "low"
         },
         {
          "__jitter": 1.0542741851431754,
          "area (sq um)": 1920,
          "food": "low"
         },
         {
          "__jitter": 1.072510273086975,
          "area (sq um)": 2280,
          "food": "low"
         },
         {
          "__jitter": 1.1327961461170415,
          "area (sq um)": 1809,
          "food": "low"
         },
         {
          "__jitter": 1.110946905442378,
          "area (sq um)": 2158,
          "food": "low"
         },
         {
          "__jitter": 0.8080964107874261,
          "area (sq um)": 1800,
          "food": "low"
         },
         {
          "__jitter": 1.0418691504304214,
          "area (sq um)": 2133,
          "food": "low"
         },
         {
          "__jitter": 1.0727184072787788,
          "area (sq um)": 2060,
          "food": "low"
         },
         {
          "__jitter": 0.8700971663324683,
          "area (sq um)": 2160,
          "food": "low"
         },
         {
          "__jitter": 0.9411710589779338,
          "area (sq um)": 2001,
          "food": "low"
         },
         {
          "__jitter": 0.8451246576797233,
          "area (sq um)": 2030,
          "food": "low"
         },
         {
          "__jitter": 0.879203989876683,
          "area (sq um)": 2088,
          "food": "low"
         },
         {
          "__jitter": 1.040921906831716,
          "area (sq um)": 1951,
          "food": "low"
         },
         {
          "__jitter": 0.9011717062498704,
          "area (sq um)": 2460,
          "food": "low"
         },
         {
          "__jitter": 1.0376801846651198,
          "area (sq um)": 2021,
          "food": "low"
         },
         {
          "__jitter": 0.9391133460855096,
          "area (sq um)": 2010,
          "food": "low"
         },
         {
          "__jitter": 0.9331517617550811,
          "area (sq um)": 2139,
          "food": "low"
         },
         {
          "__jitter": 1.1369827430915762,
          "area (sq um)": 2160,
          "food": "low"
         },
         {
          "__jitter": 0.8644924468568297,
          "area (sq um)": 2106,
          "food": "low"
         },
         {
          "__jitter": 0.9652534304904754,
          "area (sq um)": 2171,
          "food": "low"
         },
         {
          "__jitter": 1.0251650305599822,
          "area (sq um)": 2113,
          "food": "low"
         },
         {
          "__jitter": 1.1950842573427303,
          "area (sq um)": 2179,
          "food": "low"
         },
         {
          "__jitter": 1.0263093699286914,
          "area (sq um)": 1890,
          "food": "low"
         },
         {
          "__jitter": 1.1812362895432351,
          "area (sq um)": 2179,
          "food": "low"
         },
         {
          "__jitter": 0.8148542655158486,
          "area (sq um)": 2021,
          "food": "low"
         },
         {
          "__jitter": 0.8496532362062529,
          "area (sq um)": 1969,
          "food": "low"
         },
         {
          "__jitter": 1.1759379890683332,
          "area (sq um)": 2150,
          "food": "low"
         },
         {
          "__jitter": 0.851303960511125,
          "area (sq um)": 1900,
          "food": "low"
         },
         {
          "__jitter": 0.8679627574576432,
          "area (sq um)": 2267,
          "food": "low"
         },
         {
          "__jitter": 1.1967107029011583,
          "area (sq um)": 1711,
          "food": "low"
         },
         {
          "__jitter": 1.1316176578601784,
          "area (sq um)": 1901,
          "food": "low"
         },
         {
          "__jitter": 1.1477810872376528,
          "area (sq um)": 2114,
          "food": "low"
         },
         {
          "__jitter": 1.0047951642000146,
          "area (sq um)": 2112,
          "food": "low"
         },
         {
          "__jitter": 1.055451207541348,
          "area (sq um)": 2361,
          "food": "low"
         },
         {
          "__jitter": 1.0864084479387515,
          "area (sq um)": 2130,
          "food": "low"
         },
         {
          "__jitter": 1.149247708012939,
          "area (sq um)": 2061,
          "food": "low"
         },
         {
          "__jitter": 0.8335131051558053,
          "area (sq um)": 2121,
          "food": "low"
         },
         {
          "__jitter": 0.8850144656214907,
          "area (sq um)": 1832,
          "food": "low"
         },
         {
          "__jitter": 0.8465853146591531,
          "area (sq um)": 2210,
          "food": "low"
         },
         {
          "__jitter": 0.8823610620876712,
          "area (sq um)": 2130,
          "food": "low"
         },
         {
          "__jitter": 0.8692324223084619,
          "area (sq um)": 2153,
          "food": "low"
         },
         {
          "__jitter": 1.1553957761682396,
          "area (sq um)": 2009,
          "food": "low"
         },
         {
          "__jitter": 1.0348973966655648,
          "area (sq um)": 2100,
          "food": "low"
         },
         {
          "__jitter": 0.990318412078747,
          "area (sq um)": 2252,
          "food": "low"
         },
         {
          "__jitter": 0.9396171838812862,
          "area (sq um)": 2143,
          "food": "low"
         },
         {
          "__jitter": 1.1387472066533126,
          "area (sq um)": 2252,
          "food": "low"
         },
         {
          "__jitter": 0.8246417660266483,
          "area (sq um)": 2222,
          "food": "low"
         },
         {
          "__jitter": 1.1335599679140094,
          "area (sq um)": 2121,
          "food": "low"
         },
         {
          "__jitter": 1.0287828204601932,
          "area (sq um)": 2409,
          "food": "low"
         }
        ]
       },
       "encoding": {
        "color": {
         "field": "food",
         "type": "nominal"
        },
        "tooltip": {},
        "x": {
         "axis": {
          "grid": false,
          "labels": false,
          "ticks": false,
          "title": null,
          "values": [
           0,
           1
          ]
         },
         "field": "__jitter",
         "type": "quantitative"
        },
        "y": {
         "field": "area (sq um)",
         "scale": {
          "zero": false
         },
         "title": "area (um^2)",
         "type": "quantitative"
        }
       },
       "mark": "point"
      },
      "image/png": "[encoded data removed]",
      "text/plain": [
       "<VegaLite 2 object>\n",
       "\n",
       "If you see this message, it means the renderer has not been properly enabled\n",
       "for the frontend that you are using. For more information, see\n",
       "https://altair-viz.github.io/user_guide/troubleshooting.html\n"
      ]
     },
     "execution_count": 5,
     "metadata": {},
     "output_type": "execute_result"
    }
   ],
   "source": [
    "bootcamp_utils.altair_jitter(df,\n",
    "                             encode_x=alt.X('food:N'),\n",
    "                             encode_y=alt.Y('area (sq um):Q',                                           \n",
    "                                           title='area (um^2)',\n",
    "                                           scale=alt.Scale(zero=False))                             \n",
    "                                           ).configure_point(filled=True,\n",
    "                                                        opacity=0.3)\n"
   ]
  },
  {
   "cell_type": "code",
   "execution_count": 11,
   "metadata": {},
   "outputs": [],
   "source": [
    "xa_high=df.loc[df['food']=='high','area (sq um)']"
   ]
  },
  {
   "cell_type": "code",
   "execution_count": 8,
   "metadata": {},
   "outputs": [
    {
     "data": {
      "text/plain": [
       "pandas.core.series.Series"
      ]
     },
     "execution_count": 8,
     "metadata": {},
     "output_type": "execute_result"
    }
   ],
   "source": [
    "type(xa_high)   # single-column DataFrame"
   ]
  },
  {
   "cell_type": "code",
   "execution_count": 20,
   "metadata": {},
   "outputs": [
    {
     "data": {
      "text/plain": [
       "numpy.ndarray"
      ]
     },
     "execution_count": 20,
     "metadata": {},
     "output_type": "execute_result"
    }
   ],
   "source": [
    "# convert this to a Numpy array, we use the .values attribute.\n",
    "xa_high=xa_high.values\n",
    "type(xa_high)"
   ]
  },
  {
   "cell_type": "code",
   "execution_count": 13,
   "metadata": {},
   "outputs": [],
   "source": [
    "xa_low = df.loc[df['food']=='low', 'area (sq um)'].values"
   ]
  },
  {
   "cell_type": "code",
   "execution_count": null,
   "metadata": {},
   "outputs": [],
   "source": []
  },
  {
   "cell_type": "code",
   "execution_count": 23,
   "metadata": {},
   "outputs": [
    {
     "data": {
      "text/plain": [
       "array([0.002061, 0.001792, 0.001852, 0.002091, 0.001781, 0.001912,\n",
       "       0.001802, 0.001751, 0.001731, 0.001892, 0.001951, 0.001809,\n",
       "       0.001683, 0.001787, 0.00184 , 0.001821, 0.00191 , 0.00193 ,\n",
       "       0.0018  , 0.001833, 0.001683, 0.001671, 0.00168 , 0.001692,\n",
       "       0.0018  , 0.001821, 0.001882, 0.001642, 0.001749, 0.001712,\n",
       "       0.001661, 0.001701, 0.002141, 0.001863, 0.001752, 0.00174 ,\n",
       "       0.001721, 0.00166 , 0.00193 , 0.00203 , 0.001851, 0.002131,\n",
       "       0.001828])"
      ]
     },
     "execution_count": 23,
     "metadata": {},
     "output_type": "execute_result"
    }
   ],
   "source": [
    "# Scalars and NumPy arrays\n",
    "xa_high / 1e6"
   ]
  },
  {
   "cell_type": "code",
   "execution_count": 24,
   "metadata": {},
   "outputs": [
    {
     "data": {
      "text/plain": [
       "array([3061, 2792, 2852, 3091, 2781, 2912, 2802, 2751, 2731, 2892, 2951,\n",
       "       2809, 2683, 2787, 2840, 2821, 2910, 2930, 2800, 2833, 2683, 2671,\n",
       "       2680, 2692, 2800, 2821, 2882, 2642, 2749, 2712, 2661, 2701, 3141,\n",
       "       2863, 2752, 2740, 2721, 2660, 2930, 3030, 2851, 3131, 2828])"
      ]
     },
     "execution_count": 24,
     "metadata": {},
     "output_type": "execute_result"
    }
   ],
   "source": [
    "xa_high + 1000"
   ]
  },
  {
   "cell_type": "code",
   "execution_count": 25,
   "metadata": {},
   "outputs": [
    {
     "data": {
      "text/plain": [
       "array([False,  True,  True, False,  True,  True,  True,  True,  True,\n",
       "        True,  True,  True,  True,  True,  True,  True,  True,  True,\n",
       "        True,  True,  True,  True,  True,  True,  True,  True,  True,\n",
       "        True,  True,  True,  True,  True, False,  True,  True,  True,\n",
       "        True,  True,  True, False,  True, False,  True])"
      ]
     },
     "execution_count": 25,
     "metadata": {},
     "output_type": "execute_result"
    }
   ],
   "source": [
    "xa_high < 2000"
   ]
  },
  {
   "cell_type": "code",
   "execution_count": 26,
   "metadata": {},
   "outputs": [
    {
     "ename": "ValueError",
     "evalue": "The truth value of an array with more than one element is ambiguous. Use a.any() or a.all()",
     "output_type": "error",
     "traceback": [
      "\u001b[0;31m---------------------------------------------------------------------------\u001b[0m",
      "\u001b[0;31mValueError\u001b[0m                                Traceback (most recent call last)",
      "\u001b[0;32m<ipython-input-26-4902263a5f2f>\u001b[0m in \u001b[0;36m<module>\u001b[0;34m()\u001b[0m\n\u001b[0;32m----> 1\u001b[0;31m \u001b[0;32mif\u001b[0m \u001b[0mxa_high\u001b[0m \u001b[0;34m>\u001b[0m \u001b[0;36m2000\u001b[0m\u001b[0;34m:\u001b[0m\u001b[0;34m\u001b[0m\u001b[0m\n\u001b[0m\u001b[1;32m      2\u001b[0m     \u001b[0mprint\u001b[0m\u001b[0;34m(\u001b[0m\u001b[0;34m'Nothing to print, really.  This will just be an error.'\u001b[0m\u001b[0;34m)\u001b[0m\u001b[0;34m\u001b[0m\u001b[0m\n",
      "\u001b[0;31mValueError\u001b[0m: The truth value of an array with more than one element is ambiguous. Use a.any() or a.all()"
     ]
    }
   ],
   "source": [
    "if xa_high > 2000:\n",
    "    print('Nothing to print, really.  This will just be an error.')"
   ]
  },
  {
   "cell_type": "code",
   "execution_count": 27,
   "metadata": {},
   "outputs": [
    {
     "data": {
      "text/plain": [
       "True"
      ]
     },
     "execution_count": 27,
     "metadata": {},
     "output_type": "execute_result"
    }
   ],
   "source": [
    "# Check if any values are biggern than 2000\n",
    "(xa_high > 2000).any()"
   ]
  },
  {
   "cell_type": "code",
   "execution_count": 28,
   "metadata": {},
   "outputs": [
    {
     "data": {
      "text/plain": [
       "False"
      ]
     },
     "execution_count": 28,
     "metadata": {},
     "output_type": "execute_result"
    }
   ],
   "source": [
    "(xa_high > 2000).all()"
   ]
  },
  {
   "cell_type": "code",
   "execution_count": 29,
   "metadata": {},
   "outputs": [
    {
     "data": {
      "text/plain": [
       "True"
      ]
     },
     "execution_count": 29,
     "metadata": {},
     "output_type": "execute_result"
    }
   ],
   "source": [
    "# never use the equality operator (==) with floats\n",
    "# Compare two numbers\n",
    "np.isclose(1.3, 1.29999999999)"
   ]
  },
  {
   "cell_type": "code",
   "execution_count": 30,
   "metadata": {},
   "outputs": [
    {
     "data": {
      "text/plain": [
       "array([False, False, False, False, False, False, False, False, False,\n",
       "       False, False, False, False, False, False, False, False, False,\n",
       "        True, False, False, False, False, False,  True, False, False,\n",
       "       False, False, False, False, False, False, False, False, False,\n",
       "       False, False, False, False, False, False, False])"
      ]
     },
     "execution_count": 30,
     "metadata": {},
     "output_type": "execute_result"
    }
   ],
   "source": [
    "# Compare an array to a scalar\n",
    "np.isclose(xa_high, 1800)"
   ]
  },
  {
   "cell_type": "code",
   "execution_count": 31,
   "metadata": {},
   "outputs": [
    {
     "data": {
      "text/plain": [
       "False"
      ]
     },
     "execution_count": 31,
     "metadata": {},
     "output_type": "execute_result"
    }
   ],
   "source": [
    "np.allclose(xa_high, 1800)"
   ]
  },
  {
   "cell_type": "code",
   "execution_count": 33,
   "metadata": {},
   "outputs": [
    {
     "ename": "ValueError",
     "evalue": "operands could not be broadcast together with shapes (43,) (56,) ",
     "output_type": "error",
     "traceback": [
      "\u001b[0;31m---------------------------------------------------------------------------\u001b[0m",
      "\u001b[0;31mValueError\u001b[0m                                Traceback (most recent call last)",
      "\u001b[0;32m<ipython-input-33-3699a8c580a1>\u001b[0m in \u001b[0;36m<module>\u001b[0;34m()\u001b[0m\n\u001b[1;32m      1\u001b[0m \u001b[0;31m# Operators with two NumPy arrays\u001b[0m\u001b[0;34m\u001b[0m\u001b[0;34m\u001b[0m\u001b[0m\n\u001b[0;32m----> 2\u001b[0;31m \u001b[0mxa_high\u001b[0m \u001b[0;34m+\u001b[0m \u001b[0mxa_low\u001b[0m\u001b[0;34m\u001b[0m\u001b[0m\n\u001b[0m",
      "\u001b[0;31mValueError\u001b[0m: operands could not be broadcast together with shapes (43,) (56,) "
     ]
    }
   ],
   "source": [
    "# Operators with two NumPy arrays\n",
    "xa_high + xa_low"
   ]
  },
  {
   "cell_type": "code",
   "execution_count": 34,
   "metadata": {},
   "outputs": [],
   "source": [
    "# Just take the first elements\n",
    "xa_low_slice = xa_low[:len(xa_high)]"
   ]
  },
  {
   "cell_type": "code",
   "execution_count": 35,
   "metadata": {},
   "outputs": [
    {
     "data": {
      "text/plain": [
       "array([4151, 3961, 3840, 4303, 4120, 3901, 3946, 4041, 3651, 4172, 3760,\n",
       "       3967, 3483, 3920, 3900, 3981, 3911, 3960, 3888, 3784, 4143, 3692,\n",
       "       3690, 3831, 3960, 3927, 4053, 3755, 3928, 3602, 3840, 3722, 4110,\n",
       "       4013, 3652, 4007, 3432, 3561, 4044, 4142, 4212, 4261, 3889])"
      ]
     },
     "execution_count": 35,
     "metadata": {},
     "output_type": "execute_result"
    }
   ],
   "source": [
    "xa_high + xa_low_slice"
   ]
  },
  {
   "cell_type": "code",
   "execution_count": 36,
   "metadata": {},
   "outputs": [
    {
     "data": {
      "text/plain": [
       "array([False, False, False, False, False, False, False, False, False,\n",
       "       False, False, False, False, False, False, False, False, False,\n",
       "       False, False, False, False, False, False, False, False, False,\n",
       "       False, False, False, False, False, False, False, False, False,\n",
       "       False, False, False, False, False, False, False])"
      ]
     },
     "execution_count": 36,
     "metadata": {},
     "output_type": "execute_result"
    }
   ],
   "source": [
    "np.isclose(xa_high, xa_low_slice)"
   ]
  },
  {
   "cell_type": "code",
   "execution_count": 37,
   "metadata": {},
   "outputs": [
    {
     "data": {
      "text/plain": [
       "array([1828, 2131, 1851, 2030, 1930, 1660, 1721, 1740, 1752, 1863, 2141,\n",
       "       1701, 1661, 1712, 1749, 1642, 1882, 1821, 1800, 1692, 1680, 1671,\n",
       "       1683, 1833, 1800, 1930, 1910, 1821, 1840, 1787, 1683, 1809, 1951,\n",
       "       1892, 1731, 1751, 1802, 1912, 1781, 2091, 1852, 1792, 2061])"
      ]
     },
     "execution_count": 37,
     "metadata": {},
     "output_type": "execute_result"
    }
   ],
   "source": [
    "## Slicing NumPy arrays\n",
    "# Reversed array\n",
    "xa_high[::-1]"
   ]
  },
  {
   "cell_type": "code",
   "execution_count": 38,
   "metadata": {},
   "outputs": [
    {
     "data": {
      "text/plain": [
       "array([2091, 1731, 1787, 1800, 1692, 1749, 1863, 1930])"
      ]
     },
     "execution_count": 38,
     "metadata": {},
     "output_type": "execute_result"
    }
   ],
   "source": [
    "# Every 5th element, starting at index 3\n",
    "xa_high[3::5]"
   ]
  },
  {
   "cell_type": "code",
   "execution_count": 39,
   "metadata": {},
   "outputs": [
    {
     "data": {
      "text/plain": [
       "array([1792, 1833, 1802])"
      ]
     },
     "execution_count": 39,
     "metadata": {},
     "output_type": "execute_result"
    }
   ],
   "source": [
    "# Fancy indexing\n",
    "xa_high[[1, 19, 6]]"
   ]
  },
  {
   "cell_type": "code",
   "execution_count": 40,
   "metadata": {},
   "outputs": [
    {
     "data": {
      "text/plain": [
       "array([1792, 1833, 1802])"
      ]
     },
     "execution_count": 40,
     "metadata": {},
     "output_type": "execute_result"
    }
   ],
   "source": [
    "#Instead of a list, we could also use a NumPy array.\n",
    "xa_high[np.array([1, 19, 6])]"
   ]
  },
  {
   "cell_type": "code",
   "execution_count": 41,
   "metadata": {},
   "outputs": [
    {
     "data": {
      "text/plain": [
       "array([2061, 2091, 2141, 2030, 2131])"
      ]
     },
     "execution_count": 41,
     "metadata": {},
     "output_type": "execute_result"
    }
   ],
   "source": [
    "#Boolean indexing \n",
    "xa_high[xa_high > 2000]"
   ]
  },
  {
   "cell_type": "code",
   "execution_count": 42,
   "metadata": {},
   "outputs": [
    {
     "data": {
      "text/plain": [
       "(array([ 0,  3, 32, 39, 41]),)"
      ]
     },
     "execution_count": 42,
     "metadata": {},
     "output_type": "execute_result"
    }
   ],
   "source": [
    "np.where(xa_high > 2000)"
   ]
  },
  {
   "cell_type": "code",
   "execution_count": 43,
   "metadata": {},
   "outputs": [
    {
     "data": {
      "text/plain": [
       "array([1, 2, 6, 4])"
      ]
     },
     "execution_count": 43,
     "metadata": {},
     "output_type": "execute_result"
    }
   ],
   "source": [
    "# NumPy arrays are mutable\n",
    "# Make an array\n",
    "my_ar = np.array([1, 2, 3, 4])\n",
    "\n",
    "# Change an element\n",
    "my_ar[2] = 6\n",
    "\n",
    "my_ar"
   ]
  },
  {
   "cell_type": "code",
   "execution_count": 44,
   "metadata": {},
   "outputs": [
    {
     "data": {
      "text/plain": [
       "array([0.1, 0.2, 0.3, 0.4])"
      ]
     },
     "execution_count": 44,
     "metadata": {},
     "output_type": "execute_result"
    }
   ],
   "source": [
    "#Let's see how messing with NumPy in functions affects things.\n",
    "\n",
    "# Re-instantiate my_ar\n",
    "my_ar = np.array([1, 2, 3, 4]).astype(float)\n",
    "\n",
    "# Function to normalize x (note that /= works with mutable objects)\n",
    "def normalize(x):\n",
    "    x /= np.sum(x)\n",
    "\n",
    "# Pass it through a function\n",
    "normalize(my_ar)\n",
    "\n",
    "# Is it normalized even though we didn't return anything? (Yes.)\n",
    "my_ar"
   ]
  },
  {
   "cell_type": "code",
   "execution_count": 45,
   "metadata": {},
   "outputs": [
    {
     "name": "stdout",
     "output_type": "stream",
     "text": [
      "[1, 2, 3, 4]\n",
      "[1 9 3 4]\n"
     ]
    }
   ],
   "source": [
    "## !!! Slices of NumPy arrays are views, not copies !!!\n",
    "\n",
    "# Make list and array\n",
    "my_list = [1, 2, 3, 4]\n",
    "my_ar = np.array(my_list)\n",
    "\n",
    "# Slice out of each\n",
    "my_list_slice = my_list[1:-1]\n",
    "my_ar_slice = my_ar[1:-1]\n",
    "\n",
    "# Mess with the slices\n",
    "my_list_slice[0] = 9\n",
    "my_ar_slice[0] = 9\n",
    "\n",
    "# Look at originals\n",
    "print(my_list)\n",
    "print(my_ar)"
   ]
  },
  {
   "cell_type": "code",
   "execution_count": 46,
   "metadata": {},
   "outputs": [
    {
     "data": {
      "text/plain": [
       "False"
      ]
     },
     "execution_count": 46,
     "metadata": {},
     "output_type": "execute_result"
    }
   ],
   "source": [
    "#Fortunately, you can make a copy of an array using the np.copy() function.\n",
    "\n",
    "# Make a copy\n",
    "xa_high_copy = np.copy(xa_high)\n",
    "\n",
    "# Mess with an entry\n",
    "xa_high_copy[10] = 2000\n",
    "\n",
    "# Check equality\n",
    "np.allclose(xa_high, xa_high_copy)"
   ]
  },
  {
   "cell_type": "code",
   "execution_count": 47,
   "metadata": {},
   "outputs": [
    {
     "ename": "ValueError",
     "evalue": "cannot reshape array of size 43 into shape (11,4)",
     "output_type": "error",
     "traceback": [
      "\u001b[0;31m---------------------------------------------------------------------------\u001b[0m",
      "\u001b[0;31mValueError\u001b[0m                                Traceback (most recent call last)",
      "\u001b[0;32m<ipython-input-47-0c842aa60eef>\u001b[0m in \u001b[0;36m<module>\u001b[0;34m()\u001b[0m\n\u001b[1;32m      1\u001b[0m \u001b[0;31m## Indexing 2D NumPy arrays\u001b[0m\u001b[0;34m\u001b[0m\u001b[0;34m\u001b[0m\u001b[0m\n\u001b[0;32m----> 2\u001b[0;31m \u001b[0mmy_ar\u001b[0m \u001b[0;34m=\u001b[0m \u001b[0mxa_high\u001b[0m\u001b[0;34m.\u001b[0m\u001b[0mreshape\u001b[0m\u001b[0;34m(\u001b[0m\u001b[0;34m(\u001b[0m\u001b[0;36m11\u001b[0m\u001b[0;34m,\u001b[0m \u001b[0;36m4\u001b[0m\u001b[0;34m)\u001b[0m\u001b[0;34m)\u001b[0m\u001b[0;34m\u001b[0m\u001b[0m\n\u001b[0m\u001b[1;32m      3\u001b[0m \u001b[0;34m\u001b[0m\u001b[0m\n\u001b[1;32m      4\u001b[0m \u001b[0mmy_ar\u001b[0m\u001b[0;34m\u001b[0m\u001b[0m\n",
      "\u001b[0;31mValueError\u001b[0m: cannot reshape array of size 43 into shape (11,4)"
     ]
    }
   ],
   "source": [
    "## Indexing 2D NumPy arrays\n",
    "my_ar = xa_low.reshape((11, 4))\n",
    "\n",
    "my_ar"
   ]
  },
  {
   "cell_type": "code",
   "execution_count": null,
   "metadata": {},
   "outputs": [],
   "source": [
    "list_of_lists[0,1]"
   ]
  },
  {
   "cell_type": "code",
   "execution_count": null,
   "metadata": {},
   "outputs": [],
   "source": [
    "# Make list of lists\n",
    "list_of_lists = [[1, 2], [3, 4]]\n",
    "\n",
    "# Pull out value in first row, second column\n",
    "# list_of_lists[0][1]\n",
    "list_of_lists[0,1]"
   ]
  }
 ],
 "metadata": {
  "kernelspec": {
   "display_name": "Python 3",
   "language": "python",
   "name": "python3"
  },
  "language_info": {
   "codemirror_mode": {
    "name": "ipython",
    "version": 3
   },
   "file_extension": ".py",
   "mimetype": "text/x-python",
   "name": "python",
   "nbconvert_exporter": "python",
   "pygments_lexer": "ipython3",
   "version": "3.6.5"
  }
 },
 "nbformat": 4,
 "nbformat_minor": 2
}
