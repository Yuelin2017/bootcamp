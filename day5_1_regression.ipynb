{
 "cells": [
  {
   "cell_type": "code",
   "execution_count": 1,
   "metadata": {},
   "outputs": [],
   "source": [
    "import numpy as np\n",
    "import pandas as pd\n",
    "\n",
    "# We'll use scipy.optimize.curve_fit to do the nonlinear regression\n",
    "import scipy.optimize\n",
    "\n",
    "import altair as alt"
   ]
  },
  {
   "cell_type": "code",
   "execution_count": 3,
   "metadata": {},
   "outputs": [
    {
     "data": {
      "text/html": [
       "<div>\n",
       "<style scoped>\n",
       "    .dataframe tbody tr th:only-of-type {\n",
       "        vertical-align: middle;\n",
       "    }\n",
       "\n",
       "    .dataframe tbody tr th {\n",
       "        vertical-align: top;\n",
       "    }\n",
       "\n",
       "    .dataframe thead th {\n",
       "        text-align: right;\n",
       "    }\n",
       "</style>\n",
       "<table border=\"1\" class=\"dataframe\">\n",
       "  <thead>\n",
       "    <tr style=\"text-align: right;\">\n",
       "      <th></th>\n",
       "      <th>fractional distance from anterior</th>\n",
       "      <th>bcd</th>\n",
       "    </tr>\n",
       "  </thead>\n",
       "  <tbody>\n",
       "    <tr>\n",
       "      <th>0</th>\n",
       "      <td>0.002645</td>\n",
       "      <td>0.863097</td>\n",
       "    </tr>\n",
       "    <tr>\n",
       "      <th>1</th>\n",
       "      <td>0.034223</td>\n",
       "      <td>0.863097</td>\n",
       "    </tr>\n",
       "    <tr>\n",
       "      <th>2</th>\n",
       "      <td>0.068446</td>\n",
       "      <td>0.745727</td>\n",
       "    </tr>\n",
       "    <tr>\n",
       "      <th>3</th>\n",
       "      <td>0.102629</td>\n",
       "      <td>0.654875</td>\n",
       "    </tr>\n",
       "    <tr>\n",
       "      <th>4</th>\n",
       "      <td>0.134207</td>\n",
       "      <td>0.545114</td>\n",
       "    </tr>\n",
       "  </tbody>\n",
       "</table>\n",
       "</div>"
      ],
      "text/plain": [
       "   fractional distance from anterior       bcd\n",
       "0                           0.002645  0.863097\n",
       "1                           0.034223  0.863097\n",
       "2                           0.068446  0.745727\n",
       "3                           0.102629  0.654875\n",
       "4                           0.134207  0.545114"
      ]
     },
     "execution_count": 3,
     "metadata": {},
     "output_type": "execute_result"
    }
   ],
   "source": [
    "df=pd.read_csv('data/bcd_gradient.csv',comment=\"#\")\n",
    "df = df.rename(columns={\"[bcd] (a.u.)\":'bcd'})\n",
    "df.head()"
   ]
  },
  {
   "cell_type": "code",
   "execution_count": 5,
   "metadata": {},
   "outputs": [],
   "source": [
    "dots=alt.Chart(df\n",
    "    ).mark_point(\n",
    "    ).encode(\n",
    "        x='fractional distance from anterior:Q',\n",
    "        y=alt.Y('bcd:Q', title='bcd intensity (a.u.)',scale=alt.Scale(domain=[0,1])))"
   ]
  },
  {
   "cell_type": "code",
   "execution_count": 6,
   "metadata": {},
   "outputs": [
    {
     "data": {
      "application/vnd.vegalite.v2+json": {
       "$schema": "https://vega.github.io/schema/vega-lite/v2.4.3.json",
       "config": {
        "view": {
         "height": 300,
         "width": 400
        }
       },
       "data": {
        "values": [
         {
          "bcd": 0.8630969280563285,
          "fractional distance from anterior": 0.002644667245598801
         },
         {
          "bcd": 0.8630969280563285,
          "fractional distance from anterior": 0.034222783610957604
         },
         {
          "bcd": 0.7457271023791949,
          "fractional distance from anterior": 0.06844556722191521
         },
         {
          "bcd": 0.6548747941627394,
          "fractional distance from anterior": 0.10262887818741613
         },
         {
          "bcd": 0.5451138492987339,
          "fractional distance from anterior": 0.13420699455277493
         },
         {
          "bcd": 0.469365737323264,
          "fractional distance from anterior": 0.17107444540933134
         },
         {
          "bcd": 0.42393958321503616,
          "fractional distance from anterior": 0.20525775637483226
         },
         {
          "bcd": 0.3823178695133724,
          "fractional distance from anterior": 0.23948053998578986
         },
         {
          "bcd": 0.3444438135256374,
          "fractional distance from anterior": 0.2737033235967475
         },
         {
          "bcd": 0.28391346317642385,
          "fractional distance from anterior": 0.3078866345622484
         },
         {
          "bcd": 0.2649480438362388,
          "fractional distance from anterior": 0.342109418173206
         },
         {
          "bcd": 0.29527000170348083,
          "fractional distance from anterior": 0.37893739638430574
         },
         {
          "bcd": 0.2498438475952531,
          "fractional distance from anterior": 0.4105155127496644
         },
         {
          "bcd": 0.22713077054113914,
          "fractional distance from anterior": 0.4473829636062209
         },
         {
          "bcd": 0.2422349667821249,
          "fractional distance from anterior": 0.4815662745717218
         },
         {
          "bcd": 0.21577423201408216,
          "fractional distance from anterior": 0.5157890581826794
         },
         {
          "bcd": 0.2308784282550679,
          "fractional distance from anterior": 0.550011841793637
         },
         {
          "bcd": 0.22713077054113914,
          "fractional distance from anterior": 0.5868398200047367
         },
         {
          "bcd": 0.208165351200954,
          "fractional distance from anterior": 0.6210626036156943
         },
         {
          "bcd": 0.2044176934870252,
          "fractional distance from anterior": 0.6552459145811952
         },
         {
          "bcd": 0.1817046164329113,
          "fractional distance from anterior": 0.6894686981921528
         },
         {
          "bcd": 0.19680881267389705,
          "fractional distance from anterior": 0.7236914818031106
         },
         {
          "bcd": 0.2006132530804612,
          "fractional distance from anterior": 0.7578747927686114
         },
         {
          "bcd": 0.1817046164329113,
          "fractional distance from anterior": 0.792097576379569
         },
         {
          "bcd": 0.17790017602634725,
          "fractional distance from anterior": 0.8263203599905266
         },
         {
          "bcd": 0.1817046164329113,
          "fractional distance from anterior": 0.8605036709560274
         },
         {
          "bcd": 0.18925671455340426,
          "fractional distance from anterior": 0.894726454566985
         },
         {
          "bcd": 0.17790017602634725,
          "fractional distance from anterior": 0.9657772163890423
         }
        ]
       },
       "encoding": {
        "x": {
         "field": "fractional distance from anterior",
         "type": "quantitative"
        },
        "y": {
         "field": "bcd",
         "scale": {
          "domain": [
           0,
           1
          ]
         },
         "title": "bcd intensity (a.u.)",
         "type": "quantitative"
        }
       },
       "mark": "point"
      },
      "image/png": "[encoded data removed]",
      "text/plain": [
       "<VegaLite 2 object>\n",
       "\n",
       "If you see this message, it means the renderer has not been properly enabled\n",
       "for the frontend that you are using. For more information, see\n",
       "https://altair-viz.github.io/user_guide/troubleshooting.html\n"
      ]
     },
     "execution_count": 6,
     "metadata": {},
     "output_type": "execute_result"
    }
   ],
   "source": [
    "dots"
   ]
  },
  {
   "cell_type": "code",
   "execution_count": 7,
   "metadata": {},
   "outputs": [
    {
     "data": {
      "text/plain": [
       "\u001b[0;31mSignature:\u001b[0m \u001b[0mscipy\u001b[0m\u001b[0;34m.\u001b[0m\u001b[0moptimize\u001b[0m\u001b[0;34m.\u001b[0m\u001b[0mcurve_fit\u001b[0m\u001b[0;34m(\u001b[0m\u001b[0mf\u001b[0m\u001b[0;34m,\u001b[0m \u001b[0mxdata\u001b[0m\u001b[0;34m,\u001b[0m \u001b[0mydata\u001b[0m\u001b[0;34m,\u001b[0m \u001b[0mp0\u001b[0m\u001b[0;34m=\u001b[0m\u001b[0;32mNone\u001b[0m\u001b[0;34m,\u001b[0m \u001b[0msigma\u001b[0m\u001b[0;34m=\u001b[0m\u001b[0;32mNone\u001b[0m\u001b[0;34m,\u001b[0m \u001b[0mabsolute_sigma\u001b[0m\u001b[0;34m=\u001b[0m\u001b[0;32mFalse\u001b[0m\u001b[0;34m,\u001b[0m \u001b[0mcheck_finite\u001b[0m\u001b[0;34m=\u001b[0m\u001b[0;32mTrue\u001b[0m\u001b[0;34m,\u001b[0m \u001b[0mbounds\u001b[0m\u001b[0;34m=\u001b[0m\u001b[0;34m(\u001b[0m\u001b[0;34m-\u001b[0m\u001b[0minf\u001b[0m\u001b[0;34m,\u001b[0m \u001b[0minf\u001b[0m\u001b[0;34m)\u001b[0m\u001b[0;34m,\u001b[0m \u001b[0mmethod\u001b[0m\u001b[0;34m=\u001b[0m\u001b[0;32mNone\u001b[0m\u001b[0;34m,\u001b[0m \u001b[0mjac\u001b[0m\u001b[0;34m=\u001b[0m\u001b[0;32mNone\u001b[0m\u001b[0;34m,\u001b[0m \u001b[0;34m**\u001b[0m\u001b[0mkwargs\u001b[0m\u001b[0;34m)\u001b[0m\u001b[0;34m\u001b[0m\u001b[0m\n",
       "\u001b[0;31mDocstring:\u001b[0m\n",
       "Use non-linear least squares to fit a function, f, to data.\n",
       "\n",
       "Assumes ``ydata = f(xdata, *params) + eps``\n",
       "\n",
       "Parameters\n",
       "----------\n",
       "f : callable\n",
       "    The model function, f(x, ...).  It must take the independent\n",
       "    variable as the first argument and the parameters to fit as\n",
       "    separate remaining arguments.\n",
       "xdata : An M-length sequence or an (k,M)-shaped array for functions with k predictors\n",
       "    The independent variable where the data is measured.\n",
       "ydata : M-length sequence\n",
       "    The dependent data --- nominally f(xdata, ...)\n",
       "p0 : None, scalar, or N-length sequence, optional\n",
       "    Initial guess for the parameters.  If None, then the initial\n",
       "    values will all be 1 (if the number of parameters for the function\n",
       "    can be determined using introspection, otherwise a ValueError\n",
       "    is raised).\n",
       "sigma : None or M-length sequence or MxM array, optional\n",
       "    Determines the uncertainty in `ydata`. If we define residuals as\n",
       "    ``r = ydata - f(xdata, *popt)``, then the interpretation of `sigma`\n",
       "    depends on its number of dimensions:\n",
       "\n",
       "        - A 1-d `sigma` should contain values of standard deviations of\n",
       "          errors in `ydata`. In this case, the optimized function is\n",
       "          ``chisq = sum((r / sigma) ** 2)``.\n",
       "\n",
       "        - A 2-d `sigma` should contain the covariance matrix of\n",
       "          errors in `ydata`. In this case, the optimized function is\n",
       "          ``chisq = r.T @ inv(sigma) @ r``.\n",
       "\n",
       "          .. versionadded:: 0.19\n",
       "\n",
       "    None (default) is equivalent of 1-d `sigma` filled with ones.\n",
       "absolute_sigma : bool, optional\n",
       "    If True, `sigma` is used in an absolute sense and the estimated parameter\n",
       "    covariance `pcov` reflects these absolute values.\n",
       "\n",
       "    If False, only the relative magnitudes of the `sigma` values matter.\n",
       "    The returned parameter covariance matrix `pcov` is based on scaling\n",
       "    `sigma` by a constant factor. This constant is set by demanding that the\n",
       "    reduced `chisq` for the optimal parameters `popt` when using the\n",
       "    *scaled* `sigma` equals unity. In other words, `sigma` is scaled to\n",
       "    match the sample variance of the residuals after the fit.\n",
       "    Mathematically,\n",
       "    ``pcov(absolute_sigma=False) = pcov(absolute_sigma=True) * chisq(popt)/(M-N)``\n",
       "check_finite : bool, optional\n",
       "    If True, check that the input arrays do not contain nans of infs,\n",
       "    and raise a ValueError if they do. Setting this parameter to\n",
       "    False may silently produce nonsensical results if the input arrays\n",
       "    do contain nans. Default is True.\n",
       "bounds : 2-tuple of array_like, optional\n",
       "    Lower and upper bounds on parameters. Defaults to no bounds.\n",
       "    Each element of the tuple must be either an array with the length equal\n",
       "    to the number of parameters, or a scalar (in which case the bound is\n",
       "    taken to be the same for all parameters.) Use ``np.inf`` with an\n",
       "    appropriate sign to disable bounds on all or some parameters.\n",
       "\n",
       "    .. versionadded:: 0.17\n",
       "method : {'lm', 'trf', 'dogbox'}, optional\n",
       "    Method to use for optimization.  See `least_squares` for more details.\n",
       "    Default is 'lm' for unconstrained problems and 'trf' if `bounds` are\n",
       "    provided. The method 'lm' won't work when the number of observations\n",
       "    is less than the number of variables, use 'trf' or 'dogbox' in this\n",
       "    case.\n",
       "\n",
       "    .. versionadded:: 0.17\n",
       "jac : callable, string or None, optional\n",
       "    Function with signature ``jac(x, ...)`` which computes the Jacobian\n",
       "    matrix of the model function with respect to parameters as a dense\n",
       "    array_like structure. It will be scaled according to provided `sigma`.\n",
       "    If None (default), the Jacobian will be estimated numerically.\n",
       "    String keywords for 'trf' and 'dogbox' methods can be used to select\n",
       "    a finite difference scheme, see `least_squares`.\n",
       "\n",
       "    .. versionadded:: 0.18\n",
       "kwargs\n",
       "    Keyword arguments passed to `leastsq` for ``method='lm'`` or\n",
       "    `least_squares` otherwise.\n",
       "\n",
       "Returns\n",
       "-------\n",
       "popt : array\n",
       "    Optimal values for the parameters so that the sum of the squared\n",
       "    residuals of ``f(xdata, *popt) - ydata`` is minimized\n",
       "pcov : 2d array\n",
       "    The estimated covariance of popt. The diagonals provide the variance\n",
       "    of the parameter estimate. To compute one standard deviation errors\n",
       "    on the parameters use ``perr = np.sqrt(np.diag(pcov))``.\n",
       "\n",
       "    How the `sigma` parameter affects the estimated covariance\n",
       "    depends on `absolute_sigma` argument, as described above.\n",
       "\n",
       "    If the Jacobian matrix at the solution doesn't have a full rank, then\n",
       "    'lm' method returns a matrix filled with ``np.inf``, on the other hand\n",
       "    'trf'  and 'dogbox' methods use Moore-Penrose pseudoinverse to compute\n",
       "    the covariance matrix.\n",
       "\n",
       "Raises\n",
       "------\n",
       "ValueError\n",
       "    if either `ydata` or `xdata` contain NaNs, or if incompatible options\n",
       "    are used.\n",
       "\n",
       "RuntimeError\n",
       "    if the least-squares minimization fails.\n",
       "\n",
       "OptimizeWarning\n",
       "    if covariance of the parameters can not be estimated.\n",
       "\n",
       "See Also\n",
       "--------\n",
       "least_squares : Minimize the sum of squares of nonlinear functions.\n",
       "scipy.stats.linregress : Calculate a linear least squares regression for\n",
       "                         two sets of measurements.\n",
       "\n",
       "Notes\n",
       "-----\n",
       "With ``method='lm'``, the algorithm uses the Levenberg-Marquardt algorithm\n",
       "through `leastsq`. Note that this algorithm can only deal with\n",
       "unconstrained problems.\n",
       "\n",
       "Box constraints can be handled by methods 'trf' and 'dogbox'. Refer to\n",
       "the docstring of `least_squares` for more information.\n",
       "\n",
       "Examples\n",
       "--------\n",
       ">>> import numpy as np\n",
       ">>> import matplotlib.pyplot as plt\n",
       ">>> from scipy.optimize import curve_fit\n",
       "\n",
       ">>> def func(x, a, b, c):\n",
       "...     return a * np.exp(-b * x) + c\n",
       "\n",
       "Define the data to be fit with some noise:\n",
       "\n",
       ">>> xdata = np.linspace(0, 4, 50)\n",
       ">>> y = func(xdata, 2.5, 1.3, 0.5)\n",
       ">>> np.random.seed(1729)\n",
       ">>> y_noise = 0.2 * np.random.normal(size=xdata.size)\n",
       ">>> ydata = y + y_noise\n",
       ">>> plt.plot(xdata, ydata, 'b-', label='data')\n",
       "\n",
       "Fit for the parameters a, b, c of the function `func`:\n",
       "\n",
       ">>> popt, pcov = curve_fit(func, xdata, ydata)\n",
       ">>> popt\n",
       "array([ 2.55423706,  1.35190947,  0.47450618])\n",
       ">>> plt.plot(xdata, func(xdata, *popt), 'r-',\n",
       "...          label='fit: a=%5.3f, b=%5.3f, c=%5.3f' % tuple(popt))\n",
       "\n",
       "Constrain the optimization to the region of ``0 <= a <= 3``,\n",
       "``0 <= b <= 1`` and ``0 <= c <= 0.5``:\n",
       "\n",
       ">>> popt, pcov = curve_fit(func, xdata, ydata, bounds=(0, [3., 1., 0.5]))\n",
       ">>> popt\n",
       "array([ 2.43708906,  1.        ,  0.35015434])\n",
       ">>> plt.plot(xdata, func(xdata, *popt), 'g--',\n",
       "...          label='fit: a=%5.3f, b=%5.3f, c=%5.3f' % tuple(popt))\n",
       "\n",
       ">>> plt.xlabel('x')\n",
       ">>> plt.ylabel('y')\n",
       ">>> plt.legend()\n",
       ">>> plt.show()\n",
       "\u001b[0;31mFile:\u001b[0m      /anaconda3/lib/python3.6/site-packages/scipy/optimize/minpack.py\n",
       "\u001b[0;31mType:\u001b[0m      function\n"
      ]
     },
     "metadata": {},
     "output_type": "display_data"
    }
   ],
   "source": [
    "scipy.optimize.curve_fit?"
   ]
  },
  {
   "cell_type": "code",
   "execution_count": 22,
   "metadata": {},
   "outputs": [],
   "source": [
    "def bcd_gradient_model_first_try(x,I_0,a,lam):\n",
    "    return a + I_0 * np.exp(-x/lam)"
   ]
  },
  {
   "cell_type": "code",
   "execution_count": 17,
   "metadata": {},
   "outputs": [],
   "source": [
    "def bcd_gradient_model(x,I_0,a,lam):\n",
    "    if np.any(x<0):\n",
    "        raise RuntimeError(\"All values of 'x' must be >= zero.\")\n",
    "    if np.any(np.array([I_0,a,lam]) < 0):\n",
    "        raise RuntimeError('All parameters must be >= zero.')\n",
    "              \n",
    "    return a + I_0 * np.exp(-x/lam)\n"
   ]
  },
  {
   "cell_type": "code",
   "execution_count": 24,
   "metadata": {},
   "outputs": [],
   "source": [
    "I_0_guess=0.7\n",
    "a_guess=0.2\n",
    "lam_guess=0.3 # 1.0 #\n",
    "\n",
    "p0=np.array([I_0_guess,a_guess,lam_guess])"
   ]
  },
  {
   "cell_type": "code",
   "execution_count": 21,
   "metadata": {},
   "outputs": [
    {
     "ename": "RuntimeError",
     "evalue": "All parameters must be >= zero.",
     "output_type": "error",
     "traceback": [
      "\u001b[0;31m---------------------------------------------------------------------------\u001b[0m",
      "\u001b[0;31mRuntimeError\u001b[0m                              Traceback (most recent call last)",
      "\u001b[0;32m<ipython-input-21-e807fa08d244>\u001b[0m in \u001b[0;36m<module>\u001b[0;34m()\u001b[0m\n\u001b[1;32m      1\u001b[0m \u001b[0;31m# _ awarely ignore it\u001b[0m\u001b[0;34m\u001b[0m\u001b[0;34m\u001b[0m\u001b[0m\n\u001b[1;32m      2\u001b[0m \u001b[0;34m\u001b[0m\u001b[0m\n\u001b[0;32m----> 3\u001b[0;31m \u001b[0mpopt\u001b[0m\u001b[0;34m,\u001b[0m \u001b[0m_\u001b[0m \u001b[0;34m=\u001b[0m \u001b[0mscipy\u001b[0m\u001b[0;34m.\u001b[0m\u001b[0moptimize\u001b[0m\u001b[0;34m.\u001b[0m\u001b[0mcurve_fit\u001b[0m\u001b[0;34m(\u001b[0m\u001b[0mbcd_gradient_model\u001b[0m\u001b[0;34m,\u001b[0m\u001b[0mdf\u001b[0m\u001b[0;34m[\u001b[0m\u001b[0;34m'fractional distance from anterior'\u001b[0m\u001b[0;34m]\u001b[0m\u001b[0;34m,\u001b[0m\u001b[0mdf\u001b[0m\u001b[0;34m[\u001b[0m\u001b[0;34m'bcd'\u001b[0m\u001b[0;34m]\u001b[0m\u001b[0;34m,\u001b[0m\u001b[0mp0\u001b[0m\u001b[0;34m=\u001b[0m\u001b[0mp0\u001b[0m\u001b[0;34m)\u001b[0m\u001b[0;34m\u001b[0m\u001b[0m\n\u001b[0m",
      "\u001b[0;32m/anaconda3/lib/python3.6/site-packages/scipy/optimize/minpack.py\u001b[0m in \u001b[0;36mcurve_fit\u001b[0;34m(f, xdata, ydata, p0, sigma, absolute_sigma, check_finite, bounds, method, jac, **kwargs)\u001b[0m\n\u001b[1;32m    749\u001b[0m         \u001b[0;31m# Remove full_output from kwargs, otherwise we're passing it in twice.\u001b[0m\u001b[0;34m\u001b[0m\u001b[0;34m\u001b[0m\u001b[0m\n\u001b[1;32m    750\u001b[0m         \u001b[0mreturn_full\u001b[0m \u001b[0;34m=\u001b[0m \u001b[0mkwargs\u001b[0m\u001b[0;34m.\u001b[0m\u001b[0mpop\u001b[0m\u001b[0;34m(\u001b[0m\u001b[0;34m'full_output'\u001b[0m\u001b[0;34m,\u001b[0m \u001b[0;32mFalse\u001b[0m\u001b[0;34m)\u001b[0m\u001b[0;34m\u001b[0m\u001b[0m\n\u001b[0;32m--> 751\u001b[0;31m         \u001b[0mres\u001b[0m \u001b[0;34m=\u001b[0m \u001b[0mleastsq\u001b[0m\u001b[0;34m(\u001b[0m\u001b[0mfunc\u001b[0m\u001b[0;34m,\u001b[0m \u001b[0mp0\u001b[0m\u001b[0;34m,\u001b[0m \u001b[0mDfun\u001b[0m\u001b[0;34m=\u001b[0m\u001b[0mjac\u001b[0m\u001b[0;34m,\u001b[0m \u001b[0mfull_output\u001b[0m\u001b[0;34m=\u001b[0m\u001b[0;36m1\u001b[0m\u001b[0;34m,\u001b[0m \u001b[0;34m**\u001b[0m\u001b[0mkwargs\u001b[0m\u001b[0;34m)\u001b[0m\u001b[0;34m\u001b[0m\u001b[0m\n\u001b[0m\u001b[1;32m    752\u001b[0m         \u001b[0mpopt\u001b[0m\u001b[0;34m,\u001b[0m \u001b[0mpcov\u001b[0m\u001b[0;34m,\u001b[0m \u001b[0minfodict\u001b[0m\u001b[0;34m,\u001b[0m \u001b[0merrmsg\u001b[0m\u001b[0;34m,\u001b[0m \u001b[0mier\u001b[0m \u001b[0;34m=\u001b[0m \u001b[0mres\u001b[0m\u001b[0;34m\u001b[0m\u001b[0m\n\u001b[1;32m    753\u001b[0m         \u001b[0mcost\u001b[0m \u001b[0;34m=\u001b[0m \u001b[0mnp\u001b[0m\u001b[0;34m.\u001b[0m\u001b[0msum\u001b[0m\u001b[0;34m(\u001b[0m\u001b[0minfodict\u001b[0m\u001b[0;34m[\u001b[0m\u001b[0;34m'fvec'\u001b[0m\u001b[0;34m]\u001b[0m \u001b[0;34m**\u001b[0m \u001b[0;36m2\u001b[0m\u001b[0;34m)\u001b[0m\u001b[0;34m\u001b[0m\u001b[0m\n",
      "\u001b[0;32m/anaconda3/lib/python3.6/site-packages/scipy/optimize/minpack.py\u001b[0m in \u001b[0;36mleastsq\u001b[0;34m(func, x0, args, Dfun, full_output, col_deriv, ftol, xtol, gtol, maxfev, epsfcn, factor, diag)\u001b[0m\n\u001b[1;32m    392\u001b[0m         \u001b[0;32mwith\u001b[0m \u001b[0m_MINPACK_LOCK\u001b[0m\u001b[0;34m:\u001b[0m\u001b[0;34m\u001b[0m\u001b[0m\n\u001b[1;32m    393\u001b[0m             retval = _minpack._lmdif(func, x0, args, full_output, ftol, xtol,\n\u001b[0;32m--> 394\u001b[0;31m                                      gtol, maxfev, epsfcn, factor, diag)\n\u001b[0m\u001b[1;32m    395\u001b[0m     \u001b[0;32melse\u001b[0m\u001b[0;34m:\u001b[0m\u001b[0;34m\u001b[0m\u001b[0m\n\u001b[1;32m    396\u001b[0m         \u001b[0;32mif\u001b[0m \u001b[0mcol_deriv\u001b[0m\u001b[0;34m:\u001b[0m\u001b[0;34m\u001b[0m\u001b[0m\n",
      "\u001b[0;32m/anaconda3/lib/python3.6/site-packages/scipy/optimize/minpack.py\u001b[0m in \u001b[0;36mfunc_wrapped\u001b[0;34m(params)\u001b[0m\n\u001b[1;32m    461\u001b[0m     \u001b[0;32mif\u001b[0m \u001b[0mtransform\u001b[0m \u001b[0;32mis\u001b[0m \u001b[0;32mNone\u001b[0m\u001b[0;34m:\u001b[0m\u001b[0;34m\u001b[0m\u001b[0m\n\u001b[1;32m    462\u001b[0m         \u001b[0;32mdef\u001b[0m \u001b[0mfunc_wrapped\u001b[0m\u001b[0;34m(\u001b[0m\u001b[0mparams\u001b[0m\u001b[0;34m)\u001b[0m\u001b[0;34m:\u001b[0m\u001b[0;34m\u001b[0m\u001b[0m\n\u001b[0;32m--> 463\u001b[0;31m             \u001b[0;32mreturn\u001b[0m \u001b[0mfunc\u001b[0m\u001b[0;34m(\u001b[0m\u001b[0mxdata\u001b[0m\u001b[0;34m,\u001b[0m \u001b[0;34m*\u001b[0m\u001b[0mparams\u001b[0m\u001b[0;34m)\u001b[0m \u001b[0;34m-\u001b[0m \u001b[0mydata\u001b[0m\u001b[0;34m\u001b[0m\u001b[0m\n\u001b[0m\u001b[1;32m    464\u001b[0m     \u001b[0;32melif\u001b[0m \u001b[0mtransform\u001b[0m\u001b[0;34m.\u001b[0m\u001b[0mndim\u001b[0m \u001b[0;34m==\u001b[0m \u001b[0;36m1\u001b[0m\u001b[0;34m:\u001b[0m\u001b[0;34m\u001b[0m\u001b[0m\n\u001b[1;32m    465\u001b[0m         \u001b[0;32mdef\u001b[0m \u001b[0mfunc_wrapped\u001b[0m\u001b[0;34m(\u001b[0m\u001b[0mparams\u001b[0m\u001b[0;34m)\u001b[0m\u001b[0;34m:\u001b[0m\u001b[0;34m\u001b[0m\u001b[0m\n",
      "\u001b[0;32m<ipython-input-17-55073484c83f>\u001b[0m in \u001b[0;36mbcd_gradient_model\u001b[0;34m(x, I_0, a, lam)\u001b[0m\n\u001b[1;32m      3\u001b[0m         \u001b[0;32mraise\u001b[0m \u001b[0mRuntimeError\u001b[0m\u001b[0;34m(\u001b[0m\u001b[0;34m\"All values of 'x' must be >= zero.\"\u001b[0m\u001b[0;34m)\u001b[0m\u001b[0;34m\u001b[0m\u001b[0m\n\u001b[1;32m      4\u001b[0m     \u001b[0;32mif\u001b[0m \u001b[0mnp\u001b[0m\u001b[0;34m.\u001b[0m\u001b[0many\u001b[0m\u001b[0;34m(\u001b[0m\u001b[0mnp\u001b[0m\u001b[0;34m.\u001b[0m\u001b[0marray\u001b[0m\u001b[0;34m(\u001b[0m\u001b[0;34m[\u001b[0m\u001b[0mI_0\u001b[0m\u001b[0;34m,\u001b[0m\u001b[0ma\u001b[0m\u001b[0;34m,\u001b[0m\u001b[0mlam\u001b[0m\u001b[0;34m]\u001b[0m\u001b[0;34m)\u001b[0m \u001b[0;34m<\u001b[0m \u001b[0;36m0\u001b[0m\u001b[0;34m)\u001b[0m\u001b[0;34m:\u001b[0m\u001b[0;34m\u001b[0m\u001b[0m\n\u001b[0;32m----> 5\u001b[0;31m         \u001b[0;32mraise\u001b[0m \u001b[0mRuntimeError\u001b[0m\u001b[0;34m(\u001b[0m\u001b[0;34m'All parameters must be >= zero.'\u001b[0m\u001b[0;34m)\u001b[0m\u001b[0;34m\u001b[0m\u001b[0m\n\u001b[0m\u001b[1;32m      6\u001b[0m \u001b[0;34m\u001b[0m\u001b[0m\n\u001b[1;32m      7\u001b[0m     \u001b[0;32mreturn\u001b[0m \u001b[0ma\u001b[0m \u001b[0;34m+\u001b[0m \u001b[0mI_0\u001b[0m \u001b[0;34m*\u001b[0m \u001b[0mnp\u001b[0m\u001b[0;34m.\u001b[0m\u001b[0mexp\u001b[0m\u001b[0;34m(\u001b[0m\u001b[0;34m-\u001b[0m\u001b[0mx\u001b[0m\u001b[0;34m/\u001b[0m\u001b[0mlam\u001b[0m\u001b[0;34m)\u001b[0m\u001b[0;34m\u001b[0m\u001b[0m\n",
      "\u001b[0;31mRuntimeError\u001b[0m: All parameters must be >= zero."
     ]
    }
   ],
   "source": [
    "# _ awarely ignore it\n",
    "popt, _ = scipy.optimize.curve_fit(bcd_gradient_model,df['fractional distance from anterior'],df['bcd'],p0=p0)\n",
    "# either delete the testing or change better initial value or transform to log scale"
   ]
  },
  {
   "cell_type": "code",
   "execution_count": 25,
   "metadata": {},
   "outputs": [],
   "source": [
    "popt, _ = scipy.optimize.curve_fit(bcd_gradient_model,df['fractional distance from anterior'],df['bcd'],p0=p0)"
   ]
  },
  {
   "cell_type": "code",
   "execution_count": 26,
   "metadata": {},
   "outputs": [
    {
     "data": {
      "text/plain": [
       "array([0.76762162, 0.17423312, 0.18712895])"
      ]
     },
     "execution_count": 26,
     "metadata": {},
     "output_type": "execute_result"
    }
   ],
   "source": [
    "popt"
   ]
  },
  {
   "cell_type": "code",
   "execution_count": 28,
   "metadata": {},
   "outputs": [],
   "source": [
    "def bcd_gradient_model_log_params(x,log_I_0,log_a,log_lam):\n",
    "    I_0,a,lam = np.exp(np.array([log_I_0,log_a,log_lam]))\n",
    "    return bcd_gradient_model(x,I_0,a,lam)"
   ]
  },
  {
   "cell_type": "code",
   "execution_count": 29,
   "metadata": {},
   "outputs": [
    {
     "data": {
      "text/plain": [
       "array([0.76762146, 0.17423293, 0.18712924])"
      ]
     },
     "execution_count": 29,
     "metadata": {},
     "output_type": "execute_result"
    }
   ],
   "source": [
    "log_p0 = np.log(p0)\n",
    "log_popt,_=scipy.optimize.curve_fit(bcd_gradient_model_log_params,\n",
    "                                   df['fractional distance from anterior'],\n",
    "                                    df['bcd'],\n",
    "                                    p0=log_p0)\n",
    "popt=np.exp(log_popt)\n",
    "popt"
   ]
  },
  {
   "cell_type": "code",
   "execution_count": null,
   "metadata": {},
   "outputs": [],
   "source": [
    "# finches: linear regression"
   ]
  },
  {
   "cell_type": "code",
   "execution_count": 31,
   "metadata": {},
   "outputs": [],
   "source": [
    "df=pd.read_csv('data/grant_complete.csv',comment='#')\n",
    "df=df.loc[(df['year']==1987) & (df['species']=='scandens'),:]\n",
    "df=df.drop_duplicates(subset=['band'])\n",
    "df=df[['beak length (mm)','beak depth (mm)']]"
   ]
  },
  {
   "cell_type": "code",
   "execution_count": 33,
   "metadata": {},
   "outputs": [],
   "source": [
    "dots=alt.Chart(df\n",
    "        ).mark_point(\n",
    "        ).encode(\n",
    "        alt.X('beak length (mm):Q',scale =alt.Scale(zero=False)),\n",
    "        alt.Y('beak depth (mm):Q',scale =alt.Scale(zero=False))\n",
    "        )"
   ]
  },
  {
   "cell_type": "code",
   "execution_count": 34,
   "metadata": {},
   "outputs": [
    {
     "data": {
      "application/vnd.vegalite.v2+json": {
       "$schema": "https://vega.github.io/schema/vega-lite/v2.4.3.json",
       "config": {
        "view": {
         "height": 300,
         "width": 400
        }
       },
       "data": {
        "values": [
         {
          "beak depth (mm)": 7.77,
          "beak length (mm)": 10.75
         },
         {
          "beak depth (mm)": 7.94,
          "beak length (mm)": 13.73
         },
         {
          "beak depth (mm)": 7.96,
          "beak length (mm)": 14.04
         },
         {
          "beak depth (mm)": 8,
          "beak length (mm)": 12.5
         },
         {
          "beak depth (mm)": 8.01,
          "beak length (mm)": 12.64
         },
         {
          "beak depth (mm)": 8.23,
          "beak length (mm)": 12.66
         },
         {
          "beak depth (mm)": 8.3,
          "beak length (mm)": 13
         },
         {
          "beak depth (mm)": 8.36,
          "beak length (mm)": 13.15
         },
         {
          "beak depth (mm)": 8.37,
          "beak length (mm)": 13.96
         },
         {
          "beak depth (mm)": 8.4,
          "beak length (mm)": 13.15
         },
         {
          "beak depth (mm)": 8.4,
          "beak length (mm)": 13.7
         },
         {
          "beak depth (mm)": 8.4,
          "beak length (mm)": 14
         },
         {
          "beak depth (mm)": 8.41,
          "beak length (mm)": 13.43
         },
         {
          "beak depth (mm)": 8.5,
          "beak length (mm)": 14
         },
         {
          "beak depth (mm)": 8.5,
          "beak length (mm)": 14.9
         },
         {
          "beak depth (mm)": 8.6,
          "beak length (mm)": 13.6
         },
         {
          "beak depth (mm)": 8.6,
          "beak length (mm)": 13.8
         },
         {
          "beak depth (mm)": 8.6,
          "beak length (mm)": 14.9
         },
         {
          "beak depth (mm)": 8.61,
          "beak length (mm)": 13.94
         },
         {
          "beak depth (mm)": 8.67,
          "beak length (mm)": 14.81
         },
         {
          "beak depth (mm)": 8.7,
          "beak length (mm)": 12.5
         },
         {
          "beak depth (mm)": 8.7,
          "beak length (mm)": 13.75
         },
         {
          "beak depth (mm)": 8.7,
          "beak length (mm)": 14
         },
         {
          "beak depth (mm)": 8.7,
          "beak length (mm)": 14.5
         },
         {
          "beak depth (mm)": 8.7,
          "beak length (mm)": 14.7
         },
         {
          "beak depth (mm)": 8.72,
          "beak length (mm)": 14.05
         },
         {
          "beak depth (mm)": 8.72,
          "beak length (mm)": 14.17
         },
         {
          "beak depth (mm)": 8.77,
          "beak length (mm)": 15.07
         },
         {
          "beak depth (mm)": 8.8,
          "beak length (mm)": 11.5
         },
         {
          "beak depth (mm)": 8.8,
          "beak length (mm)": 13.5
         },
         {
          "beak depth (mm)": 8.8,
          "beak length (mm)": 13.87
         },
         {
          "beak depth (mm)": 8.8,
          "beak length (mm)": 14.9
         },
         {
          "beak depth (mm)": 8.81,
          "beak length (mm)": 12.34
         },
         {
          "beak depth (mm)": 8.81,
          "beak length (mm)": 14.34
         },
         {
          "beak depth (mm)": 8.87,
          "beak length (mm)": 15.07
         },
         {
          "beak depth (mm)": 8.88,
          "beak length (mm)": 14.01
         },
         {
          "beak depth (mm)": 8.89,
          "beak length (mm)": 12.86
         },
         {
          "beak depth (mm)": 8.9,
          "beak length (mm)": 13.6
         },
         {
          "beak depth (mm)": 8.9,
          "beak length (mm)": 13.8
         },
         {
          "beak depth (mm)": 8.9,
          "beak length (mm)": 13.85
         },
         {
          "beak depth (mm)": 8.9,
          "beak length (mm)": 13.9
         },
         {
          "beak depth (mm)": 8.9,
          "beak length (mm)": 14.1
         },
         {
          "beak depth (mm)": 8.9,
          "beak length (mm)": 14.1
         },
         {
          "beak depth (mm)": 8.9,
          "beak length (mm)": 14.2
         },
         {
          "beak depth (mm)": 8.9,
          "beak length (mm)": 14.3
         },
         {
          "beak depth (mm)": 8.9,
          "beak length (mm)": 14.9
         },
         {
          "beak depth (mm)": 8.91,
          "beak length (mm)": 13.84
         },
         {
          "beak depth (mm)": 8.91,
          "beak length (mm)": 14.09
         },
         {
          "beak depth (mm)": 8.92,
          "beak length (mm)": 14.05
         },
         {
          "beak depth (mm)": 8.93,
          "beak length (mm)": 14.15
         },
         {
          "beak depth (mm)": 8.93,
          "beak length (mm)": 14.25
         },
         {
          "beak depth (mm)": 8.95,
          "beak length (mm)": 13.6
         },
         {
          "beak depth (mm)": 8.95,
          "beak length (mm)": 14.57
         },
         {
          "beak depth (mm)": 8.96,
          "beak length (mm)": 11.89
         },
         {
          "beak depth (mm)": 8.97,
          "beak length (mm)": 13.8
         },
         {
          "beak depth (mm)": 8.97,
          "beak length (mm)": 14.21
         },
         {
          "beak depth (mm)": 8.99,
          "beak length (mm)": 14.76
         },
         {
          "beak depth (mm)": 9,
          "beak length (mm)": 12.07
         },
         {
          "beak depth (mm)": 9,
          "beak length (mm)": 13.9
         },
         {
          "beak depth (mm)": 9,
          "beak length (mm)": 14.1
         },
         {
          "beak depth (mm)": 9,
          "beak length (mm)": 14.3
         },
         {
          "beak depth (mm)": 9,
          "beak length (mm)": 14.95
         },
         {
          "beak depth (mm)": 9.01,
          "beak length (mm)": 14.34
         },
         {
          "beak depth (mm)": 9.02,
          "beak length (mm)": 13.84
         },
         {
          "beak depth (mm)": 9.02,
          "beak length (mm)": 14.04
         },
         {
          "beak depth (mm)": 9.02,
          "beak length (mm)": 14.14
         },
         {
          "beak depth (mm)": 9.03,
          "beak length (mm)": 12.56
         },
         {
          "beak depth (mm)": 9.04,
          "beak length (mm)": 15.14
         },
         {
          "beak depth (mm)": 9.05,
          "beak length (mm)": 14.35
         },
         {
          "beak depth (mm)": 9.05,
          "beak length (mm)": 14.85
         },
         {
          "beak depth (mm)": 9.06,
          "beak length (mm)": 14.04
         },
         {
          "beak depth (mm)": 9.1,
          "beak length (mm)": 14.2
         },
         {
          "beak depth (mm)": 9.1,
          "beak length (mm)": 14.3
         },
         {
          "beak depth (mm)": 9.1,
          "beak length (mm)": 14.5
         },
         {
          "beak depth (mm)": 9.1,
          "beak length (mm)": 14.5
         },
         {
          "beak depth (mm)": 9.1,
          "beak length (mm)": 14.6
         },
         {
          "beak depth (mm)": 9.1,
          "beak length (mm)": 15
         },
         {
          "beak depth (mm)": 9.13,
          "beak length (mm)": 13.6
         },
         {
          "beak depth (mm)": 9.13,
          "beak length (mm)": 14.65
         },
         {
          "beak depth (mm)": 9.14,
          "beak length (mm)": 14.03
         },
         {
          "beak depth (mm)": 9.18,
          "beak length (mm)": 14.16
         },
         {
          "beak depth (mm)": 9.2,
          "beak length (mm)": 13.83
         },
         {
          "beak depth (mm)": 9.2,
          "beak length (mm)": 14.2
         },
         {
          "beak depth (mm)": 9.2,
          "beak length (mm)": 14.35
         },
         {
          "beak depth (mm)": 9.2,
          "beak length (mm)": 14.45
         },
         {
          "beak depth (mm)": 9.21,
          "beak length (mm)": 14.64
         },
         {
          "beak depth (mm)": 9.21,
          "beak length (mm)": 15.04
         },
         {
          "beak depth (mm)": 9.22,
          "beak length (mm)": 13.9
         },
         {
          "beak depth (mm)": 9.24,
          "beak length (mm)": 14.34
         },
         {
          "beak depth (mm)": 9.24,
          "beak length (mm)": 14.53
         },
         {
          "beak depth (mm)": 9.25,
          "beak length (mm)": 14.2
         },
         {
          "beak depth (mm)": 9.25,
          "beak length (mm)": 14.85
         },
         {
          "beak depth (mm)": 9.25,
          "beak length (mm)": 15.1
         },
         {
          "beak depth (mm)": 9.25,
          "beak length (mm)": 15.2
         },
         {
          "beak depth (mm)": 9.26,
          "beak length (mm)": 13.5
         },
         {
          "beak depth (mm)": 9.26,
          "beak length (mm)": 14.95
         },
         {
          "beak depth (mm)": 9.28,
          "beak length (mm)": 13.83
         },
         {
          "beak depth (mm)": 9.28,
          "beak length (mm)": 13.95
         },
         {
          "beak depth (mm)": 9.28,
          "beak length (mm)": 15.09
         },
         {
          "beak depth (mm)": 9.3,
          "beak length (mm)": 13.43
         },
         {
          "beak depth (mm)": 9.3,
          "beak length (mm)": 13.7
         },
         {
          "beak depth (mm)": 9.3,
          "beak length (mm)": 14
         },
         {
          "beak depth (mm)": 9.3,
          "beak length (mm)": 14.15
         },
         {
          "beak depth (mm)": 9.3,
          "beak length (mm)": 14.75
         },
         {
          "beak depth (mm)": 9.3,
          "beak length (mm)": 14.9
         },
         {
          "beak depth (mm)": 9.3,
          "beak length (mm)": 15
         },
         {
          "beak depth (mm)": 9.32,
          "beak length (mm)": 13.56
         },
         {
          "beak depth (mm)": 9.33,
          "beak length (mm)": 14.26
         },
         {
          "beak depth (mm)": 9.34,
          "beak length (mm)": 13.83
         },
         {
          "beak depth (mm)": 9.34,
          "beak length (mm)": 14.53
         },
         {
          "beak depth (mm)": 9.34,
          "beak length (mm)": 14.84
         },
         {
          "beak depth (mm)": 9.35,
          "beak length (mm)": 15
         },
         {
          "beak depth (mm)": 9.37,
          "beak length (mm)": 13.76
         },
         {
          "beak depth (mm)": 9.37,
          "beak length (mm)": 13.9
         },
         {
          "beak depth (mm)": 9.37,
          "beak length (mm)": 14.29
         },
         {
          "beak depth (mm)": 9.37,
          "beak length (mm)": 14.63
         },
         {
          "beak depth (mm)": 9.38,
          "beak length (mm)": 14.3
         },
         {
          "beak depth (mm)": 9.4,
          "beak length (mm)": 13.6
         },
         {
          "beak depth (mm)": 9.4,
          "beak length (mm)": 14.4
         },
         {
          "beak depth (mm)": 9.4,
          "beak length (mm)": 14.9
         },
         {
          "beak depth (mm)": 9.4,
          "beak length (mm)": 14.9
         },
         {
          "beak depth (mm)": 9.42,
          "beak length (mm)": 14.34
         },
         {
          "beak depth (mm)": 9.43,
          "beak length (mm)": 14.53
         },
         {
          "beak depth (mm)": 9.45,
          "beak length (mm)": 14.65
         },
         {
          "beak depth (mm)": 9.5,
          "beak length (mm)": 14.8
         },
         {
          "beak depth (mm)": 9.5,
          "beak length (mm)": 16
         },
         {
          "beak depth (mm)": 9.51,
          "beak length (mm)": 13.14
         },
         {
          "beak depth (mm)": 9.51,
          "beak length (mm)": 14.44
         },
         {
          "beak depth (mm)": 9.52,
          "beak length (mm)": 12.73
         },
         {
          "beak depth (mm)": 9.54,
          "beak length (mm)": 15.04
         },
         {
          "beak depth (mm)": 9.55,
          "beak length (mm)": 14.85
         },
         {
          "beak depth (mm)": 9.6,
          "beak length (mm)": 14.2
         },
         {
          "beak depth (mm)": 9.6,
          "beak length (mm)": 15.2
         },
         {
          "beak depth (mm)": 9.6,
          "beak length (mm)": 16
         },
         {
          "beak depth (mm)": 9.62,
          "beak length (mm)": 14.47
         },
         {
          "beak depth (mm)": 9.64,
          "beak length (mm)": 14.54
         },
         {
          "beak depth (mm)": 9.65,
          "beak length (mm)": 14.9
         },
         {
          "beak depth (mm)": 9.7,
          "beak length (mm)": 14.9
         },
         {
          "beak depth (mm)": 9.7,
          "beak length (mm)": 15.8
         },
         {
          "beak depth (mm)": 9.73,
          "beak length (mm)": 13.46
         },
         {
          "beak depth (mm)": 9.73,
          "beak length (mm)": 14.77
         },
         {
          "beak depth (mm)": 9.74,
          "beak length (mm)": 14.44
         },
         {
          "beak depth (mm)": 9.8,
          "beak length (mm)": 15.2
         },
         {
          "beak depth (mm)": 9.8,
          "beak length (mm)": 16
         },
         {
          "beak depth (mm)": 9.82,
          "beak length (mm)": 14.4
         },
         {
          "beak depth (mm)": 9.85,
          "beak length (mm)": 14.45
         },
         {
          "beak depth (mm)": 9.85,
          "beak length (mm)": 15.35
         },
         {
          "beak depth (mm)": 9.9,
          "beak length (mm)": 14.2
         },
         {
          "beak depth (mm)": 9.9,
          "beak length (mm)": 15.3
         },
         {
          "beak depth (mm)": 9.94,
          "beak length (mm)": 14.27
         },
         {
          "beak depth (mm)": 10,
          "beak length (mm)": 15.8
         },
         {
          "beak depth (mm)": 10.1,
          "beak length (mm)": 15.3
         },
         {
          "beak depth (mm)": 10.11,
          "beak length (mm)": 11.24
         },
         {
          "beak depth (mm)": 10.27,
          "beak length (mm)": 15.2
         },
         {
          "beak depth (mm)": 10.34,
          "beak length (mm)": 15.44
         },
         {
          "beak depth (mm)": 11.33,
          "beak length (mm)": 14.96
         }
        ]
       },
       "encoding": {
        "x": {
         "field": "beak length (mm)",
         "scale": {
          "zero": false
         },
         "type": "quantitative"
        },
        "y": {
         "field": "beak depth (mm)",
         "scale": {
          "zero": false
         },
         "type": "quantitative"
        }
       },
       "mark": "point"
      },
      "image/png": "[encoded data removed]",
      "text/plain": [
       "<VegaLite 2 object>\n",
       "\n",
       "If you see this message, it means the renderer has not been properly enabled\n",
       "for the frontend that you are using. For more information, see\n",
       "https://altair-viz.github.io/user_guide/troubleshooting.html\n"
      ]
     },
     "execution_count": 34,
     "metadata": {},
     "output_type": "execute_result"
    }
   ],
   "source": [
    "dots"
   ]
  },
  {
   "cell_type": "code",
   "execution_count": 35,
   "metadata": {},
   "outputs": [],
   "source": [
    "beak_length = df['beak length (mm)'].values\n",
    "beak_depth = df['beak depth (mm)'].values"
   ]
  },
  {
   "cell_type": "code",
   "execution_count": 37,
   "metadata": {},
   "outputs": [],
   "source": [
    "# x, y, degree\n",
    "slope,intercept = np.polyfit(beak_length,beak_depth,deg=1)"
   ]
  },
  {
   "cell_type": "code",
   "execution_count": 40,
   "metadata": {},
   "outputs": [],
   "source": [
    "# Make a dataframe to plot the regression line\n",
    "x=np.array([10.5,16.5])\n",
    "y=slope*x+intercept\n",
    "df_line = pd.DataFrame({'x':x,'y':y})\n",
    "\n",
    "reg_line = alt.Chart(df_line\n",
    "        ).mark_line(\n",
    "            color='orange'\n",
    "        ).encode(\n",
    "            x=alt.X('x:Q',title = 'beak length (mm)', scale=alt.Scale(zero=False)),\n",
    "            y=alt.X('y:Q',title = 'beak depth (mm)', scale=alt.Scale(zero=False)),\n",
    ")"
   ]
  },
  {
   "cell_type": "code",
   "execution_count": 41,
   "metadata": {},
   "outputs": [
    {
     "data": {
      "application/vnd.vegalite.v2+json": {
       "$schema": "https://vega.github.io/schema/vega-lite/v2.4.3.json",
       "config": {
        "view": {
         "height": 300,
         "width": 400
        }
       },
       "layer": [
        {
         "data": {
          "values": [
           {
            "x": 10.5,
            "y": 8.170570994251374
           },
           {
            "x": 16.5,
            "y": 9.744124304550805
           }
          ]
         },
         "encoding": {
          "x": {
           "field": "x",
           "scale": {
            "zero": false
           },
           "title": "beak length (mm)",
           "type": "quantitative"
          },
          "y": {
           "field": "y",
           "scale": {
            "zero": false
           },
           "title": "beak depth (mm)",
           "type": "quantitative"
          }
         },
         "mark": {
          "color": "orange",
          "type": "line"
         }
        },
        {
         "data": {
          "values": [
           {
            "beak depth (mm)": 7.77,
            "beak length (mm)": 10.75
           },
           {
            "beak depth (mm)": 7.94,
            "beak length (mm)": 13.73
           },
           {
            "beak depth (mm)": 7.96,
            "beak length (mm)": 14.04
           },
           {
            "beak depth (mm)": 8,
            "beak length (mm)": 12.5
           },
           {
            "beak depth (mm)": 8.01,
            "beak length (mm)": 12.64
           },
           {
            "beak depth (mm)": 8.23,
            "beak length (mm)": 12.66
           },
           {
            "beak depth (mm)": 8.3,
            "beak length (mm)": 13
           },
           {
            "beak depth (mm)": 8.36,
            "beak length (mm)": 13.15
           },
           {
            "beak depth (mm)": 8.37,
            "beak length (mm)": 13.96
           },
           {
            "beak depth (mm)": 8.4,
            "beak length (mm)": 13.15
           },
           {
            "beak depth (mm)": 8.4,
            "beak length (mm)": 13.7
           },
           {
            "beak depth (mm)": 8.4,
            "beak length (mm)": 14
           },
           {
            "beak depth (mm)": 8.41,
            "beak length (mm)": 13.43
           },
           {
            "beak depth (mm)": 8.5,
            "beak length (mm)": 14
           },
           {
            "beak depth (mm)": 8.5,
            "beak length (mm)": 14.9
           },
           {
            "beak depth (mm)": 8.6,
            "beak length (mm)": 13.6
           },
           {
            "beak depth (mm)": 8.6,
            "beak length (mm)": 13.8
           },
           {
            "beak depth (mm)": 8.6,
            "beak length (mm)": 14.9
           },
           {
            "beak depth (mm)": 8.61,
            "beak length (mm)": 13.94
           },
           {
            "beak depth (mm)": 8.67,
            "beak length (mm)": 14.81
           },
           {
            "beak depth (mm)": 8.7,
            "beak length (mm)": 12.5
           },
           {
            "beak depth (mm)": 8.7,
            "beak length (mm)": 13.75
           },
           {
            "beak depth (mm)": 8.7,
            "beak length (mm)": 14
           },
           {
            "beak depth (mm)": 8.7,
            "beak length (mm)": 14.5
           },
           {
            "beak depth (mm)": 8.7,
            "beak length (mm)": 14.7
           },
           {
            "beak depth (mm)": 8.72,
            "beak length (mm)": 14.05
           },
           {
            "beak depth (mm)": 8.72,
            "beak length (mm)": 14.17
           },
           {
            "beak depth (mm)": 8.77,
            "beak length (mm)": 15.07
           },
           {
            "beak depth (mm)": 8.8,
            "beak length (mm)": 11.5
           },
           {
            "beak depth (mm)": 8.8,
            "beak length (mm)": 13.5
           },
           {
            "beak depth (mm)": 8.8,
            "beak length (mm)": 13.87
           },
           {
            "beak depth (mm)": 8.8,
            "beak length (mm)": 14.9
           },
           {
            "beak depth (mm)": 8.81,
            "beak length (mm)": 12.34
           },
           {
            "beak depth (mm)": 8.81,
            "beak length (mm)": 14.34
           },
           {
            "beak depth (mm)": 8.87,
            "beak length (mm)": 15.07
           },
           {
            "beak depth (mm)": 8.88,
            "beak length (mm)": 14.01
           },
           {
            "beak depth (mm)": 8.89,
            "beak length (mm)": 12.86
           },
           {
            "beak depth (mm)": 8.9,
            "beak length (mm)": 13.6
           },
           {
            "beak depth (mm)": 8.9,
            "beak length (mm)": 13.8
           },
           {
            "beak depth (mm)": 8.9,
            "beak length (mm)": 13.85
           },
           {
            "beak depth (mm)": 8.9,
            "beak length (mm)": 13.9
           },
           {
            "beak depth (mm)": 8.9,
            "beak length (mm)": 14.1
           },
           {
            "beak depth (mm)": 8.9,
            "beak length (mm)": 14.1
           },
           {
            "beak depth (mm)": 8.9,
            "beak length (mm)": 14.2
           },
           {
            "beak depth (mm)": 8.9,
            "beak length (mm)": 14.3
           },
           {
            "beak depth (mm)": 8.9,
            "beak length (mm)": 14.9
           },
           {
            "beak depth (mm)": 8.91,
            "beak length (mm)": 13.84
           },
           {
            "beak depth (mm)": 8.91,
            "beak length (mm)": 14.09
           },
           {
            "beak depth (mm)": 8.92,
            "beak length (mm)": 14.05
           },
           {
            "beak depth (mm)": 8.93,
            "beak length (mm)": 14.15
           },
           {
            "beak depth (mm)": 8.93,
            "beak length (mm)": 14.25
           },
           {
            "beak depth (mm)": 8.95,
            "beak length (mm)": 13.6
           },
           {
            "beak depth (mm)": 8.95,
            "beak length (mm)": 14.57
           },
           {
            "beak depth (mm)": 8.96,
            "beak length (mm)": 11.89
           },
           {
            "beak depth (mm)": 8.97,
            "beak length (mm)": 13.8
           },
           {
            "beak depth (mm)": 8.97,
            "beak length (mm)": 14.21
           },
           {
            "beak depth (mm)": 8.99,
            "beak length (mm)": 14.76
           },
           {
            "beak depth (mm)": 9,
            "beak length (mm)": 12.07
           },
           {
            "beak depth (mm)": 9,
            "beak length (mm)": 13.9
           },
           {
            "beak depth (mm)": 9,
            "beak length (mm)": 14.1
           },
           {
            "beak depth (mm)": 9,
            "beak length (mm)": 14.3
           },
           {
            "beak depth (mm)": 9,
            "beak length (mm)": 14.95
           },
           {
            "beak depth (mm)": 9.01,
            "beak length (mm)": 14.34
           },
           {
            "beak depth (mm)": 9.02,
            "beak length (mm)": 13.84
           },
           {
            "beak depth (mm)": 9.02,
            "beak length (mm)": 14.04
           },
           {
            "beak depth (mm)": 9.02,
            "beak length (mm)": 14.14
           },
           {
            "beak depth (mm)": 9.03,
            "beak length (mm)": 12.56
           },
           {
            "beak depth (mm)": 9.04,
            "beak length (mm)": 15.14
           },
           {
            "beak depth (mm)": 9.05,
            "beak length (mm)": 14.35
           },
           {
            "beak depth (mm)": 9.05,
            "beak length (mm)": 14.85
           },
           {
            "beak depth (mm)": 9.06,
            "beak length (mm)": 14.04
           },
           {
            "beak depth (mm)": 9.1,
            "beak length (mm)": 14.2
           },
           {
            "beak depth (mm)": 9.1,
            "beak length (mm)": 14.3
           },
           {
            "beak depth (mm)": 9.1,
            "beak length (mm)": 14.5
           },
           {
            "beak depth (mm)": 9.1,
            "beak length (mm)": 14.5
           },
           {
            "beak depth (mm)": 9.1,
            "beak length (mm)": 14.6
           },
           {
            "beak depth (mm)": 9.1,
            "beak length (mm)": 15
           },
           {
            "beak depth (mm)": 9.13,
            "beak length (mm)": 13.6
           },
           {
            "beak depth (mm)": 9.13,
            "beak length (mm)": 14.65
           },
           {
            "beak depth (mm)": 9.14,
            "beak length (mm)": 14.03
           },
           {
            "beak depth (mm)": 9.18,
            "beak length (mm)": 14.16
           },
           {
            "beak depth (mm)": 9.2,
            "beak length (mm)": 13.83
           },
           {
            "beak depth (mm)": 9.2,
            "beak length (mm)": 14.2
           },
           {
            "beak depth (mm)": 9.2,
            "beak length (mm)": 14.35
           },
           {
            "beak depth (mm)": 9.2,
            "beak length (mm)": 14.45
           },
           {
            "beak depth (mm)": 9.21,
            "beak length (mm)": 14.64
           },
           {
            "beak depth (mm)": 9.21,
            "beak length (mm)": 15.04
           },
           {
            "beak depth (mm)": 9.22,
            "beak length (mm)": 13.9
           },
           {
            "beak depth (mm)": 9.24,
            "beak length (mm)": 14.34
           },
           {
            "beak depth (mm)": 9.24,
            "beak length (mm)": 14.53
           },
           {
            "beak depth (mm)": 9.25,
            "beak length (mm)": 14.2
           },
           {
            "beak depth (mm)": 9.25,
            "beak length (mm)": 14.85
           },
           {
            "beak depth (mm)": 9.25,
            "beak length (mm)": 15.1
           },
           {
            "beak depth (mm)": 9.25,
            "beak length (mm)": 15.2
           },
           {
            "beak depth (mm)": 9.26,
            "beak length (mm)": 13.5
           },
           {
            "beak depth (mm)": 9.26,
            "beak length (mm)": 14.95
           },
           {
            "beak depth (mm)": 9.28,
            "beak length (mm)": 13.83
           },
           {
            "beak depth (mm)": 9.28,
            "beak length (mm)": 13.95
           },
           {
            "beak depth (mm)": 9.28,
            "beak length (mm)": 15.09
           },
           {
            "beak depth (mm)": 9.3,
            "beak length (mm)": 13.43
           },
           {
            "beak depth (mm)": 9.3,
            "beak length (mm)": 13.7
           },
           {
            "beak depth (mm)": 9.3,
            "beak length (mm)": 14
           },
           {
            "beak depth (mm)": 9.3,
            "beak length (mm)": 14.15
           },
           {
            "beak depth (mm)": 9.3,
            "beak length (mm)": 14.75
           },
           {
            "beak depth (mm)": 9.3,
            "beak length (mm)": 14.9
           },
           {
            "beak depth (mm)": 9.3,
            "beak length (mm)": 15
           },
           {
            "beak depth (mm)": 9.32,
            "beak length (mm)": 13.56
           },
           {
            "beak depth (mm)": 9.33,
            "beak length (mm)": 14.26
           },
           {
            "beak depth (mm)": 9.34,
            "beak length (mm)": 13.83
           },
           {
            "beak depth (mm)": 9.34,
            "beak length (mm)": 14.53
           },
           {
            "beak depth (mm)": 9.34,
            "beak length (mm)": 14.84
           },
           {
            "beak depth (mm)": 9.35,
            "beak length (mm)": 15
           },
           {
            "beak depth (mm)": 9.37,
            "beak length (mm)": 13.76
           },
           {
            "beak depth (mm)": 9.37,
            "beak length (mm)": 13.9
           },
           {
            "beak depth (mm)": 9.37,
            "beak length (mm)": 14.29
           },
           {
            "beak depth (mm)": 9.37,
            "beak length (mm)": 14.63
           },
           {
            "beak depth (mm)": 9.38,
            "beak length (mm)": 14.3
           },
           {
            "beak depth (mm)": 9.4,
            "beak length (mm)": 13.6
           },
           {
            "beak depth (mm)": 9.4,
            "beak length (mm)": 14.4
           },
           {
            "beak depth (mm)": 9.4,
            "beak length (mm)": 14.9
           },
           {
            "beak depth (mm)": 9.4,
            "beak length (mm)": 14.9
           },
           {
            "beak depth (mm)": 9.42,
            "beak length (mm)": 14.34
           },
           {
            "beak depth (mm)": 9.43,
            "beak length (mm)": 14.53
           },
           {
            "beak depth (mm)": 9.45,
            "beak length (mm)": 14.65
           },
           {
            "beak depth (mm)": 9.5,
            "beak length (mm)": 14.8
           },
           {
            "beak depth (mm)": 9.5,
            "beak length (mm)": 16
           },
           {
            "beak depth (mm)": 9.51,
            "beak length (mm)": 13.14
           },
           {
            "beak depth (mm)": 9.51,
            "beak length (mm)": 14.44
           },
           {
            "beak depth (mm)": 9.52,
            "beak length (mm)": 12.73
           },
           {
            "beak depth (mm)": 9.54,
            "beak length (mm)": 15.04
           },
           {
            "beak depth (mm)": 9.55,
            "beak length (mm)": 14.85
           },
           {
            "beak depth (mm)": 9.6,
            "beak length (mm)": 14.2
           },
           {
            "beak depth (mm)": 9.6,
            "beak length (mm)": 15.2
           },
           {
            "beak depth (mm)": 9.6,
            "beak length (mm)": 16
           },
           {
            "beak depth (mm)": 9.62,
            "beak length (mm)": 14.47
           },
           {
            "beak depth (mm)": 9.64,
            "beak length (mm)": 14.54
           },
           {
            "beak depth (mm)": 9.65,
            "beak length (mm)": 14.9
           },
           {
            "beak depth (mm)": 9.7,
            "beak length (mm)": 14.9
           },
           {
            "beak depth (mm)": 9.7,
            "beak length (mm)": 15.8
           },
           {
            "beak depth (mm)": 9.73,
            "beak length (mm)": 13.46
           },
           {
            "beak depth (mm)": 9.73,
            "beak length (mm)": 14.77
           },
           {
            "beak depth (mm)": 9.74,
            "beak length (mm)": 14.44
           },
           {
            "beak depth (mm)": 9.8,
            "beak length (mm)": 15.2
           },
           {
            "beak depth (mm)": 9.8,
            "beak length (mm)": 16
           },
           {
            "beak depth (mm)": 9.82,
            "beak length (mm)": 14.4
           },
           {
            "beak depth (mm)": 9.85,
            "beak length (mm)": 14.45
           },
           {
            "beak depth (mm)": 9.85,
            "beak length (mm)": 15.35
           },
           {
            "beak depth (mm)": 9.9,
            "beak length (mm)": 14.2
           },
           {
            "beak depth (mm)": 9.9,
            "beak length (mm)": 15.3
           },
           {
            "beak depth (mm)": 9.94,
            "beak length (mm)": 14.27
           },
           {
            "beak depth (mm)": 10,
            "beak length (mm)": 15.8
           },
           {
            "beak depth (mm)": 10.1,
            "beak length (mm)": 15.3
           },
           {
            "beak depth (mm)": 10.11,
            "beak length (mm)": 11.24
           },
           {
            "beak depth (mm)": 10.27,
            "beak length (mm)": 15.2
           },
           {
            "beak depth (mm)": 10.34,
            "beak length (mm)": 15.44
           },
           {
            "beak depth (mm)": 11.33,
            "beak length (mm)": 14.96
           }
          ]
         },
         "encoding": {
          "x": {
           "field": "beak length (mm)",
           "scale": {
            "zero": false
           },
           "type": "quantitative"
          },
          "y": {
           "field": "beak depth (mm)",
           "scale": {
            "zero": false
           },
           "type": "quantitative"
          }
         },
         "mark": "point"
        }
       ]
      },
      "image/png": "[encoded data removed]",
      "text/plain": [
       "<VegaLite 2 object>\n",
       "\n",
       "If you see this message, it means the renderer has not been properly enabled\n",
       "for the frontend that you are using. For more information, see\n",
       "https://altair-viz.github.io/user_guide/troubleshooting.html\n"
      ]
     },
     "execution_count": 41,
     "metadata": {},
     "output_type": "execute_result"
    }
   ],
   "source": [
    "reg_line + dots"
   ]
  },
  {
   "cell_type": "code",
   "execution_count": 47,
   "metadata": {},
   "outputs": [],
   "source": [
    "# bootstrap here: instead of resample single dim point, we can now resample x-y pairs\n",
    "\n",
    "def draw_bs_pairs_linreg(x,y,size=1):\n",
    "    inds = np.arange(len(x))\n",
    "    \n",
    "    bs_slope_reps = np.empty(size)\n",
    "    bs_intercept_reps = np.empty(size)\n",
    "    \n",
    "    for i in range(size):\n",
    "        bs_inds = np.random.choice(inds,len(inds))\n",
    "        bs_x, bs_y = x[bs_inds], y[bs_inds]\n",
    "        bs_slope, bs_intercept = np.polyfit(bs_x, bs_y, deg=1)\n",
    "        \n",
    "        bs_slope_reps[i], bs_intercept_reps[i] = bs_slope, bs_intercept\n",
    "        \n",
    "    return bs_slope_reps, bs_intercept_reps"
   ]
  },
  {
   "cell_type": "code",
   "execution_count": 48,
   "metadata": {},
   "outputs": [],
   "source": [
    "bs_slope_reps, bs_intercept_reps = draw_bs_pairs_linreg(beak_length, beak_depth, size =100000)"
   ]
  },
  {
   "cell_type": "code",
   "execution_count": 49,
   "metadata": {},
   "outputs": [
    {
     "data": {
      "text/plain": [
       "(0.262258885049905, array([0.14284774, 0.37877245]))"
      ]
     },
     "execution_count": 49,
     "metadata": {},
     "output_type": "execute_result"
    }
   ],
   "source": [
    "slope, np.percentile(bs_slope_reps,[2.5,97.5])"
   ]
  },
  {
   "cell_type": "code",
   "execution_count": null,
   "metadata": {},
   "outputs": [],
   "source": [
    "## plot the confidence intercal out of bootstrap\n"
   ]
  }
 ],
 "metadata": {
  "kernelspec": {
   "display_name": "Python 3",
   "language": "python",
   "name": "python3"
  },
  "language_info": {
   "codemirror_mode": {
    "name": "ipython",
    "version": 3
   },
   "file_extension": ".py",
   "mimetype": "text/x-python",
   "name": "python",
   "nbconvert_exporter": "python",
   "pygments_lexer": "ipython3",
   "version": "3.6.5"
  }
 },
 "nbformat": 4,
 "nbformat_minor": 2
}
