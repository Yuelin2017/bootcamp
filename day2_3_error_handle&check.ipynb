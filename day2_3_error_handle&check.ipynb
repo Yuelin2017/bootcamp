{
 "cells": [
  {
   "cell_type": "code",
   "execution_count": 1,
   "metadata": {},
   "outputs": [
    {
     "ename": "ModuleNotFoundError",
     "evalue": "No module named 'gc_content'",
     "output_type": "error",
     "traceback": [
      "\u001b[0;31m---------------------------------------------------------------------------\u001b[0m",
      "\u001b[0;31mModuleNotFoundError\u001b[0m                       Traceback (most recent call last)",
      "\u001b[0;32m<ipython-input-1-b2d775210337>\u001b[0m in \u001b[0;36m<module>\u001b[0;34m()\u001b[0m\n\u001b[0;32m----> 1\u001b[0;31m \u001b[0;32mimport\u001b[0m \u001b[0mgc_content\u001b[0m\u001b[0;34m\u001b[0m\u001b[0m\n\u001b[0m",
      "\u001b[0;31mModuleNotFoundError\u001b[0m: No module named 'gc_content'"
     ]
    }
   ],
   "source": [
    "import gc_content"
   ]
  },
  {
   "cell_type": "code",
   "execution_count": 2,
   "metadata": {},
   "outputs": [
    {
     "name": "stdout",
     "output_type": "stream",
     "text": [
      "9\n"
     ]
    }
   ],
   "source": [
    "try: \n",
    "    import gc_content\n",
    "    have_gc =TRue\n",
    "except ImportError as e:\n",
    "    have_gc =False\n",
    "finally:\n",
    "    pass\n",
    "\n",
    "seq='AGCCTCGATGCCTG'\n",
    "\n",
    "if have_gc:\n",
    "    print(gc_content.gc(seq))\n",
    "else:\n",
    "    print(seq.count('G')+seq.count('C'))"
   ]
  },
  {
   "cell_type": "code",
   "execution_count": 1,
   "metadata": {},
   "outputs": [],
   "source": [
    "import bootcamp_utils"
   ]
  },
  {
   "cell_type": "code",
   "execution_count": 5,
   "metadata": {},
   "outputs": [
    {
     "data": {
      "text/plain": [
       "{'A': 'Ala',\n",
       " 'R': 'Arg',\n",
       " 'N': 'Asn',\n",
       " 'D': 'Asp',\n",
       " 'C': 'Cys',\n",
       " 'Q': 'Gln',\n",
       " 'E': 'Glu',\n",
       " 'G': 'Gly',\n",
       " 'H': 'His',\n",
       " 'I': 'Ile',\n",
       " 'L': 'Leu',\n",
       " 'K': 'Lys',\n",
       " 'M': 'Met',\n",
       " 'F': 'Phe',\n",
       " 'P': 'Pro',\n",
       " 'S': 'Ser',\n",
       " 'T': 'Thr',\n",
       " 'W': 'Trp',\n",
       " 'Y': 'Tyr',\n",
       " 'V': 'Val'}"
      ]
     },
     "execution_count": 5,
     "metadata": {},
     "output_type": "execute_result"
    }
   ],
   "source": [
    "bootcamp_utils.aa"
   ]
  },
  {
   "cell_type": "code",
   "execution_count": 2,
   "metadata": {},
   "outputs": [],
   "source": [
    "def one_to_three(seq):\n",
    "    \"\"\"Converts a protein sequence using one letter abbr. to three.\"\"\"\n",
    "    seq=seq.upper()\n",
    "    aa_list=[]\n",
    "    for amino_acids in seq:\n",
    "        if amino_acids not in bootcamp_utils.aa.keys():\n",
    "            raise RuntimeError(amino_acid + 'is not a valid amino acid.')\n",
    "            # raise means throw an error\n",
    "        aa_list.append(bootcamp_utils.aa[amino_acids])\n",
    "        \n",
    "    return '-'.join(aa_list)\n",
    "    "
   ]
  },
  {
   "cell_type": "code",
   "execution_count": 3,
   "metadata": {},
   "outputs": [
    {
     "data": {
      "text/plain": [
       "'Ile-Leu-Leu-Met-Phe-Ser-Thr-Thr-Thr-Tyr-Val-Trp'"
      ]
     },
     "execution_count": 3,
     "metadata": {},
     "output_type": "execute_result"
    }
   ],
   "source": [
    "one_to_three('ILLMFSTTTYVW')"
   ]
  },
  {
   "cell_type": "code",
   "execution_count": 4,
   "metadata": {},
   "outputs": [
    {
     "ename": "NameError",
     "evalue": "name 'amino_acid' is not defined",
     "output_type": "error",
     "traceback": [
      "\u001b[0;31m---------------------------------------------------------------------------\u001b[0m",
      "\u001b[0;31mNameError\u001b[0m                                 Traceback (most recent call last)",
      "\u001b[0;32m<ipython-input-4-732993ddd18c>\u001b[0m in \u001b[0;36m<module>\u001b[0;34m()\u001b[0m\n\u001b[0;32m----> 1\u001b[0;31m \u001b[0mone_to_three\u001b[0m\u001b[0;34m(\u001b[0m\u001b[0;34m'ILLZMFSTTTYVW'\u001b[0m\u001b[0;34m)\u001b[0m\u001b[0;34m\u001b[0m\u001b[0m\n\u001b[0m",
      "\u001b[0;32m<ipython-input-2-2096f360b45c>\u001b[0m in \u001b[0;36mone_to_three\u001b[0;34m(seq)\u001b[0m\n\u001b[1;32m      5\u001b[0m     \u001b[0;32mfor\u001b[0m \u001b[0mamino_acids\u001b[0m \u001b[0;32min\u001b[0m \u001b[0mseq\u001b[0m\u001b[0;34m:\u001b[0m\u001b[0;34m\u001b[0m\u001b[0m\n\u001b[1;32m      6\u001b[0m         \u001b[0;32mif\u001b[0m \u001b[0mamino_acids\u001b[0m \u001b[0;32mnot\u001b[0m \u001b[0;32min\u001b[0m \u001b[0mbootcamp_utils\u001b[0m\u001b[0;34m.\u001b[0m\u001b[0maa\u001b[0m\u001b[0;34m.\u001b[0m\u001b[0mkeys\u001b[0m\u001b[0;34m(\u001b[0m\u001b[0;34m)\u001b[0m\u001b[0;34m:\u001b[0m\u001b[0;34m\u001b[0m\u001b[0m\n\u001b[0;32m----> 7\u001b[0;31m             \u001b[0;32mraise\u001b[0m \u001b[0mRuntimeError\u001b[0m\u001b[0;34m(\u001b[0m\u001b[0mamino_acid\u001b[0m \u001b[0;34m+\u001b[0m \u001b[0;34m'is not a valid amino acid.'\u001b[0m\u001b[0;34m)\u001b[0m\u001b[0;34m\u001b[0m\u001b[0m\n\u001b[0m\u001b[1;32m      8\u001b[0m             \u001b[0;31m# raise means throw an error\u001b[0m\u001b[0;34m\u001b[0m\u001b[0;34m\u001b[0m\u001b[0m\n\u001b[1;32m      9\u001b[0m         \u001b[0maa_list\u001b[0m\u001b[0;34m.\u001b[0m\u001b[0mappend\u001b[0m\u001b[0;34m(\u001b[0m\u001b[0mbootcamp_utils\u001b[0m\u001b[0;34m.\u001b[0m\u001b[0maa\u001b[0m\u001b[0;34m[\u001b[0m\u001b[0mamino_acids\u001b[0m\u001b[0;34m]\u001b[0m\u001b[0;34m)\u001b[0m\u001b[0;34m\u001b[0m\u001b[0m\n",
      "\u001b[0;31mNameError\u001b[0m: name 'amino_acid' is not defined"
     ]
    }
   ],
   "source": [
    "one_to_three('ILLZMFSTTTYVW')"
   ]
  },
  {
   "cell_type": "code",
   "execution_count": null,
   "metadata": {},
   "outputs": [],
   "source": []
  }
 ],
 "metadata": {
  "kernelspec": {
   "display_name": "Python 3",
   "language": "python",
   "name": "python3"
  },
  "language_info": {
   "codemirror_mode": {
    "name": "ipython",
    "version": 3
   },
   "file_extension": ".py",
   "mimetype": "text/x-python",
   "name": "python",
   "nbconvert_exporter": "python",
   "pygments_lexer": "ipython3",
   "version": "3.6.5"
  }
 },
 "nbformat": 4,
 "nbformat_minor": 2
}
