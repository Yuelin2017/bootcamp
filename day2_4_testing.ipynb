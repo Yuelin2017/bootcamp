{
 "cells": [
  {
   "cell_type": "code",
   "execution_count": null,
   "metadata": {},
   "outputs": [],
   "source": [
    "# Test driven development   TDD"
   ]
  },
  {
   "cell_type": "code",
   "execution_count": 18,
   "metadata": {},
   "outputs": [],
   "source": [
    "def number_negative(seq):\n",
    "    \"\"\"Number of negative res in a protein seq\"\"\"\n",
    "    seq=seq.upper()\n",
    "    return seq.count('E')+ seq.count('D')\n",
    "    #pass"
   ]
  },
  {
   "cell_type": "code",
   "execution_count": 2,
   "metadata": {},
   "outputs": [],
   "source": [
    "number_negative('123')"
   ]
  },
  {
   "cell_type": "code",
   "execution_count": 19,
   "metadata": {},
   "outputs": [
    {
     "name": "stdout",
     "output_type": "stream",
     "text": [
      "True\n",
      "True\n",
      "True\n",
      "True\n"
     ]
    }
   ],
   "source": [
    "# test\n",
    "print(number_negative('E')==1)\n",
    "print(number_negative('EEEEAAA')==4)\n",
    "print(number_negative('D')==1)\n",
    "print(number_negative('adese')==3)\n"
   ]
  },
  {
   "cell_type": "code",
   "execution_count": 21,
   "metadata": {},
   "outputs": [],
   "source": [
    "def test_number_negative():\n",
    "    \"\"\"perform unit tests on number_negatives()\"\"\"\n",
    "    assert number_negative('E')==1\n",
    "    assert number_negative('EEEEAAA')==4\n",
    "    assert number_negative('D')==1\n",
    "    assert number_negative('adese')==3"
   ]
  },
  {
   "cell_type": "code",
   "execution_count": 22,
   "metadata": {},
   "outputs": [],
   "source": [
    "test_number_negative()"
   ]
  },
  {
   "cell_type": "code",
   "execution_count": 27,
   "metadata": {},
   "outputs": [
    {
     "name": "stdout",
     "output_type": "stream",
     "text": [
      "\u001b[1m============================= test session starts ==============================\u001b[0m\n",
      "platform darwin -- Python 3.6.5, pytest-3.5.1, py-1.5.3, pluggy-0.6.0 -- /anaconda3/bin/python\n",
      "cachedir: .pytest_cache\n",
      "rootdir: /Users/Lenovo/git, inifile:\n",
      "plugins: remotedata-0.2.1, openfiles-0.3.0, doctestplus-0.1.3, arraydiff-0.2\n",
      "collected 3 items                                                              \u001b[0m\n",
      "\n",
      "seq_features_and_tests.py::test_number_negative_single_aa \u001b[32mPASSED\u001b[0m\u001b[36m         [ 33%]\u001b[0m\n",
      "seq_features_and_tests.py::test_number_negative_short_seqs \u001b[32mPASSED\u001b[0m\u001b[36m        [ 66%]\u001b[0m\n",
      "seq_features_and_tests.py::test_number_negative_lowercases \u001b[32mPASSED\u001b[0m\u001b[36m        [100%]\u001b[0m\n",
      "\n",
      "\u001b[32m\u001b[1m=========================== 3 passed in 0.01 seconds ===========================\u001b[0m\n"
     ]
    }
   ],
   "source": [
    "!pytest -v seq_features_and_tests.py     # v: verbose\n",
    "# pytest is a package and also a program"
   ]
  },
  {
   "cell_type": "code",
   "execution_count": null,
   "metadata": {},
   "outputs": [],
   "source": [
    "# should have test_ ahead"
   ]
  },
  {
   "cell_type": "code",
   "execution_count": 28,
   "metadata": {},
   "outputs": [
    {
     "name": "stdout",
     "output_type": "stream",
     "text": [
      "\u001b[1m============================= test session starts ==============================\u001b[0m\n",
      "platform darwin -- Python 3.6.5, pytest-3.5.1, py-1.5.3, pluggy-0.6.0 -- /anaconda3/bin/python\n",
      "cachedir: .pytest_cache\n",
      "rootdir: /Users/Lenovo/git, inifile:\n",
      "plugins: remotedata-0.2.1, openfiles-0.3.0, doctestplus-0.1.3, arraydiff-0.2\n",
      "collected 3 items                                                              \u001b[0m\n",
      "\n",
      "seq_features_and_tests.py::test_number_negative_single_aa \u001b[32mPASSED\u001b[0m\u001b[36m         [ 33%]\u001b[0m\n",
      "seq_features_and_tests.py::test_number_negative_short_seqs \u001b[32mPASSED\u001b[0m\u001b[36m        [ 66%]\u001b[0m\n",
      "seq_features_and_tests.py::test_number_negative_lowercases \u001b[32mPASSED\u001b[0m\u001b[36m        [100%]\u001b[0m\n",
      "\n",
      "\u001b[32m\u001b[1m=========================== 3 passed in 0.01 seconds ===========================\u001b[0m\n"
     ]
    }
   ],
   "source": [
    "!pytest -vv seq_features_and_tests.py "
   ]
  },
  {
   "cell_type": "code",
   "execution_count": null,
   "metadata": {},
   "outputs": [],
   "source": [
    "# seperate test funciton and the original"
   ]
  },
  {
   "cell_type": "code",
   "execution_count": 1,
   "metadata": {},
   "outputs": [
    {
     "name": "stdout",
     "output_type": "stream",
     "text": [
      "\u001b[1m============================= test session starts ==============================\u001b[0m\n",
      "platform darwin -- Python 3.6.5, pytest-3.5.1, py-1.5.3, pluggy-0.6.0 -- /anaconda3/bin/python\n",
      "cachedir: .pytest_cache\n",
      "rootdir: /Users/Lenovo/git, inifile:\n",
      "plugins: remotedata-0.2.1, openfiles-0.3.0, doctestplus-0.1.3, arraydiff-0.2\n",
      "collected 4 items                                                              \u001b[0m\n",
      "\n",
      "bootcamp/test_seq_features.py::test_number_negative_single_aa \u001b[32mPASSED\u001b[0m\u001b[36m     [ 25%]\u001b[0m\n",
      "bootcamp/test_seq_features.py::test_number_negative_short_seqs \u001b[32mPASSED\u001b[0m\u001b[36m    [ 50%]\u001b[0m\n",
      "bootcamp/test_seq_features.py::test_number_negative_lowercases \u001b[32mPASSED\u001b[0m\u001b[36m    [ 75%]\u001b[0m\n",
      "bootcamp/test_seq_features.py::test_number_negative_invalid_amino_acid \u001b[32mPASSED\u001b[0m\u001b[36m [100%]\u001b[0m\n",
      "\n",
      "\u001b[32m\u001b[1m=========================== 4 passed in 1.00 seconds ===========================\u001b[0m\n"
     ]
    }
   ],
   "source": [
    "# handle errors\n",
    "# a test of an error\n",
    "!pytest -v"
   ]
  },
  {
   "cell_type": "code",
   "execution_count": 6,
   "metadata": {},
   "outputs": [
    {
     "name": "stdout",
     "output_type": "stream",
     "text": [
      "\u001b[1m============================= test session starts ==============================\u001b[0m\n",
      "platform darwin -- Python 3.6.5, pytest-3.5.1, py-1.5.3, pluggy-0.6.0 -- /anaconda3/bin/python\n",
      "cachedir: .pytest_cache\n",
      "rootdir: /Users/Lenovo/git, inifile:\n",
      "plugins: remotedata-0.2.1, openfiles-0.3.0, doctestplus-0.1.3, arraydiff-0.2\n",
      "collected 10 items                                                             \u001b[0m\n",
      "\n",
      "bootcamp/test_seq_features.py::test_number_negative_single_aa \u001b[32mPASSED\u001b[0m\u001b[36m     [ 10%]\u001b[0m\n",
      "bootcamp/test_seq_features.py::test_number_negative_short_seqs \u001b[32mPASSED\u001b[0m\u001b[36m    [ 20%]\u001b[0m\n",
      "bootcamp/test_seq_features.py::test_number_negative_lowercases \u001b[32mPASSED\u001b[0m\u001b[36m    [ 30%]\u001b[0m\n",
      "bootcamp/test_seq_features.py::test_number_negative_invalid_amino_acid \u001b[32mPASSED\u001b[0m\u001b[36m [ 40%]\u001b[0m\n",
      "bootcamp/test_seq_features.py::test_number_posiive_single_aa \u001b[32mPASSED\u001b[0m\u001b[36m      [ 50%]\u001b[0m\n",
      "bootcamp/test_seq_features.py::test_number_positive_short_seqs \u001b[32mPASSED\u001b[0m\u001b[36m    [ 60%]\u001b[0m\n",
      "bootcamp/test_seq_features.py::test_number_positive_lowercases \u001b[32mPASSED\u001b[0m\u001b[36m    [ 70%]\u001b[0m\n",
      "bootcamp/test_seq_features.py::test_number_positive_invalid_amino_acid \u001b[32mPASSED\u001b[0m\u001b[36m [ 80%]\u001b[0m\n",
      "bootcamp/test_seq_features.py::test_is_valid_with_Z \u001b[32mPASSED\u001b[0m\u001b[36m               [ 90%]\u001b[0m\n",
      "bootcamp/test_seq_features.py::test_is_valid_with_short_but_wrong_seq \u001b[32mPASSED\u001b[0m\u001b[36m [100%]\u001b[0m\n",
      "\n",
      "\u001b[32m\u001b[1m========================== 10 passed in 0.96 seconds ===========================\u001b[0m\n"
     ]
    }
   ],
   "source": [
    "# \n",
    "!pytest -v"
   ]
  },
  {
   "cell_type": "code",
   "execution_count": null,
   "metadata": {},
   "outputs": [],
   "source": [
    "# combine two functions"
   ]
  }
 ],
 "metadata": {
  "kernelspec": {
   "display_name": "Python 3",
   "language": "python",
   "name": "python3"
  },
  "language_info": {
   "codemirror_mode": {
    "name": "ipython",
    "version": 3
   },
   "file_extension": ".py",
   "mimetype": "text/x-python",
   "name": "python",
   "nbconvert_exporter": "python",
   "pygments_lexer": "ipython3",
   "version": "3.6.5"
  }
 },
 "nbformat": 4,
 "nbformat_minor": 2
}
