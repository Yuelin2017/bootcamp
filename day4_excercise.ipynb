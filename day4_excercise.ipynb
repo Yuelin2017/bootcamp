{
 "cells": [
  {
   "cell_type": "code",
   "execution_count": 33,
   "metadata": {},
   "outputs": [],
   "source": [
    "import numpy as np\n",
    "import pandas as pd\n",
    "\n",
    "import altair as alt"
   ]
  },
  {
   "cell_type": "code",
   "execution_count": 2,
   "metadata": {},
   "outputs": [
    {
     "name": "stdout",
     "output_type": "stream",
     "text": [
      "# Data digitized from Fig. 14a of Phillips, Annu. Rev. Condens. Matter Phys. 2015. 6:85–111.\n",
      "# Data are for WT lac repressor.\n",
      "[IPTG] (mM),fold change\n",
      "9.899553766184622e-06,0.04069737452932376\n",
      "0.0009743248304039901,0.07278760681556372\n",
      "0.0020439288607228363,0.10528360929144977\n",
      "0.004049167669375694,0.1994773129760492\n",
      "0.0075843703842860734,0.34302367565894665\n",
      "0.015782435900750708,0.459465965165661\n",
      "0.029456448152963877,0.6400474544798063\n"
     ]
    }
   ],
   "source": [
    "# 1\n",
    "!head ~/git/bootcamp/data/wt_lac.csv"
   ]
  },
  {
   "cell_type": "code",
   "execution_count": 8,
   "metadata": {},
   "outputs": [
    {
     "data": {
      "text/plain": [
       "\u001b[0;31mSignature:\u001b[0m \u001b[0mnp\u001b[0m\u001b[0;34m.\u001b[0m\u001b[0mloadtxt\u001b[0m\u001b[0;34m(\u001b[0m\u001b[0mfname\u001b[0m\u001b[0;34m,\u001b[0m \u001b[0mdtype\u001b[0m\u001b[0;34m=\u001b[0m\u001b[0;34m<\u001b[0m\u001b[0;32mclass\u001b[0m \u001b[0;34m'float'\u001b[0m\u001b[0;34m>\u001b[0m\u001b[0;34m,\u001b[0m \u001b[0mcomments\u001b[0m\u001b[0;34m=\u001b[0m\u001b[0;34m'#'\u001b[0m\u001b[0;34m,\u001b[0m \u001b[0mdelimiter\u001b[0m\u001b[0;34m=\u001b[0m\u001b[0;32mNone\u001b[0m\u001b[0;34m,\u001b[0m \u001b[0mconverters\u001b[0m\u001b[0;34m=\u001b[0m\u001b[0;32mNone\u001b[0m\u001b[0;34m,\u001b[0m \u001b[0mskiprows\u001b[0m\u001b[0;34m=\u001b[0m\u001b[0;36m0\u001b[0m\u001b[0;34m,\u001b[0m \u001b[0musecols\u001b[0m\u001b[0;34m=\u001b[0m\u001b[0;32mNone\u001b[0m\u001b[0;34m,\u001b[0m \u001b[0munpack\u001b[0m\u001b[0;34m=\u001b[0m\u001b[0;32mFalse\u001b[0m\u001b[0;34m,\u001b[0m \u001b[0mndmin\u001b[0m\u001b[0;34m=\u001b[0m\u001b[0;36m0\u001b[0m\u001b[0;34m,\u001b[0m \u001b[0mencoding\u001b[0m\u001b[0;34m=\u001b[0m\u001b[0;34m'bytes'\u001b[0m\u001b[0;34m)\u001b[0m\u001b[0;34m\u001b[0m\u001b[0m\n",
       "\u001b[0;31mDocstring:\u001b[0m\n",
       "Load data from a text file.\n",
       "\n",
       "Each row in the text file must have the same number of values.\n",
       "\n",
       "Parameters\n",
       "----------\n",
       "fname : file, str, or pathlib.Path\n",
       "    File, filename, or generator to read.  If the filename extension is\n",
       "    ``.gz`` or ``.bz2``, the file is first decompressed. Note that\n",
       "    generators should return byte strings for Python 3k.\n",
       "dtype : data-type, optional\n",
       "    Data-type of the resulting array; default: float.  If this is a\n",
       "    structured data-type, the resulting array will be 1-dimensional, and\n",
       "    each row will be interpreted as an element of the array.  In this\n",
       "    case, the number of columns used must match the number of fields in\n",
       "    the data-type.\n",
       "comments : str or sequence of str, optional\n",
       "    The characters or list of characters used to indicate the start of a\n",
       "    comment. For backwards compatibility, byte strings will be decoded as\n",
       "    'latin1'. The default is '#'.\n",
       "delimiter : str, optional\n",
       "    The string used to separate values. For backwards compatibility, byte\n",
       "    strings will be decoded as 'latin1'. The default is whitespace.\n",
       "converters : dict, optional\n",
       "    A dictionary mapping column number to a function that will convert\n",
       "    that column to a float.  E.g., if column 0 is a date string:\n",
       "    ``converters = {0: datestr2num}``.  Converters can also be used to\n",
       "    provide a default value for missing data (but see also `genfromtxt`):\n",
       "    ``converters = {3: lambda s: float(s.strip() or 0)}``.  Default: None.\n",
       "skiprows : int, optional\n",
       "    Skip the first `skiprows` lines; default: 0.\n",
       "usecols : int or sequence, optional\n",
       "    Which columns to read, with 0 being the first. For example,\n",
       "    usecols = (1,4,5) will extract the 2nd, 5th and 6th columns.\n",
       "    The default, None, results in all columns being read.\n",
       "\n",
       "    .. versionchanged:: 1.11.0\n",
       "        When a single column has to be read it is possible to use\n",
       "        an integer instead of a tuple. E.g ``usecols = 3`` reads the\n",
       "        fourth column the same way as `usecols = (3,)`` would.\n",
       "unpack : bool, optional\n",
       "    If True, the returned array is transposed, so that arguments may be\n",
       "    unpacked using ``x, y, z = loadtxt(...)``.  When used with a structured\n",
       "    data-type, arrays are returned for each field.  Default is False.\n",
       "ndmin : int, optional\n",
       "    The returned array will have at least `ndmin` dimensions.\n",
       "    Otherwise mono-dimensional axes will be squeezed.\n",
       "    Legal values: 0 (default), 1 or 2.\n",
       "\n",
       "    .. versionadded:: 1.6.0\n",
       "encoding : str, optional\n",
       "    Encoding used to decode the inputfile. Does not apply to input streams.\n",
       "    The special value 'bytes' enables backward compatibility workarounds\n",
       "    that ensures you receive byte arrays as results if possible and passes\n",
       "    latin1 encoded strings to converters. Override this value to receive\n",
       "    unicode arrays and pass strings as input to converters.  If set to None\n",
       "    the system default is used. The default value is 'bytes'.\n",
       "\n",
       "    .. versionadded:: 1.14.0\n",
       "\n",
       "Returns\n",
       "-------\n",
       "out : ndarray\n",
       "    Data read from the text file.\n",
       "\n",
       "See Also\n",
       "--------\n",
       "load, fromstring, fromregex\n",
       "genfromtxt : Load data with missing values handled as specified.\n",
       "scipy.io.loadmat : reads MATLAB data files\n",
       "\n",
       "Notes\n",
       "-----\n",
       "This function aims to be a fast reader for simply formatted files.  The\n",
       "`genfromtxt` function provides more sophisticated handling of, e.g.,\n",
       "lines with missing values.\n",
       "\n",
       ".. versionadded:: 1.10.0\n",
       "\n",
       "The strings produced by the Python float.hex method can be used as\n",
       "input for floats.\n",
       "\n",
       "Examples\n",
       "--------\n",
       ">>> from io import StringIO   # StringIO behaves like a file object\n",
       ">>> c = StringIO(\"0 1\\n2 3\")\n",
       ">>> np.loadtxt(c)\n",
       "array([[ 0.,  1.],\n",
       "       [ 2.,  3.]])\n",
       "\n",
       ">>> d = StringIO(\"M 21 72\\nF 35 58\")\n",
       ">>> np.loadtxt(d, dtype={'names': ('gender', 'age', 'weight'),\n",
       "...                      'formats': ('S1', 'i4', 'f4')})\n",
       "array([('M', 21, 72.0), ('F', 35, 58.0)],\n",
       "      dtype=[('gender', '|S1'), ('age', '<i4'), ('weight', '<f4')])\n",
       "\n",
       ">>> c = StringIO(\"1,0,2\\n3,0,4\")\n",
       ">>> x, y = np.loadtxt(c, delimiter=',', usecols=(0, 2), unpack=True)\n",
       ">>> x\n",
       "array([ 1.,  3.])\n",
       ">>> y\n",
       "array([ 2.,  4.])\n",
       "\u001b[0;31mFile:\u001b[0m      /anaconda3/lib/python3.6/site-packages/numpy/lib/npyio.py\n",
       "\u001b[0;31mType:\u001b[0m      function\n"
      ]
     },
     "metadata": {},
     "output_type": "display_data"
    }
   ],
   "source": [
    "np.loadtxt?"
   ]
  },
  {
   "cell_type": "code",
   "execution_count": 30,
   "metadata": {},
   "outputs": [],
   "source": [
    "\n",
    "wt=np.loadtxt(\"./git/bootcamp/data/wt_lac.csv\",skiprows=3,delimiter=',')\n",
    "q18m_lac=np.loadtxt(\"./git/bootcamp/data/q18m_lac.csv\",skiprows=3,delimiter=',')\n",
    "q18a_lac=np.loadtxt(\"./git/bootcamp/data/q18a_lac.csv\",skiprows=3,delimiter=',')"
   ]
  },
  {
   "cell_type": "markdown",
   "metadata": {},
   "source": [
    "for i in [wt,q18m_lac,q18a_lac]:\n",
    "    df_i=pd.DataFrame(data={'IPTG (mM)':i[:,0],'fold change':i[:,1]})\n",
    "    i_p=alt.Chart(df_i\n",
    "    ).mark_point(\n",
    "    ).encode(\n",
    "        x='IPTG (mM):Q',\n",
    "        y='fold change:Q'\n",
    "        )"
   ]
  },
  {
   "cell_type": "code",
   "execution_count": 68,
   "metadata": {},
   "outputs": [],
   "source": [
    "df_wt=pd.DataFrame(data={'IPTG (mM)':wt[:,0],'fold change':wt[:,1]})\n",
    "df_q18m=pd.DataFrame(data={'IPTG (mM)':q18m_lac[:,0],'fold change':q18m_lac[:,1]})\n",
    "df_q18a=pd.DataFrame(data={'IPTG (mM)':q18a_lac[:,0],'fold change':q18a_lac[:,1]})"
   ]
  },
  {
   "cell_type": "code",
   "execution_count": 95,
   "metadata": {},
   "outputs": [],
   "source": [
    "wt_p=alt.Chart(df_wt\n",
    "    ).mark_point(\n",
    "    color='tomato'\n",
    "    ).encode(\n",
    "        x=alt.X('IPTG (mM):Q',scale=alt.Scale(type='log')),\n",
    "        y='fold change:Q'\n",
    "        ).interactive()"
   ]
  },
  {
   "cell_type": "code",
   "execution_count": 94,
   "metadata": {},
   "outputs": [],
   "source": [
    "q18m_p=alt.Chart(df_q18m\n",
    "    ).mark_point(\n",
    "    color='green'\n",
    "    ).encode(\n",
    "        x=alt.X('IPTG (mM):Q',scale=alt.Scale(type='log')),\n",
    "        y='fold change:Q'\n",
    "        ).interactive()"
   ]
  },
  {
   "cell_type": "code",
   "execution_count": 93,
   "metadata": {},
   "outputs": [],
   "source": [
    "q18a_p=alt.Chart(df_q18a\n",
    "    ).mark_point(\n",
    "    ).encode(\n",
    "        x=alt.X('IPTG (mM):Q',scale=alt.Scale(type='log')),\n",
    "        y='fold change:Q'\n",
    "        ).interactive()"
   ]
  },
  {
   "cell_type": "code",
   "execution_count": 96,
   "metadata": {},
   "outputs": [
    {
     "data": {
      "application/vnd.vegalite.v2+json": {
       "$schema": "https://vega.github.io/schema/vega-lite/v2.4.3.json",
       "config": {
        "view": {
         "height": 300,
         "width": 400
        }
       },
       "layer": [
        {
         "data": {
          "values": [
           {
            "IPTG (mM)": 9.899553766184622e-06,
            "fold change": 0.04069737452932376
           },
           {
            "IPTG (mM)": 0.0009743248304039901,
            "fold change": 0.07278760681556372
           },
           {
            "IPTG (mM)": 0.0020439288607228363,
            "fold change": 0.10528360929144977
           },
           {
            "IPTG (mM)": 0.004049167669375694,
            "fold change": 0.1994773129760492
           },
           {
            "IPTG (mM)": 0.0075843703842860734,
            "fold change": 0.34302367565894665
           },
           {
            "IPTG (mM)": 0.015782435900750708,
            "fold change": 0.459465965165661
           },
           {
            "IPTG (mM)": 0.029456448152963877,
            "fold change": 0.6400474544798063
           },
           {
            "IPTG (mM)": 0.04805005826272132,
            "fold change": 0.6205567304551161
           },
           {
            "IPTG (mM)": 0.06179344160742073,
            "fold change": 0.6725434569556922
           },
           {
            "IPTG (mM)": 0.09557573700581276,
            "fold change": 0.6727772906243017
           },
           {
            "IPTG (mM)": 0.12343918212321378,
            "fold change": 0.6803218651673804
           },
           {
            "IPTG (mM)": 0.20011717609444318,
            "fold change": 0.7250253606368531
           },
           {
            "IPTG (mM)": 0.24640765817654417,
            "fold change": 0.6955072987053182
           },
           {
            "IPTG (mM)": 0.39046488914620214,
            "fold change": 0.7105689379481099
           },
           {
            "IPTG (mM)": 0.7591580146463864,
            "fold change": 0.7331476418906142
           },
           {
            "IPTG (mM)": 1.480551367107713,
            "fold change": 0.7236292360860372
           },
           {
            "IPTG (mM)": 3.1080999106400746,
            "fold change": 0.7487182132356737
           },
           {
            "IPTG (mM)": 6.044332211115375,
            "fold change": 0.7688279087360947
           },
           {
            "IPTG (mM)": 11.494880526997445,
            "fold change": 0.7543577311256687
           },
           {
            "IPTG (mM)": 24.165452092943934,
            "fold change": 0.7646326576228059
           }
          ]
         },
         "encoding": {
          "x": {
           "field": "IPTG (mM)",
           "scale": {
            "type": "log"
           },
           "type": "quantitative"
          },
          "y": {
           "field": "fold change",
           "type": "quantitative"
          }
         },
         "mark": {
          "color": "tomato",
          "type": "point"
         },
         "selection": {
          "selector013": {
           "bind": "scales",
           "encodings": [
            "x",
            "y"
           ],
           "mark": {
            "fill": "#333",
            "fillOpacity": 0.125,
            "stroke": "white"
           },
           "on": "[mousedown, window:mouseup] > window:mousemove!",
           "resolve": "global",
           "translate": "[mousedown, window:mouseup] > window:mousemove!",
           "type": "interval",
           "zoom": "wheel!"
          }
         }
        },
        {
         "data": {
          "values": [
           {
            "IPTG (mM)": 9.42008407614127e-06,
            "fold change": 0.023386805591375737
           },
           {
            "IPTG (mM)": 0.0010034502551662067,
            "fold change": 0.03329722666391599
           },
           {
            "IPTG (mM)": 0.002005930976238326,
            "fold change": 0.03366860954935458
           },
           {
            "IPTG (mM)": 0.003906504345597715,
            "fold change": 0.0389642543972768
           },
           {
            "IPTG (mM)": 0.008008360441418257,
            "fold change": 0.044287409088564544
           },
           {
            "IPTG (mM)": 0.015974794926494295,
            "fold change": 0.06687986795275203
           },
           {
            "IPTG (mM)": 0.0301932051260371,
            "fold change": 0.1166039098364886
           },
           {
            "IPTG (mM)": 0.05011336632904977,
            "fold change": 0.1835422362063928
           },
           {
            "IPTG (mM)": 0.06312871601138884,
            "fold change": 0.18366603050153896
           },
           {
            "IPTG (mM)": 0.10010694973746269,
            "fold change": 0.19132064441808105
           },
           {
            "IPTG (mM)": 0.12270831364330448,
            "fold change": 0.2087137428861268
           },
           {
            "IPTG (mM)": 0.2050737357234475,
            "fold change": 0.20405082443561828
           },
           {
            "IPTG (mM)": 0.25796717658689416,
            "fold change": 0.2189886693832639
           },
           {
            "IPTG (mM)": 0.38916853648246824,
            "fold change": 0.21180172280394086
           },
           {
            "IPTG (mM)": 0.7951494343211369,
            "fold change": 0.2516909956843936
           },
           {
            "IPTG (mM)": 1.551112202858225,
            "fold change": 0.2397035814377333
           },
           {
            "IPTG (mM)": 3.1820573321643684,
            "fold change": 0.237619710802772
           },
           {
            "IPTG (mM)": 6.202874218730745,
            "fold change": 0.23303932188236096
           },
           {
            "IPTG (mM)": 13.391757349500942,
            "fold change": 0.2334519695328485
           },
           {
            "IPTG (mM)": 26.086334586828688,
            "fold change": 0.2362786059386877
           }
          ]
         },
         "encoding": {
          "x": {
           "field": "IPTG (mM)",
           "scale": {
            "type": "log"
           },
           "type": "quantitative"
          },
          "y": {
           "field": "fold change",
           "type": "quantitative"
          }
         },
         "mark": {
          "color": "green",
          "type": "point"
         },
         "selection": {
          "selector012": {
           "bind": "scales",
           "encodings": [
            "x",
            "y"
           ],
           "mark": {
            "fill": "#333",
            "fillOpacity": 0.125,
            "stroke": "white"
           },
           "on": "[mousedown, window:mouseup] > window:mousemove!",
           "resolve": "global",
           "translate": "[mousedown, window:mouseup] > window:mousemove!",
           "type": "interval",
           "zoom": "wheel!"
          }
         }
        },
        {
         "data": {
          "values": [
           {
            "IPTG (mM)": 9.4897068845641e-06,
            "fold change": 0.213514210553464
           },
           {
            "IPTG (mM)": 9.270247940633647e-05,
            "fold change": 0.25671154209865743
           },
           {
            "IPTG (mM)": 0.00019456274242902937,
            "fold change": 0.28426952769037683
           },
           {
            "IPTG (mM)": 0.00038672649807078616,
            "fold change": 0.34389711318581195
           },
           {
            "IPTG (mM)": 0.0007675898269530733,
            "fold change": 0.4183387493337461
           },
           {
            "IPTG (mM)": 0.0009368758732336757,
            "fold change": 0.4801739997592891
           },
           {
            "IPTG (mM)": 0.0015202885789386653,
            "fold change": 0.515001461460429
           },
           {
            "IPTG (mM)": 0.0018591060873450077,
            "fold change": 0.5570846443493064
           },
           {
            "IPTG (mM)": 0.003676901739312045,
            "fold change": 0.6685614071284883
           },
           {
            "IPTG (mM)": 0.0072842024653579675,
            "fold change": 0.762755110813088
           },
           {
            "IPTG (mM)": 0.014091778294639251,
            "fold change": 0.8371829920393393
           },
           {
            "IPTG (mM)": 0.028103105898409274,
            "fold change": 0.8622444593456099
           },
           {
            "IPTG (mM)": 0.047765559674526094,
            "fold change": 0.9489486081738624
           },
           {
            "IPTG (mM)": 0.056863778529023676,
            "fold change": 1.0033630783514729
           },
           {
            "IPTG (mM)": 0.09819923707163151,
            "fold change": 0.9246436615601522
           },
           {
            "IPTG (mM)": 0.10806432982401412,
            "fold change": 0.996299926067296
           },
           {
            "IPTG (mM)": 0.18639701531992064,
            "fold change": 0.9299255514863914
           },
           {
            "IPTG (mM)": 0.23936929898816184,
            "fold change": 0.9967263286394664
           },
           {
            "IPTG (mM)": 0.38075606090081776,
            "fold change": 0.9722838328089272
           },
           {
            "IPTG (mM)": 0.7378239557549735,
            "fold change": 1.0294286549405962
           },
           {
            "IPTG (mM)": 1.5193860270701942,
            "fold change": 0.9878406492323036
           },
           {
            "IPTG (mM)": 3.0329782355721098,
            "fold change": 1.0030260827702415
           },
           {
            "IPTG (mM)": 5.908058440937364,
            "fold change": 1.0058527191760804
           },
           {
            "IPTG (mM)": 12.432197274724123,
            "fold change": 1.006251611904885
           },
           {
            "IPTG (mM)": 24.11957378383328,
            "fold change": 1.051051391826138
           }
          ]
         },
         "encoding": {
          "x": {
           "field": "IPTG (mM)",
           "scale": {
            "type": "log"
           },
           "type": "quantitative"
          },
          "y": {
           "field": "fold change",
           "type": "quantitative"
          }
         },
         "mark": "point",
         "selection": {
          "selector011": {
           "bind": "scales",
           "encodings": [
            "x",
            "y"
           ],
           "mark": {
            "fill": "#333",
            "fillOpacity": 0.125,
            "stroke": "white"
           },
           "on": "[mousedown, window:mouseup] > window:mousemove!",
           "resolve": "global",
           "translate": "[mousedown, window:mouseup] > window:mousemove!",
           "type": "interval",
           "zoom": "wheel!"
          }
         }
        }
       ]
      },
      "image/png": "[encoded data removed]",
      "text/plain": [
       "<VegaLite 2 object>\n",
       "\n",
       "If you see this message, it means the renderer has not been properly enabled\n",
       "for the frontend that you are using. For more information, see\n",
       "https://altair-viz.github.io/user_guide/troubleshooting.html\n"
      ]
     },
     "execution_count": 96,
     "metadata": {},
     "output_type": "execute_result"
    }
   ],
   "source": [
    "wt_p+q18m_p+q18a_p"
   ]
  },
  {
   "cell_type": "code",
   "execution_count": 124,
   "metadata": {},
   "outputs": [],
   "source": [
    "# b)\n",
    "def fold_change(c, RK, KdA=0.017,  KdI=0.002, Kswitch=5.8):\n",
    "    fc = 1 / ((1 + RK * ((1 + c/KdA) ** 2) / (((1 + c/KdA) ** 2) + Kswitch * (1 + c/KdI) ** 2)))\n",
    "    return fc"
   ]
  },
  {
   "cell_type": "code",
   "execution_count": 176,
   "metadata": {},
   "outputs": [],
   "source": [
    "# c)\n",
    "IPTG=np.logspace(-5,1,100)"
   ]
  },
  {
   "cell_type": "code",
   "execution_count": 177,
   "metadata": {},
   "outputs": [],
   "source": [
    "fc_wt=fold_change(IPTG,141.5 )"
   ]
  },
  {
   "cell_type": "code",
   "execution_count": 185,
   "metadata": {},
   "outputs": [],
   "source": [
    "fc_q18m=fold_change(IPTG,1332)\n",
    "fc_q18a=fold_change(IPTG, 16.56)"
   ]
  },
  {
   "cell_type": "code",
   "execution_count": 186,
   "metadata": {},
   "outputs": [],
   "source": [
    "df_wt_the=pd.DataFrame(data={'IPTG (mM)':IPTG,'fold change':fc_wt})\n",
    "df_q18m_the=pd.DataFrame(data={'IPTG (mM)':IPTG,'fold change':fc_q18m})\n",
    "df_q18a_the=pd.DataFrame(data={'IPTG (mM)':IPTG,'fold change':fc_q18a})"
   ]
  },
  {
   "cell_type": "code",
   "execution_count": 187,
   "metadata": {},
   "outputs": [
    {
     "data": {
      "text/html": [
       "<div>\n",
       "<style scoped>\n",
       "    .dataframe tbody tr th:only-of-type {\n",
       "        vertical-align: middle;\n",
       "    }\n",
       "\n",
       "    .dataframe tbody tr th {\n",
       "        vertical-align: top;\n",
       "    }\n",
       "\n",
       "    .dataframe thead th {\n",
       "        text-align: right;\n",
       "    }\n",
       "</style>\n",
       "<table border=\"1\" class=\"dataframe\">\n",
       "  <thead>\n",
       "    <tr style=\"text-align: right;\">\n",
       "      <th></th>\n",
       "      <th>IPTG (mM)</th>\n",
       "      <th>fold change</th>\n",
       "    </tr>\n",
       "  </thead>\n",
       "  <tbody>\n",
       "    <tr>\n",
       "      <th>0</th>\n",
       "      <td>0.000010</td>\n",
       "      <td>0.046183</td>\n",
       "    </tr>\n",
       "    <tr>\n",
       "      <th>1</th>\n",
       "      <td>0.000011</td>\n",
       "      <td>0.046232</td>\n",
       "    </tr>\n",
       "    <tr>\n",
       "      <th>2</th>\n",
       "      <td>0.000013</td>\n",
       "      <td>0.046289</td>\n",
       "    </tr>\n",
       "    <tr>\n",
       "      <th>3</th>\n",
       "      <td>0.000015</td>\n",
       "      <td>0.046354</td>\n",
       "    </tr>\n",
       "    <tr>\n",
       "      <th>4</th>\n",
       "      <td>0.000017</td>\n",
       "      <td>0.046430</td>\n",
       "    </tr>\n",
       "  </tbody>\n",
       "</table>\n",
       "</div>"
      ],
      "text/plain": [
       "   IPTG (mM)  fold change\n",
       "0   0.000010     0.046183\n",
       "1   0.000011     0.046232\n",
       "2   0.000013     0.046289\n",
       "3   0.000015     0.046354\n",
       "4   0.000017     0.046430"
      ]
     },
     "execution_count": 187,
     "metadata": {},
     "output_type": "execute_result"
    }
   ],
   "source": [
    "df_wt_the.head()"
   ]
  },
  {
   "cell_type": "code",
   "execution_count": 188,
   "metadata": {},
   "outputs": [],
   "source": [
    "wt_the_p=alt.Chart(df_wt_the\n",
    "    ).mark_point(\n",
    "    color='tomato'\n",
    "    ).encode(\n",
    "        x=alt.X('IPTG (mM):Q',scale=alt.Scale(type='log')),\n",
    "        y='fold change:Q'\n",
    "        ).interactive()"
   ]
  },
  {
   "cell_type": "code",
   "execution_count": 189,
   "metadata": {},
   "outputs": [],
   "source": [
    "q18m_the_p=alt.Chart(df_q18m_the\n",
    "    ).mark_point(\n",
    "    color='green'\n",
    "    ).encode(\n",
    "        x=alt.X('IPTG (mM):Q',scale=alt.Scale(type='log')),\n",
    "        y='fold change:Q'\n",
    "        ).interactive()"
   ]
  },
  {
   "cell_type": "code",
   "execution_count": 190,
   "metadata": {},
   "outputs": [],
   "source": [
    "q18a_the_p=alt.Chart(df_q18a_the\n",
    "    ).mark_point(\n",
    "    ).encode(\n",
    "        x=alt.X('IPTG (mM):Q',scale=alt.Scale(type='log')),\n",
    "        y='fold change:Q'\n",
    "        ).interactive()"
   ]
  },
  {
   "cell_type": "code",
   "execution_count": 191,
   "metadata": {},
   "outputs": [
    {
     "data": {
      "application/vnd.vegalite.v2+json": {
       "$schema": "https://vega.github.io/schema/vega-lite/v2.4.3.json",
       "config": {
        "view": {
         "height": 300,
         "width": 400
        }
       },
       "layer": [
        {
         "data": {
          "values": [
           {
            "IPTG (mM)": 1e-05,
            "fold change": 0.04618268278090423
           },
           {
            "IPTG (mM)": 1.1497569953977357e-05,
            "fold change": 0.04623212673417355
           },
           {
            "IPTG (mM)": 1.3219411484660286e-05,
            "fold change": 0.046288998287042575
           },
           {
            "IPTG (mM)": 1.5199110829529332e-05,
            "fold change": 0.04635441714562721
           },
           {
            "IPTG (mM)": 1.747528400007683e-05,
            "fold change": 0.04642967305191208
           },
           {
            "IPTG (mM)": 2.0092330025650458e-05,
            "fold change": 0.04651625199413708
           },
           {
            "IPTG (mM)": 2.310129700083158e-05,
            "fold change": 0.04661586657700773
           },
           {
            "IPTG (mM)": 2.656087782946684e-05,
            "fold change": 0.046730491247318914
           },
           {
            "IPTG (mM)": 3.053855508833412e-05,
            "fold change": 0.046862403196632665
           },
           {
            "IPTG (mM)": 3.511191734215127e-05,
            "fold change": 0.04701422991385602
           },
           {
            "IPTG (mM)": 4.037017258596558e-05,
            "fold change": 0.047189004542317864
           },
           {
            "IPTG (mM)": 4.641588833612782e-05,
            "fold change": 0.04739023041477659
           },
           {
            "IPTG (mM)": 5.3366992312063123e-05,
            "fold change": 0.047621956403545496
           },
           {
            "IPTG (mM)": 6.135907273413175e-05,
            "fold change": 0.04788886504091007
           },
           {
            "IPTG (mM)": 7.054802310718646e-05,
            "fold change": 0.04819637574811373
           },
           {
            "IPTG (mM)": 8.111308307896872e-05,
            "fold change": 0.04855076597182472
           },
           {
            "IPTG (mM)": 9.326033468832199e-05,
            "fold change": 0.04895931357886421
           },
           {
            "IPTG (mM)": 0.00010722672220103231,
            "fold change": 0.04943046451736875
           },
           {
            "IPTG (mM)": 0.0001232846739442066,
            "fold change": 0.0499740305290163
           },
           {
            "IPTG (mM)": 0.00014174741629268049,
            "fold change": 0.05060142260278887
           },
           {
            "IPTG (mM)": 0.00016297508346206434,
            "fold change": 0.05132592689895543
           },
           {
            "IPTG (mM)": 0.0001873817422860383,
            "fold change": 0.05216303103146448
           },
           {
            "IPTG (mM)": 0.00021544346900318845,
            "fold change": 0.05313080984214095
           },
           {
            "IPTG (mM)": 0.0002477076355991711,
            "fold change": 0.05425038105497538
           },
           {
            "IPTG (mM)": 0.0002848035868435802,
            "fold change": 0.05554644232351962
           },
           {
            "IPTG (mM)": 0.00032745491628777284,
            "fold change": 0.05704790194174795
           },
           {
            "IPTG (mM)": 0.00037649358067924675,
            "fold change": 0.058788615497820274
           },
           {
            "IPTG (mM)": 0.00043287612810830614,
            "fold change": 0.060808239425153066
           },
           {
            "IPTG (mM)": 0.0004977023564332114,
            "fold change": 0.06315320887879929
           },
           {
            "IPTG (mM)": 0.0005722367659350221,
            "fold change": 0.06587784040163971
           },
           {
            "IPTG (mM)": 0.0006579332246575682,
            "fold change": 0.06904554775656808
           },
           {
            "IPTG (mM)": 0.000756463327554629,
            "fold change": 0.07273013989912806
           },
           {
            "IPTG (mM)": 0.0008697490026177834,
            "fold change": 0.07701714070521436
           },
           {
            "IPTG (mM)": 0.001,
            "fold change": 0.08200502788765644
           },
           {
            "IPTG (mM)": 0.0011497569953977356,
            "fold change": 0.08780623103544076
           },
           {
            "IPTG (mM)": 0.0013219411484660286,
            "fold change": 0.0945476548845226
           },
           {
            "IPTG (mM)": 0.0015199110829529332,
            "fold change": 0.10237040615486677
           },
           {
            "IPTG (mM)": 0.0017475284000076847,
            "fold change": 0.11142830908711128
           },
           {
            "IPTG (mM)": 0.002009233002565048,
            "fold change": 0.121884714302253
           },
           {
            "IPTG (mM)": 0.0023101297000831605,
            "fold change": 0.13390706876065442
           },
           {
            "IPTG (mM)": 0.0026560877829466868,
            "fold change": 0.14765876633044736
           },
           {
            "IPTG (mM)": 0.0030538555088334154,
            "fold change": 0.16328799328253665
           },
           {
            "IPTG (mM)": 0.003511191734215131,
            "fold change": 0.18091367107920492
           },
           {
            "IPTG (mM)": 0.004037017258596553,
            "fold change": 0.20060919985816245
           },
           {
            "IPTG (mM)": 0.004641588833612782,
            "fold change": 0.22238547384478094
           },
           {
            "IPTG (mM)": 0.005336699231206312,
            "fold change": 0.2461754305811357
           },
           {
            "IPTG (mM)": 0.006135907273413176,
            "fold change": 0.2718229638427067
           },
           {
            "IPTG (mM)": 0.007054802310718645,
            "fold change": 0.29907907984485216
           },
           {
            "IPTG (mM)": 0.008111308307896872,
            "fold change": 0.32760747721880445
           },
           {
            "IPTG (mM)": 0.0093260334688322,
            "fold change": 0.35700026197730617
           },
           {
            "IPTG (mM)": 0.010722672220103232,
            "fold change": 0.38680255137970565
           },
           {
            "IPTG (mM)": 0.012328467394420659,
            "fold change": 0.4165428196043464
           },
           {
            "IPTG (mM)": 0.014174741629268049,
            "fold change": 0.44576460294295
           },
           {
            "IPTG (mM)": 0.01629750834620645,
            "fold change": 0.4740550194968524
           },
           {
            "IPTG (mM)": 0.018738174228603847,
            "fold change": 0.5010664849115186
           },
           {
            "IPTG (mM)": 0.021544346900318846,
            "fold change": 0.5265296552032761
           },
           {
            "IPTG (mM)": 0.024770763559917114,
            "fold change": 0.5502574395711792
           },
           {
            "IPTG (mM)": 0.02848035868435802,
            "fold change": 0.5721413943280742
           },
           {
            "IPTG (mM)": 0.03274549162877728,
            "fold change": 0.5921426546569589
           },
           {
            "IPTG (mM)": 0.037649358067924674,
            "fold change": 0.6102797641961488
           },
           {
            "IPTG (mM)": 0.043287612810830614,
            "fold change": 0.6266154850850446
           },
           {
            "IPTG (mM)": 0.04977023564332114,
            "fold change": 0.6412441399354059
           },
           {
            "IPTG (mM)": 0.0572236765935022,
            "fold change": 0.6542804524373462
           },
           {
            "IPTG (mM)": 0.06579332246575682,
            "fold change": 0.665850344919097
           },
           {
            "IPTG (mM)": 0.07564633275546291,
            "fold change": 0.6760837766706608
           },
           {
            "IPTG (mM)": 0.08697490026177834,
            "fold change": 0.6851094709729123
           },
           {
            "IPTG (mM)": 0.1,
            "fold change": 0.6930512577437271
           },
           {
            "IPTG (mM)": 0.11497569953977356,
            "fold change": 0.7000257193015783
           },
           {
            "IPTG (mM)": 0.13219411484660287,
            "fold change": 0.7061408377632281
           },
           {
            "IPTG (mM)": 0.1519911082952933,
            "fold change": 0.7114953798145482
           },
           {
            "IPTG (mM)": 0.1747528400007683,
            "fold change": 0.7161788015874245
           },
           {
            "IPTG (mM)": 0.2009233002565046,
            "fold change": 0.7202715033004775
           },
           {
            "IPTG (mM)": 0.2310129700083158,
            "fold change": 0.7238453051252725
           },
           {
            "IPTG (mM)": 0.26560877829466895,
            "fold change": 0.7269640504676623
           },
           {
            "IPTG (mM)": 0.30538555088334185,
            "fold change": 0.7296842703404479
           },
           {
            "IPTG (mM)": 0.35111917342151344,
            "fold change": 0.7320558634807779
           },
           {
            "IPTG (mM)": 0.4037017258596558,
            "fold change": 0.7341227624121789
           },
           {
            "IPTG (mM)": 0.4641588833612782,
            "fold change": 0.735923566884213
           },
           {
            "IPTG (mM)": 0.5336699231206312,
            "fold change": 0.737492134049244
           },
           {
            "IPTG (mM)": 0.6135907273413176,
            "fold change": 0.7388581201951083
           },
           {
            "IPTG (mM)": 0.7054802310718645,
            "fold change": 0.7400474725111118
           },
           {
            "IPTG (mM)": 0.8111308307896873,
            "fold change": 0.7410828717337752
           },
           {
            "IPTG (mM)": 0.9326033468832199,
            "fold change": 0.7419841279802595
           },
           {
            "IPTG (mM)": 1.072267222010323,
            "fold change": 0.7427685329114495
           },
           {
            "IPTG (mM)": 1.232846739442066,
            "fold change": 0.7434511717752134
           },
           {
            "IPTG (mM)": 1.4174741629268048,
            "fold change": 0.7440451990070138
           },
           {
            "IPTG (mM)": 1.6297508346206435,
            "fold change": 0.7445620810106356
           },
           {
            "IPTG (mM)": 1.873817422860383,
            "fold change": 0.7450118095762266
           },
           {
            "IPTG (mM)": 2.1544346900318865,
            "fold change": 0.7454030891638941
           },
           {
            "IPTG (mM)": 2.4770763559917137,
            "fold change": 0.7457435010209212
           },
           {
            "IPTG (mM)": 2.848035868435805,
            "fold change": 0.7460396468304412
           },
           {
            "IPTG (mM)": 3.2745491628777317,
            "fold change": 0.7462972743227062
           },
           {
            "IPTG (mM)": 3.7649358067924714,
            "fold change": 0.7465213870252435
           },
           {
            "IPTG (mM)": 4.328761281083062,
            "fold change": 0.74671634008996
           },
           {
            "IPTG (mM)": 4.9770235643321135,
            "fold change": 0.746885923916017
           },
           {
            "IPTG (mM)": 5.72236765935022,
            "fold change": 0.7470334370878445
           },
           {
            "IPTG (mM)": 6.5793322465756825,
            "fold change": 0.7471617499677804
           },
           {
            "IPTG (mM)": 7.56463327554629,
            "fold change": 0.7472733601216799
           },
           {
            "IPTG (mM)": 8.697490026177835,
            "fold change": 0.7473704406122265
           },
           {
            "IPTG (mM)": 10,
            "fold change": 0.7474548820672438
           }
          ]
         },
         "encoding": {
          "x": {
           "field": "IPTG (mM)",
           "scale": {
            "type": "log"
           },
           "type": "quantitative"
          },
          "y": {
           "field": "fold change",
           "type": "quantitative"
          }
         },
         "mark": {
          "color": "tomato",
          "type": "point"
         },
         "selection": {
          "selector027": {
           "bind": "scales",
           "encodings": [
            "x",
            "y"
           ],
           "mark": {
            "fill": "#333",
            "fillOpacity": 0.125,
            "stroke": "white"
           },
           "on": "[mousedown, window:mouseup] > window:mousemove!",
           "resolve": "global",
           "translate": "[mousedown, window:mouseup] > window:mousemove!",
           "type": "interval",
           "zoom": "wheel!"
          }
         }
        },
        {
         "data": {
          "values": [
           {
            "IPTG (mM)": 1e-05,
            "fold change": 0.005117266831757464
           },
           {
            "IPTG (mM)": 1.1497569953977357e-05,
            "fold change": 0.00512298160235921
           },
           {
            "IPTG (mM)": 1.3219411484660286e-05,
            "fold change": 0.005129555512260401
           },
           {
            "IPTG (mM)": 1.5199110829529332e-05,
            "fold change": 0.005137118286566628
           },
           {
            "IPTG (mM)": 1.747528400007683e-05,
            "fold change": 0.005145819418069573
           },
           {
            "IPTG (mM)": 2.0092330025650458e-05,
            "fold change": 0.005155831236279172
           },
           {
            "IPTG (mM)": 2.310129700083158e-05,
            "fold change": 0.005167352470577933
           },
           {
            "IPTG (mM)": 2.656087782946684e-05,
            "fold change": 0.005180612392360691
           },
           {
            "IPTG (mM)": 3.053855508833412e-05,
            "fold change": 0.005195875637102829
           },
           {
            "IPTG (mM)": 3.511191734215127e-05,
            "fold change": 0.005213447826808123
           },
           {
            "IPTG (mM)": 4.037017258596558e-05,
            "fold change": 0.005233682137031992
           },
           {
            "IPTG (mM)": 4.641588833612782e-05,
            "fold change": 0.005256986981665077
           },
           {
            "IPTG (mM)": 5.3366992312063123e-05,
            "fold change": 0.005283835024149334
           },
           {
            "IPTG (mM)": 6.135907273413175e-05,
            "fold change": 0.005314773767338113
           },
           {
            "IPTG (mM)": 7.054802310718646e-05,
            "fold change": 0.005350438027720809
           },
           {
            "IPTG (mM)": 8.111308307896872e-05,
            "fold change": 0.005391564665560713
           },
           {
            "IPTG (mM)": 9.326033468832199e-05,
            "fold change": 0.005439010023493633
           },
           {
            "IPTG (mM)": 0.00010722672220103231,
            "fold change": 0.005493770625722572
           },
           {
            "IPTG (mM)": 0.0001232846739442066,
            "fold change": 0.005557007812146643
           },
           {
            "IPTG (mM)": 0.00014174741629268049,
            "fold change": 0.00563007713121013
           },
           {
            "IPTG (mM)": 0.00016297508346206434,
            "fold change": 0.005714563497092089
           },
           {
            "IPTG (mM)": 0.0001873817422860383,
            "fold change": 0.005812323336492082
           },
           {
            "IPTG (mM)": 0.00021544346900318845,
            "fold change": 0.005925535212906111
           },
           {
            "IPTG (mM)": 0.0002477076355991711,
            "fold change": 0.006056760726059504
           },
           {
            "IPTG (mM)": 0.0002848035868435802,
            "fold change": 0.006209017842695895
           },
           {
            "IPTG (mM)": 0.00032745491628777284,
            "fold change": 0.006385869219064605
           },
           {
            "IPTG (mM)": 0.00037649358067924675,
            "fold change": 0.006591528513826212
           },
           {
            "IPTG (mM)": 0.00043287612810830614,
            "fold change": 0.006830988138039109
           },
           {
            "IPTG (mM)": 0.0004977023564332114,
            "fold change": 0.007110172301269425
           },
           {
            "IPTG (mM)": 0.0005722367659350221,
            "fold change": 0.00743611951435639
           },
           {
            "IPTG (mM)": 0.0006579332246575682,
            "fold change": 0.00781719878183057
           },
           {
            "IPTG (mM)": 0.000756463327554629,
            "fold change": 0.008263363384179318
           },
           {
            "IPTG (mM)": 0.0008697490026177834,
            "fold change": 0.008786445160887845
           },
           {
            "IPTG (mM)": 0.001,
            "fold change": 0.009400490217850497
           },
           {
            "IPTG (mM)": 0.0011497569953977356,
            "fold change": 0.010122133557021155
           },
           {
            "IPTG (mM)": 0.0013219411484660286,
            "fold change": 0.010971004731831284
           },
           {
            "IPTG (mM)": 0.0015199110829529332,
            "fold change": 0.011970148690205972
           },
           {
            "IPTG (mM)": 0.0017475284000076847,
            "fold change": 0.013146434945970606
           },
           {
            "IPTG (mM)": 0.002009233002565048,
            "fold change": 0.014530913808436368
           },
           {
            "IPTG (mM)": 0.0023101297000831605,
            "fold change": 0.01615906078668984
           },
           {
            "IPTG (mM)": 0.0026560877829466868,
            "fold change": 0.01807083054193121
           },
           {
            "IPTG (mM)": 0.0030538555088334154,
            "fold change": 0.02031042230794086
           },
           {
            "IPTG (mM)": 0.003511191734215131,
            "fold change": 0.022925643738686417
           },
           {
            "IPTG (mM)": 0.004037017258596553,
            "fold change": 0.02596675585770606
           },
           {
            "IPTG (mM)": 0.004641588833612782,
            "fold change": 0.02948469599018595
           },
           {
            "IPTG (mM)": 0.005336699231206312,
            "fold change": 0.03352861642146569
           },
           {
            "IPTG (mM)": 0.006135907273413176,
            "fold change": 0.03814275009203997
           },
           {
            "IPTG (mM)": 0.007054802310718645,
            "fold change": 0.0433627212827318
           },
           {
            "IPTG (mM)": 0.008111308307896872,
            "fold change": 0.04921154982962626
           },
           {
            "IPTG (mM)": 0.0093260334688322,
            "fold change": 0.055695730820404805
           },
           {
            "IPTG (mM)": 0.010722672220103232,
            "fold change": 0.0628018759246808
           },
           {
            "IPTG (mM)": 0.012328467394420659,
            "fold change": 0.07049444084584042
           },
           {
            "IPTG (mM)": 0.014174741629268049,
            "fold change": 0.07871500593318868
           },
           {
            "IPTG (mM)": 0.01629750834620645,
            "fold change": 0.08738341381307513
           },
           {
            "IPTG (mM)": 0.018738174228603847,
            "fold change": 0.0964008183803451
           },
           {
            "IPTG (mM)": 0.021544346900318846,
            "fold change": 0.1056544120735873
           },
           {
            "IPTG (mM)": 0.024770763559917114,
            "fold change": 0.11502333827039525
           },
           {
            "IPTG (mM)": 0.02848035868435802,
            "fold change": 0.12438512433894583
           },
           {
            "IPTG (mM)": 0.03274549162877728,
            "fold change": 0.13362192565162404
           },
           {
            "IPTG (mM)": 0.037649358067924674,
            "fold change": 0.14262595354949104
           },
           {
            "IPTG (mM)": 0.043287612810830614,
            "fold change": 0.1513036395770801
           },
           {
            "IPTG (mM)": 0.04977023564332114,
            "fold change": 0.15957831356209973
           },
           {
            "IPTG (mM)": 0.0572236765935022,
            "fold change": 0.16739139201277262
           },
           {
            "IPTG (mM)": 0.06579332246575682,
            "fold change": 0.17470224657582906
           },
           {
            "IPTG (mM)": 0.07564633275546291,
            "fold change": 0.18148703053423362
           },
           {
            "IPTG (mM)": 0.08697490026177834,
            "fold change": 0.1877367840260321
           },
           {
            "IPTG (mM)": 0.1,
            "fold change": 0.19345512833476677
           },
           {
            "IPTG (mM)": 0.11497569953977356,
            "fold change": 0.19865581447807704
           },
           {
            "IPTG (mM)": 0.13219411484660287,
            "fold change": 0.20336032942048515
           },
           {
            "IPTG (mM)": 0.1519911082952933,
            "fold change": 0.20759569881128467
           },
           {
            "IPTG (mM)": 0.1747528400007683,
            "fold change": 0.2113925674663093
           },
           {
            "IPTG (mM)": 0.2009233002565046,
            "fold change": 0.21478359252550977
           },
           {
            "IPTG (mM)": 0.2310129700083158,
            "fold change": 0.21780215050669485
           },
           {
            "IPTG (mM)": 0.26560877829466895,
            "fold change": 0.2204813373424024
           },
           {
            "IPTG (mM)": 0.30538555088334185,
            "fold change": 0.22285322785641748
           },
           {
            "IPTG (mM)": 0.35111917342151344,
            "fold change": 0.22494835563151494
           },
           {
            "IPTG (mM)": 0.4037017258596558,
            "fold change": 0.22679537362391505
           },
           {
            "IPTG (mM)": 0.4641588833612782,
            "fold change": 0.2284208583571857
           },
           {
            "IPTG (mM)": 0.5336699231206312,
            "fold change": 0.22984922468486782
           },
           {
            "IPTG (mM)": 0.6135907273413176,
            "fold change": 0.23110272296413523
           },
           {
            "IPTG (mM)": 0.7054802310718645,
            "fold change": 0.2322014953899292
           },
           {
            "IPTG (mM)": 0.8111308307896873,
            "fold change": 0.23316367281724612
           },
           {
            "IPTG (mM)": 0.9326033468832199,
            "fold change": 0.23400549745053623
           },
           {
            "IPTG (mM)": 1.072267222010323,
            "fold change": 0.23474146022904685
           },
           {
            "IPTG (mM)": 1.232846739442066,
            "fold change": 0.2353844445880259
           },
           {
            "IPTG (mM)": 1.4174741629268048,
            "fold change": 0.23594587057425614
           },
           {
            "IPTG (mM)": 1.6297508346206435,
            "fold change": 0.23643583510782185
           },
           {
            "IPTG (mM)": 1.873817422860383,
            "fold change": 0.23686324558438152
           },
           {
            "IPTG (mM)": 2.1544346900318865,
            "fold change": 0.23723594507567405
           },
           {
            "IPTG (mM)": 2.4770763559917137,
            "fold change": 0.23756082817615481
           },
           {
            "IPTG (mM)": 2.848035868435805,
            "fold change": 0.2378439471175586
           },
           {
            "IPTG (mM)": 3.2745491628777317,
            "fold change": 0.23809060817883612
           },
           {
            "IPTG (mM)": 3.7649358067924714,
            "fold change": 0.23830545869572062
           },
           {
            "IPTG (mM)": 4.328761281083062,
            "fold change": 0.23849256515387682
           },
           {
            "IPTG (mM)": 4.9770235643321135,
            "fold change": 0.2386554829572946
           },
           {
            "IPTG (mM)": 5.72236765935022,
            "fold change": 0.23879731851890382
           },
           {
            "IPTG (mM)": 6.5793322465756825,
            "fold change": 0.23892078433840433
           },
           {
            "IPTG (mM)": 7.56463327554629,
            "fold change": 0.23902824772448802
           },
           {
            "IPTG (mM)": 8.697490026177835,
            "fold change": 0.2391217737935861
           },
           {
            "IPTG (mM)": 10,
            "fold change": 0.23920316334137215
           }
          ]
         },
         "encoding": {
          "x": {
           "field": "IPTG (mM)",
           "scale": {
            "type": "log"
           },
           "type": "quantitative"
          },
          "y": {
           "field": "fold change",
           "type": "quantitative"
          }
         },
         "mark": {
          "color": "green",
          "type": "point"
         },
         "selection": {
          "selector028": {
           "bind": "scales",
           "encodings": [
            "x",
            "y"
           ],
           "mark": {
            "fill": "#333",
            "fillOpacity": 0.125,
            "stroke": "white"
           },
           "on": "[mousedown, window:mouseup] > window:mousemove!",
           "resolve": "global",
           "translate": "[mousedown, window:mouseup] > window:mousemove!",
           "type": "interval",
           "zoom": "wheel!"
          }
         }
        },
        {
         "data": {
          "values": [
           {
            "IPTG (mM)": 1e-05,
            "fold change": 0.2926480416870593
           },
           {
            "IPTG (mM)": 1.1497569953977357e-05,
            "fold change": 0.2928803313477785
           },
           {
            "IPTG (mM)": 1.3219411484660286e-05,
            "fold change": 0.2931473573264452
           },
           {
            "IPTG (mM)": 1.5199110829529332e-05,
            "fold change": 0.2934543050495946
           },
           {
            "IPTG (mM)": 1.747528400007683e-05,
            "fold change": 0.29380713102442796
           },
           {
            "IPTG (mM)": 2.0092330025650458e-05,
            "fold change": 0.29421267648200644
           },
           {
            "IPTG (mM)": 2.310129700083158e-05,
            "fold change": 0.294678797414243
           },
           {
            "IPTG (mM)": 2.656087782946684e-05,
            "fold change": 0.29521451324064435
           },
           {
            "IPTG (mM)": 3.053855508833412e-05,
            "fold change": 0.2958301765961323
           },
           {
            "IPTG (mM)": 3.511191734215127e-05,
            "fold change": 0.29653766699495565
           },
           {
            "IPTG (mM)": 4.037017258596558e-05,
            "fold change": 0.297350611387226
           },
           {
            "IPTG (mM)": 4.641588833612782e-05,
            "fold change": 0.29828463486727
           },
           {
            "IPTG (mM)": 5.3366992312063123e-05,
            "fold change": 0.29935764499100787
           },
           {
            "IPTG (mM)": 6.135907273413175e-05,
            "fold change": 0.30059015327411837
           },
           {
            "IPTG (mM)": 7.054802310718646e-05,
            "fold change": 0.3020056374164917
           },
           {
            "IPTG (mM)": 8.111308307896872e-05,
            "fold change": 0.30363094754787184
           },
           {
            "IPTG (mM)": 9.326033468832199e-05,
            "fold change": 0.30549675919471714
           },
           {
            "IPTG (mM)": 0.00010722672220103231,
            "fold change": 0.3076380745590582
           },
           {
            "IPTG (mM)": 0.0001232846739442066,
            "fold change": 0.3100947718386201
           },
           {
            "IPTG (mM)": 0.00014174741629268049,
            "fold change": 0.31291219937600956
           },
           {
            "IPTG (mM)": 0.00016297508346206434,
            "fold change": 0.3161418069601932
           },
           {
            "IPTG (mM)": 0.0001873817422860383,
            "fold change": 0.3198418000301858
           },
           {
            "IPTG (mM)": 0.00021544346900318845,
            "fold change": 0.3240777930980947
           },
           {
            "IPTG (mM)": 0.0002477076355991711,
            "fold change": 0.3289234254939559
           },
           {
            "IPTG (mM)": 0.0002848035868435802,
            "fold change": 0.3344608844743733
           },
           {
            "IPTG (mM)": 0.00032745491628777284,
            "fold change": 0.3407812567283853
           },
           {
            "IPTG (mM)": 0.00037649358067924675,
            "fold change": 0.34798459844560603
           },
           {
            "IPTG (mM)": 0.00043287612810830614,
            "fold change": 0.35617957609544143
           },
           {
            "IPTG (mM)": 0.0004977023564332114,
            "fold change": 0.36548248596766053
           },
           {
            "IPTG (mM)": 0.0005722367659350221,
            "fold change": 0.37601541387865983
           },
           {
            "IPTG (mM)": 0.0006579332246575682,
            "fold change": 0.38790325478415577
           },
           {
            "IPTG (mM)": 0.000756463327554629,
            "fold change": 0.40126928866483236
           },
           {
            "IPTG (mM)": 0.0008697490026177834,
            "fold change": 0.41622902457790445
           },
           {
            "IPTG (mM)": 0.001,
            "fold change": 0.43288210728588955
           },
           {
            "IPTG (mM)": 0.0011497569953977356,
            "fold change": 0.45130226295665793
           },
           {
            "IPTG (mM)": 0.0013219411484660286,
            "fold change": 0.47152557061584266
           },
           {
            "IPTG (mM)": 0.0015199110829529332,
            "fold change": 0.49353779294615563
           },
           {
            "IPTG (mM)": 0.0017475284000076847,
            "fold change": 0.5172620499231454
           },
           {
            "IPTG (mM)": 0.002009233002565048,
            "fold change": 0.5425486730575712
           },
           {
            "IPTG (mM)": 0.0023101297000831605,
            "fold change": 0.5691694650701791
           },
           {
            "IPTG (mM)": 0.0026560877829466868,
            "fold change": 0.5968185907098855
           },
           {
            "IPTG (mM)": 0.0030538555088334154,
            "fold change": 0.6251217458794597
           },
           {
            "IPTG (mM)": 0.003511191734215131,
            "fold change": 0.653654036256905
           },
           {
            "IPTG (mM)": 0.004037017258596553,
            "fold change": 0.6819653186722503
           },
           {
            "IPTG (mM)": 0.004641588833612782,
            "fold change": 0.7096100418205993
           },
           {
            "IPTG (mM)": 0.005336699231206312,
            "fold change": 0.736177418109685
           },
           {
            "IPTG (mM)": 0.006135907273413176,
            "fold change": 0.7613175156187679
           },
           {
            "IPTG (mM)": 0.007054802310718645,
            "fold change": 0.7847597066139451
           },
           {
            "IPTG (mM)": 0.008111308307896872,
            "fold change": 0.8063215756344653
           },
           {
            "IPTG (mM)": 0.0093260334688322,
            "fold change": 0.8259083270896854
           },
           {
            "IPTG (mM)": 0.010722672220103232,
            "fold change": 0.8435043627502073
           },
           {
            "IPTG (mM)": 0.012328467394420659,
            "fold change": 0.8591596483869575
           },
           {
            "IPTG (mM)": 0.014174741629268049,
            "fold change": 0.8729736784910471
           },
           {
            "IPTG (mM)": 0.01629750834620645,
            "fold change": 0.8850794454796335
           },
           {
            "IPTG (mM)": 0.018738174228603847,
            "fold change": 0.8956291036291057
           },
           {
            "IPTG (mM)": 0.021544346900318846,
            "fold change": 0.9047822508089554
           },
           {
            "IPTG (mM)": 0.024770763559917114,
            "fold change": 0.9126971076982093
           },
           {
            "IPTG (mM)": 0.02848035868435802,
            "fold change": 0.9195244291893366
           },
           {
            "IPTG (mM)": 0.03274549162877728,
            "fold change": 0.92540373510791
           },
           {
            "IPTG (mM)": 0.037649358067924674,
            "fold change": 0.9304613556330874
           },
           {
            "IPTG (mM)": 0.043287612810830614,
            "fold change": 0.9348097978192201
           },
           {
            "IPTG (mM)": 0.04977023564332114,
            "fold change": 0.938548006145729
           },
           {
            "IPTG (mM)": 0.0572236765935022,
            "fold change": 0.9417621775774565
           },
           {
            "IPTG (mM)": 0.06579332246575682,
            "fold change": 0.9445268788171829
           },
           {
            "IPTG (mM)": 0.07564633275546291,
            "fold change": 0.946906289290208
           },
           {
            "IPTG (mM)": 0.08697490026177834,
            "fold change": 0.948955453933643
           },
           {
            "IPTG (mM)": 0.1,
            "fold change": 0.9507214751549975
           },
           {
            "IPTG (mM)": 0.11497569953977356,
            "fold change": 0.9522446054275643
           },
           {
            "IPTG (mM)": 0.13219411484660287,
            "fold change": 0.9535592236095595
           },
           {
            "IPTG (mM)": 0.1519911082952933,
            "fold change": 0.9546946918535281
           },
           {
            "IPTG (mM)": 0.1747528400007683,
            "fold change": 0.9556760981704234
           },
           {
            "IPTG (mM)": 0.2009233002565046,
            "fold change": 0.9565248941085358
           },
           {
            "IPTG (mM)": 0.2310129700083158,
            "fold change": 0.957259438925729
           },
           {
            "IPTG (mM)": 0.26560877829466895,
            "fold change": 0.9578954620171244
           },
           {
            "IPTG (mM)": 0.30538555088334185,
            "fold change": 0.9584464548549201
           },
           {
            "IPTG (mM)": 0.35111917342151344,
            "fold change": 0.9589240027279808
           },
           {
            "IPTG (mM)": 0.4037017258596558,
            "fold change": 0.9593380654056647
           },
           {
            "IPTG (mM)": 0.4641588833612782,
            "fold change": 0.9596972146554666
           },
           {
            "IPTG (mM)": 0.5336699231206312,
            "fold change": 0.9600088354089061
           },
           {
            "IPTG (mM)": 0.6135907273413176,
            "fold change": 0.960279296340515
           },
           {
            "IPTG (mM)": 0.7054802310718645,
            "fold change": 0.9605140947185445
           },
           {
            "IPTG (mM)": 0.8111308307896873,
            "fold change": 0.9607179796043819
           },
           {
            "IPTG (mM)": 0.9326033468832199,
            "fold change": 0.9608950568129092
           },
           {
            "IPTG (mM)": 1.072267222010323,
            "fold change": 0.9610488784861708
           },
           {
            "IPTG (mM)": 1.232846739442066,
            "fold change": 0.9611825196642951
           },
           {
            "IPTG (mM)": 1.4174741629268048,
            "fold change": 0.9612986438473919
           },
           {
            "IPTG (mM)": 1.6297508346206435,
            "fold change": 0.9613995592178792
           },
           {
            "IPTG (mM)": 1.873817422860383,
            "fold change": 0.9614872669235245
           },
           {
            "IPTG (mM)": 2.1544346900318865,
            "fold change": 0.9615635025980779
           },
           {
            "IPTG (mM)": 2.4770763559917137,
            "fold change": 0.9616297721107961
           },
           {
            "IPTG (mM)": 2.848035868435805,
            "fold change": 0.9616873823817585
           },
           {
            "IPTG (mM)": 3.2745491628777317,
            "fold change": 0.9617374679712143
           },
           {
            "IPTG (mM)": 3.7649358067924714,
            "fold change": 0.9617810140436944
           },
           {
            "IPTG (mM)": 4.328761281083062,
            "fold change": 0.9618188762176003
           },
           {
            "IPTG (mM)": 4.9770235643321135,
            "fold change": 0.9618517977353975
           },
           {
            "IPTG (mM)": 5.72236765935022,
            "fold change": 0.9618804243258889
           },
           {
            "IPTG (mM)": 6.5793322465756825,
            "fold change": 0.9619053170763262
           },
           {
            "IPTG (mM)": 7.56463327554629,
            "fold change": 0.9619269635866404
           },
           {
            "IPTG (mM)": 8.697490026177835,
            "fold change": 0.9619457876394825
           },
           {
            "IPTG (mM)": 10,
            "fold change": 0.961962157586951
           }
          ]
         },
         "encoding": {
          "x": {
           "field": "IPTG (mM)",
           "scale": {
            "type": "log"
           },
           "type": "quantitative"
          },
          "y": {
           "field": "fold change",
           "type": "quantitative"
          }
         },
         "mark": "point",
         "selection": {
          "selector029": {
           "bind": "scales",
           "encodings": [
            "x",
            "y"
           ],
           "mark": {
            "fill": "#333",
            "fillOpacity": 0.125,
            "stroke": "white"
           },
           "on": "[mousedown, window:mouseup] > window:mousemove!",
           "resolve": "global",
           "translate": "[mousedown, window:mouseup] > window:mousemove!",
           "type": "interval",
           "zoom": "wheel!"
          }
         }
        }
       ]
      },
      "image/png": "[encoded data removed]",
      "text/plain": [
       "<VegaLite 2 object>\n",
       "\n",
       "If you see this message, it means the renderer has not been properly enabled\n",
       "for the frontend that you are using. For more information, see\n",
       "https://altair-viz.github.io/user_guide/troubleshooting.html\n"
      ]
     },
     "execution_count": 191,
     "metadata": {},
     "output_type": "execute_result"
    }
   ],
   "source": [
    "wt_the_p+q18m_the_p+q18a_the_p"
   ]
  },
  {
   "cell_type": "code",
   "execution_count": 211,
   "metadata": {},
   "outputs": [],
   "source": [
    "# e)\n",
    "def bohr_parameter(c, RK, KdA=0.017, KdI=0.002, Kswitch=5.8):\n",
    "    bp = - np.log(RK) - np.log((1+c/KdA)**2 / (1 + c / KdA)**2 + Kswitch * (1+c/KdI)**2)\n",
    "    return bp"
   ]
  },
  {
   "cell_type": "code",
   "execution_count": null,
   "metadata": {},
   "outputs": [],
   "source": [
    "def fold_change_bohr(bohr_parameter)"
   ]
  }
 ],
 "metadata": {
  "kernelspec": {
   "display_name": "Python 3",
   "language": "python",
   "name": "python3"
  },
  "language_info": {
   "codemirror_mode": {
    "name": "ipython",
    "version": 3
   },
   "file_extension": ".py",
   "mimetype": "text/x-python",
   "name": "python",
   "nbconvert_exporter": "python",
   "pygments_lexer": "ipython3",
   "version": "3.6.5"
  }
 },
 "nbformat": 4,
 "nbformat_minor": 2
}
