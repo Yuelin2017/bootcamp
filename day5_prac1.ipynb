{
 "cells": [
  {
   "cell_type": "code",
   "execution_count": 1,
   "metadata": {},
   "outputs": [],
   "source": [
    "# Practice 1: Heritability\n",
    "import numpy as np\n",
    "import pandas as pd\n",
    "\n",
    "import altair as alt"
   ]
  },
  {
   "cell_type": "code",
   "execution_count": 2,
   "metadata": {},
   "outputs": [
    {
     "data": {
      "text/html": [
       "<div>\n",
       "<style scoped>\n",
       "    .dataframe tbody tr th:only-of-type {\n",
       "        vertical-align: middle;\n",
       "    }\n",
       "\n",
       "    .dataframe tbody tr th {\n",
       "        vertical-align: top;\n",
       "    }\n",
       "\n",
       "    .dataframe thead th {\n",
       "        text-align: right;\n",
       "    }\n",
       "</style>\n",
       "<table border=\"1\" class=\"dataframe\">\n",
       "  <thead>\n",
       "    <tr style=\"text-align: right;\">\n",
       "      <th></th>\n",
       "      <th>species</th>\n",
       "      <th>offspring beak depth (mm)</th>\n",
       "      <th>parent beak depth (mm)</th>\n",
       "    </tr>\n",
       "  </thead>\n",
       "  <tbody>\n",
       "    <tr>\n",
       "      <th>538</th>\n",
       "      <td>scandens</td>\n",
       "      <td>9.4899</td>\n",
       "      <td>9.6516</td>\n",
       "    </tr>\n",
       "    <tr>\n",
       "      <th>539</th>\n",
       "      <td>scandens</td>\n",
       "      <td>9.5962</td>\n",
       "      <td>9.7572</td>\n",
       "    </tr>\n",
       "    <tr>\n",
       "      <th>540</th>\n",
       "      <td>scandens</td>\n",
       "      <td>9.6873</td>\n",
       "      <td>9.8854</td>\n",
       "    </tr>\n",
       "    <tr>\n",
       "      <th>541</th>\n",
       "      <td>scandens</td>\n",
       "      <td>9.5203</td>\n",
       "      <td>10.0023</td>\n",
       "    </tr>\n",
       "    <tr>\n",
       "      <th>542</th>\n",
       "      <td>scandens</td>\n",
       "      <td>9.6646</td>\n",
       "      <td>9.3914</td>\n",
       "    </tr>\n",
       "  </tbody>\n",
       "</table>\n",
       "</div>"
      ],
      "text/plain": [
       "      species  offspring beak depth (mm)  parent beak depth (mm)\n",
       "538  scandens                     9.4899                  9.6516\n",
       "539  scandens                     9.5962                  9.7572\n",
       "540  scandens                     9.6873                  9.8854\n",
       "541  scandens                     9.5203                 10.0023\n",
       "542  scandens                     9.6646                  9.3914"
      ]
     },
     "execution_count": 2,
     "metadata": {},
     "output_type": "execute_result"
    }
   ],
   "source": [
    "df = pd.read_csv('data/grant_heredity.csv', comment='#')\n",
    "df.tail()"
   ]
  },
  {
   "cell_type": "code",
   "execution_count": 3,
   "metadata": {},
   "outputs": [],
   "source": [
    "# heritability is defined as the ratio of the covariance between the parental and offspring traits to the variance \n",
    "# of the parental traits.\n",
    "# G. fortis and G. scandens\n",
    "\n",
    "ft_off=df.loc[df['species']=='fortis','offspring beak depth (mm)'].values\n",
    "ft_par=df.loc[df['species']=='fortis','parent beak depth (mm)'].values\n",
    "\n",
    "sd_off=df.loc[df['species']=='scandens','offspring beak depth (mm)'].values\n",
    "sd_par=df.loc[df['species']=='scandens','parent beak depth (mm)'].values"
   ]
  },
  {
   "cell_type": "code",
   "execution_count": 4,
   "metadata": {},
   "outputs": [
    {
     "data": {
      "text/plain": [
       "(413,)"
      ]
     },
     "execution_count": 4,
     "metadata": {},
     "output_type": "execute_result"
    }
   ],
   "source": [
    "ft_off.shape"
   ]
  },
  {
   "cell_type": "code",
   "execution_count": 5,
   "metadata": {},
   "outputs": [
    {
     "data": {
      "text/plain": [
       "(1.0024271844660186, 1.007751937984496)"
      ]
     },
     "execution_count": 5,
     "metadata": {},
     "output_type": "execute_result"
    }
   ],
   "source": [
    "ft_her = np.cov(ft_off,ft_par)[1,1] / np.var(ft_par)\n",
    "sd_her = np.cov(sd_off,sd_par)[1,1] / np.var(sd_par)\n",
    "\n",
    "ft_her,sd_her"
   ]
  },
  {
   "cell_type": "code",
   "execution_count": 6,
   "metadata": {},
   "outputs": [],
   "source": [
    "# boostrap for fortis"
   ]
  },
  {
   "cell_type": "code",
   "execution_count": 35,
   "metadata": {},
   "outputs": [],
   "source": [
    "reps = 10\n",
    "\n",
    "ft_her_bs = np.empty(reps)\n",
    "\n",
    "inds = np.arange(len(ft_off))\n",
    "\n",
    "for i in range(reps):\n",
    "    \n",
    "    inds_bs = np.random.choice(inds,replace=True,size=len(ft_off))\n",
    "\n",
    "    ft_off_bs = ft_off[inds_bs]\n",
    "    ft_par_bs = ft_par[inds_bs]\n",
    "    \n",
    "    ft_her_bs[i] = np.cov(ft_off_bs,ft_par_bs)[0,1] / np.var(ft_par_bs)"
   ]
  },
  {
   "cell_type": "code",
   "execution_count": 23,
   "metadata": {},
   "outputs": [
    {
     "data": {
      "text/plain": [
       "array([  0,   1,   2,   3,   4,   5,   6,   7,   8,   9,  10,  11,  12,\n",
       "        13,  14,  15,  16,  17,  18,  19,  20,  21,  22,  23,  24,  25,\n",
       "        26,  27,  28,  29,  30,  31,  32,  33,  34,  35,  36,  37,  38,\n",
       "        39,  40,  41,  42,  43,  44,  45,  46,  47,  48,  49,  50,  51,\n",
       "        52,  53,  54,  55,  56,  57,  58,  59,  60,  61,  62,  63,  64,\n",
       "        65,  66,  67,  68,  69,  70,  71,  72,  73,  74,  75,  76,  77,\n",
       "        78,  79,  80,  81,  82,  83,  84,  85,  86,  87,  88,  89,  90,\n",
       "        91,  92,  93,  94,  95,  96,  97,  98,  99, 100, 101, 102, 103,\n",
       "       104, 105, 106, 107, 108, 109, 110, 111, 112, 113, 114, 115, 116,\n",
       "       117, 118, 119, 120, 121, 122, 123, 124, 125, 126, 127, 128, 129])"
      ]
     },
     "execution_count": 23,
     "metadata": {},
     "output_type": "execute_result"
    }
   ],
   "source": [
    "inds"
   ]
  },
  {
   "cell_type": "code",
   "execution_count": 17,
   "metadata": {},
   "outputs": [
    {
     "data": {
      "text/plain": [
       "array([ 8.6 ,  9.94,  9.34,  9.77,  9.58,  9.37, 10.16,  9.64,  9.58,\n",
       "        8.8 ,  9.4 ,  9.91,  9.52,  9.45, 10.  ,  9.3 ,  9.18,  9.81,\n",
       "        9.9 ,  9.2 ,  9.85,  7.4 ,  9.59,  9.21,  8.7 ,  9.1 ,  9.67,\n",
       "        8.11,  9.9 ,  9.28, 10.29,  9.5 ,  9.26,  9.06,  9.46,  9.48,\n",
       "        9.69,  8.75, 10.18,  9.87,  9.32,  9.28,  9.3 ,  8.11,  9.3 ,\n",
       "        9.54,  8.44, 10.3 ,  9.44,  9.95,  9.05, 10.  ,  9.5 ,  8.1 ,\n",
       "        9.83, 10.02,  9.04,  8.95,  8.89, 10.46,  9.64,  9.75,  9.2 ,\n",
       "       10.12,  8.8 , 10.  ,  9.4 ,  8.9 ,  9.03,  9.89,  8.94, 10.04,\n",
       "       10.1 ,  9.72,  9.18, 10.39,  9.74,  9.86,  8.63,  8.9 ,  9.03,\n",
       "        9.64,  9.9 , 10.58,  9.77,  7.9 ,  9.5 ,  9.43,  9.07,  7.83,\n",
       "        9.  ,  7.83, 10.6 ,  8.01,  8.1 , 10.3 ,  8.9 ,  9.49,  9.3 ,\n",
       "       10.18,  7.73,  9.65,  9.32,  9.96,  9.46,  8.86,  8.35,  8.49,\n",
       "        8.8 , 10.12,  8.79,  9.69,  9.03,  9.43,  8.75,  9.55,  8.6 ,\n",
       "        9.18,  9.51,  8.5 , 10.16,  9.54,  9.43,  9.82,  9.07,  9.09,\n",
       "        9.34,  8.71,  8.21,  8.69,  8.95,  8.91,  8.4 ,  9.  ,  9.21,\n",
       "        9.19, 10.16,  8.98,  8.35,  7.46,  9.9 ,  9.  ,  9.  ,  8.8 ,\n",
       "        8.93,  9.96,  9.24, 10.2 , 10.4 , 10.3 ,  9.75,  9.35, 10.13,\n",
       "        8.6 ,  9.52,  9.18,  8.7 ,  9.91,  8.63,  9.35,  9.5 ,  8.84,\n",
       "        9.5 ,  8.4 ,  9.07,  9.8 ,  9.82, 10.9 ,  8.93, 10.54,  9.08,\n",
       "        8.2 ,  9.25,  9.33,  8.8 ,  9.24,  9.76,  9.23, 10.08,  9.5 ,\n",
       "        9.15,  8.93, 11.19,  9.3 ,  9.21,  9.7 ,  8.65,  8.19,  9.9 ,\n",
       "        8.6 ,  9.05,  9.72, 10.  ,  9.2 ,  8.62, 10.23, 10.13,  9.15,\n",
       "        8.77,  8.86,  8.95,  7.83,  9.95,  8.2 ,  9.59,  8.75,  9.35,\n",
       "        9.9 , 10.1 ,  9.4 ,  9.81, 10.5 , 10.  , 10.27, 10.19,  9.23,\n",
       "        9.67,  8.44,  8.11,  9.86,  8.2 ,  9.4 ,  9.86,  9.28,  9.8 ,\n",
       "       10.2 , 10.19,  7.4 ,  9.4 ,  9.91,  9.9 ,  8.8 ,  9.7 ,  9.58,\n",
       "        9.91, 10.5 ,  8.8 ,  9.31,  9.94, 10.  ,  7.14,  9.06,  8.9 ,\n",
       "       10.4 ,  9.75,  8.14,  9.74,  9.9 ,  9.29,  9.87,  8.49,  9.03,\n",
       "        9.5 ,  8.85,  9.06, 10.  ,  8.83,  9.91,  9.65,  9.65,  9.  ,\n",
       "        9.94,  9.3 , 10.12,  8.74,  9.6 ,  9.51,  9.32, 10.18,  9.49,\n",
       "       10.16,  9.91,  9.03,  9.09,  9.96,  8.4 ,  8.6 , 10.19,  9.  ,\n",
       "        9.21,  9.64,  9.74,  9.82,  8.93,  9.7 ,  9.23,  9.07,  7.14,\n",
       "        9.76, 10.  ,  8.02, 10.6 , 10.08, 10.7 ,  8.75,  8.63,  8.7 ,\n",
       "        8.49,  8.9 ,  9.4 ,  9.5 ,  9.18,  8.9 ,  9.33, 10.6 ,  9.  ,\n",
       "        9.35, 10.7 ,  8.6 ,  8.97,  9.6 ,  9.07,  7.4 ,  8.7 , 10.3 ,\n",
       "        8.3 ,  9.5 ,  8.75,  9.3 ,  8.09,  9.43,  9.5 ,  8.82,  9.58,\n",
       "        8.7 ,  9.64, 10.45,  9.46,  9.8 ,  9.34,  9.14, 10.28,  9.09,\n",
       "       10.9 ,  9.21,  8.02,  9.24,  8.92, 10.19,  8.6 ,  9.9 ,  9.74,\n",
       "        9.64,  8.82,  9.3 ,  9.31,  9.58, 10.16, 10.05,  9.95,  9.64,\n",
       "        9.43,  9.74, 10.  ,  9.76,  9.46,  8.97,  7.9 ,  8.92,  9.41,\n",
       "        9.35,  9.43,  9.81,  9.74,  9.74, 10.45,  8.31,  9.43,  9.2 ,\n",
       "        9.69,  9.8 ,  9.76,  8.8 ,  9.74, 10.6 ,  9.15,  8.6 ,  9.33,\n",
       "       10.34,  9.23,  9.6 , 10.34,  9.4 ,  7.4 , 10.3 ,  8.37,  8.7 ,\n",
       "        8.87,  9.35,  9.2 ,  7.9 ,  8.47,  9.65,  9.38,  7.73,  9.45,\n",
       "        9.09,  9.54,  9.3 ,  9.6 ,  9.49,  9.32,  9.14,  8.82, 11.14,\n",
       "        9.75,  9.94,  9.34,  9.4 ,  8.3 ,  8.8 ,  9.91,  9.39])"
      ]
     },
     "execution_count": 17,
     "metadata": {},
     "output_type": "execute_result"
    }
   ],
   "source": [
    "ft_off_bs"
   ]
  },
  {
   "cell_type": "code",
   "execution_count": 18,
   "metadata": {},
   "outputs": [
    {
     "data": {
      "text/plain": [
       "array([ 0,  1,  2,  3,  4,  5,  6,  7,  8,  9, 10, 11, 12])"
      ]
     },
     "execution_count": 18,
     "metadata": {},
     "output_type": "execute_result"
    }
   ],
   "source": [
    "x=np.arange(13)\n",
    "x"
   ]
  },
  {
   "cell_type": "code",
   "execution_count": 19,
   "metadata": {},
   "outputs": [
    {
     "data": {
      "text/plain": [
       "array([ 3,  4,  5,  6,  7,  8,  9, 10, 11, 12])"
      ]
     },
     "execution_count": 19,
     "metadata": {},
     "output_type": "execute_result"
    }
   ],
   "source": [
    "x[np.arange(3,13)]"
   ]
  },
  {
   "cell_type": "code",
   "execution_count": 40,
   "metadata": {},
   "outputs": [],
   "source": [
    "# sd\n",
    "sd_her_bs = np.empty(reps)\n",
    "inds = np.arange(len(sd_off))\n",
    "\n",
    "for i in range(reps):\n",
    "    \n",
    "    inds_bs = np.random.choice(inds,replace=True,size=len(sd_off))\n",
    "    sd_off_bs = sd_off[inds_bs]\n",
    "    sd_par_bs = sd_par[inds_bs]\n",
    "    \n",
    "    sd_her_bs[i] = np.cov(sd_off_bs,sd_par_bs)[0,1] / np.var(sd_par_bs)"
   ]
  },
  {
   "cell_type": "code",
   "execution_count": 41,
   "metadata": {},
   "outputs": [
    {
     "data": {
      "text/plain": [
       "(array([0.41144959, 0.65045815]), 1.0024271844660186)"
      ]
     },
     "execution_count": 41,
     "metadata": {},
     "output_type": "execute_result"
    }
   ],
   "source": [
    "# confidence intervals\n",
    "\n",
    "np.percentile(sd_her_bs,[2.5,97.5]), ft_her"
   ]
  },
  {
   "cell_type": "code",
   "execution_count": 22,
   "metadata": {},
   "outputs": [
    {
     "data": {
      "text/plain": [
       "(array([1.00775194, 1.00775194]), 1.007751937984496)"
      ]
     },
     "execution_count": 22,
     "metadata": {},
     "output_type": "execute_result"
    }
   ],
   "source": [
    "np.percentile(sd_her_bs,[2.5,97.5]), sd_her"
   ]
  }
 ],
 "metadata": {
  "kernelspec": {
   "display_name": "Python 3",
   "language": "python",
   "name": "python3"
  },
  "language_info": {
   "codemirror_mode": {
    "name": "ipython",
    "version": 3
   },
   "file_extension": ".py",
   "mimetype": "text/x-python",
   "name": "python",
   "nbconvert_exporter": "python",
   "pygments_lexer": "ipython3",
   "version": "3.6.5"
  }
 },
 "nbformat": 4,
 "nbformat_minor": 2
}
